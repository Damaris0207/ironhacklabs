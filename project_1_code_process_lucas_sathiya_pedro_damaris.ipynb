{
 "cells": [
  {
   "cell_type": "markdown",
   "id": "f6d2d951",
   "metadata": {},
   "source": [
    " # Project_1_One_Pager"
   ]
  },
  {
   "cell_type": "code",
   "execution_count": 177,
   "id": "a0b56602",
   "metadata": {},
   "outputs": [],
   "source": [
    "# Import libraries\n",
    "\n",
    "import re\n",
    "import pandas as pd \n",
    "import numpy as np"
   ]
  },
  {
   "cell_type": "code",
   "execution_count": 178,
   "id": "407e6796",
   "metadata": {},
   "outputs": [],
   "source": [
    "# Create DataFrame from .csv file with all data\n",
    "\n",
    "data = pd.read_csv('alldata.csv')"
   ]
  },
  {
   "cell_type": "code",
   "execution_count": 179,
   "id": "9dd12aa8",
   "metadata": {},
   "outputs": [
    {
     "name": "stdout",
     "output_type": "stream",
     "text": [
      "<class 'pandas.core.frame.DataFrame'>\n",
      "RangeIndex: 6964 entries, 0 to 6963\n",
      "Data columns (total 5 columns):\n",
      " #   Column       Non-Null Count  Dtype  \n",
      "---  ------       --------------  -----  \n",
      " 0   position     6953 non-null   object \n",
      " 1   company      6953 non-null   object \n",
      " 2   description  6953 non-null   object \n",
      " 3   reviews      5326 non-null   float64\n",
      " 4   location     6953 non-null   object \n",
      "dtypes: float64(1), object(4)\n",
      "memory usage: 272.2+ KB\n"
     ]
    }
   ],
   "source": [
    "# Quick look at number of records, data types and nulls\n",
    "\n",
    "data.info()"
   ]
  },
  {
   "cell_type": "code",
   "execution_count": 180,
   "id": "ee53c494",
   "metadata": {},
   "outputs": [
    {
     "data": {
      "text/html": [
       "<div>\n",
       "<style scoped>\n",
       "    .dataframe tbody tr th:only-of-type {\n",
       "        vertical-align: middle;\n",
       "    }\n",
       "\n",
       "    .dataframe tbody tr th {\n",
       "        vertical-align: top;\n",
       "    }\n",
       "\n",
       "    .dataframe thead th {\n",
       "        text-align: right;\n",
       "    }\n",
       "</style>\n",
       "<table border=\"1\" class=\"dataframe\">\n",
       "  <thead>\n",
       "    <tr style=\"text-align: right;\">\n",
       "      <th></th>\n",
       "      <th>position</th>\n",
       "      <th>company</th>\n",
       "      <th>description</th>\n",
       "      <th>reviews</th>\n",
       "      <th>location</th>\n",
       "    </tr>\n",
       "  </thead>\n",
       "  <tbody>\n",
       "    <tr>\n",
       "      <th>0</th>\n",
       "      <td>Development Director</td>\n",
       "      <td>ALS TDI</td>\n",
       "      <td>Development Director\\nALS Therapy Development ...</td>\n",
       "      <td>NaN</td>\n",
       "      <td>Atlanta, GA 30301</td>\n",
       "    </tr>\n",
       "    <tr>\n",
       "      <th>1</th>\n",
       "      <td>An Ostentatiously-Excitable Principal Research...</td>\n",
       "      <td>The Hexagon Lavish</td>\n",
       "      <td>Job Description\\n\\n\"The road that leads to acc...</td>\n",
       "      <td>NaN</td>\n",
       "      <td>Atlanta, GA</td>\n",
       "    </tr>\n",
       "    <tr>\n",
       "      <th>2</th>\n",
       "      <td>Data Scientist</td>\n",
       "      <td>Xpert Staffing</td>\n",
       "      <td>Growing company located in the Atlanta, GA are...</td>\n",
       "      <td>NaN</td>\n",
       "      <td>Atlanta, GA</td>\n",
       "    </tr>\n",
       "    <tr>\n",
       "      <th>3</th>\n",
       "      <td>Data Analyst</td>\n",
       "      <td>Operation HOPE</td>\n",
       "      <td>DEPARTMENT: Program OperationsPOSITION LOCATIO...</td>\n",
       "      <td>44.0</td>\n",
       "      <td>Atlanta, GA 30303</td>\n",
       "    </tr>\n",
       "    <tr>\n",
       "      <th>4</th>\n",
       "      <td>Assistant Professor -TT - Signal Processing &amp; ...</td>\n",
       "      <td>Emory University</td>\n",
       "      <td>DESCRIPTION\\nThe Emory University Department o...</td>\n",
       "      <td>550.0</td>\n",
       "      <td>Atlanta, GA</td>\n",
       "    </tr>\n",
       "  </tbody>\n",
       "</table>\n",
       "</div>"
      ],
      "text/plain": [
       "                                            position             company  \\\n",
       "0                               Development Director             ALS TDI   \n",
       "1  An Ostentatiously-Excitable Principal Research...  The Hexagon Lavish   \n",
       "2                                     Data Scientist      Xpert Staffing   \n",
       "3                                       Data Analyst      Operation HOPE   \n",
       "4  Assistant Professor -TT - Signal Processing & ...    Emory University   \n",
       "\n",
       "                                         description  reviews  \\\n",
       "0  Development Director\\nALS Therapy Development ...      NaN   \n",
       "1  Job Description\\n\\n\"The road that leads to acc...      NaN   \n",
       "2  Growing company located in the Atlanta, GA are...      NaN   \n",
       "3  DEPARTMENT: Program OperationsPOSITION LOCATIO...     44.0   \n",
       "4  DESCRIPTION\\nThe Emory University Department o...    550.0   \n",
       "\n",
       "             location  \n",
       "0  Atlanta, GA 30301   \n",
       "1         Atlanta, GA  \n",
       "2         Atlanta, GA  \n",
       "3  Atlanta, GA 30303   \n",
       "4         Atlanta, GA  "
      ]
     },
     "execution_count": 180,
     "metadata": {},
     "output_type": "execute_result"
    }
   ],
   "source": [
    "# Quick look at columns - no need to rename them!\n",
    "\n",
    "data.head()"
   ]
  },
  {
   "cell_type": "markdown",
   "id": "4684e14e",
   "metadata": {},
   "source": [
    "### First we will focus in the Categorical data"
   ]
  },
  {
   "cell_type": "markdown",
   "id": "39a7117f",
   "metadata": {},
   "source": [
    "#### \"location\" column:\n",
    "\n",
    "Break down location into separate columns that only contain \"state\" and \"city\""
   ]
  },
  {
   "cell_type": "code",
   "execution_count": 181,
   "id": "127d0ada",
   "metadata": {},
   "outputs": [
    {
     "data": {
      "text/html": [
       "<div>\n",
       "<style scoped>\n",
       "    .dataframe tbody tr th:only-of-type {\n",
       "        vertical-align: middle;\n",
       "    }\n",
       "\n",
       "    .dataframe tbody tr th {\n",
       "        vertical-align: top;\n",
       "    }\n",
       "\n",
       "    .dataframe thead th {\n",
       "        text-align: right;\n",
       "    }\n",
       "</style>\n",
       "<table border=\"1\" class=\"dataframe\">\n",
       "  <thead>\n",
       "    <tr style=\"text-align: right;\">\n",
       "      <th></th>\n",
       "      <th>0</th>\n",
       "    </tr>\n",
       "  </thead>\n",
       "  <tbody>\n",
       "    <tr>\n",
       "      <th>0</th>\n",
       "      <td>Atlanta, GA</td>\n",
       "    </tr>\n",
       "    <tr>\n",
       "      <th>1</th>\n",
       "      <td>Atlanta, GA</td>\n",
       "    </tr>\n",
       "    <tr>\n",
       "      <th>2</th>\n",
       "      <td>Atlanta, GA</td>\n",
       "    </tr>\n",
       "    <tr>\n",
       "      <th>3</th>\n",
       "      <td>Atlanta, GA</td>\n",
       "    </tr>\n",
       "    <tr>\n",
       "      <th>4</th>\n",
       "      <td>Atlanta, GA</td>\n",
       "    </tr>\n",
       "    <tr>\n",
       "      <th>...</th>\n",
       "      <td>...</td>\n",
       "    </tr>\n",
       "    <tr>\n",
       "      <th>6959</th>\n",
       "      <td>Sunnyvale, CA</td>\n",
       "    </tr>\n",
       "    <tr>\n",
       "      <th>6960</th>\n",
       "      <td>Sunnyvale, CA</td>\n",
       "    </tr>\n",
       "    <tr>\n",
       "      <th>6961</th>\n",
       "      <td>Sunnyvale, CA</td>\n",
       "    </tr>\n",
       "    <tr>\n",
       "      <th>6962</th>\n",
       "      <td>Sunnyvale, CA</td>\n",
       "    </tr>\n",
       "    <tr>\n",
       "      <th>6963</th>\n",
       "      <td>Sunnyvale, CA</td>\n",
       "    </tr>\n",
       "  </tbody>\n",
       "</table>\n",
       "<p>6964 rows × 1 columns</p>\n",
       "</div>"
      ],
      "text/plain": [
       "                  0\n",
       "0       Atlanta, GA\n",
       "1       Atlanta, GA\n",
       "2       Atlanta, GA\n",
       "3       Atlanta, GA\n",
       "4       Atlanta, GA\n",
       "...             ...\n",
       "6959  Sunnyvale, CA\n",
       "6960  Sunnyvale, CA\n",
       "6961  Sunnyvale, CA\n",
       "6962  Sunnyvale, CA\n",
       "6963  Sunnyvale, CA\n",
       "\n",
       "[6964 rows x 1 columns]"
      ]
     },
     "execution_count": 181,
     "metadata": {},
     "output_type": "execute_result"
    }
   ],
   "source": [
    "## First lets start working with the 'Position' column\n",
    "# Using Regex to search for Cities and States within the \"location\" column\n",
    "\n",
    "data['location'].str.extract(r'([\\D]+ ?[\\D]+, \\D\\D)')"
   ]
  },
  {
   "cell_type": "code",
   "execution_count": 182,
   "id": "a4c39716",
   "metadata": {},
   "outputs": [],
   "source": [
    "# Since we are happy with the result, we store it in a new column \"city,state\"\n",
    "\n",
    "data['city,state']=data['location'].str.extract(r'([\\D]+ ?[\\D]+, \\D\\D)')"
   ]
  },
  {
   "cell_type": "code",
   "execution_count": 183,
   "id": "77fa617b",
   "metadata": {},
   "outputs": [
    {
     "data": {
      "text/plain": [
       "0       GA\n",
       "1       GA\n",
       "2       GA\n",
       "3       GA\n",
       "4       GA\n",
       "        ..\n",
       "6959    CA\n",
       "6960    CA\n",
       "6961    CA\n",
       "6962    CA\n",
       "6963    CA\n",
       "Name: city,state, Length: 6964, dtype: object"
      ]
     },
     "execution_count": 183,
     "metadata": {},
     "output_type": "execute_result"
    }
   ],
   "source": [
    "# Now we want to isolate the State...\n",
    "\n",
    "data['city,state'].str[-2:]"
   ]
  },
  {
   "cell_type": "code",
   "execution_count": 184,
   "id": "774f3e56",
   "metadata": {},
   "outputs": [],
   "source": [
    "# Again, we are happy with the result so we store it in new column \"state\"\n",
    "\n",
    "data['state'] = data['city,state'].str[-2:]"
   ]
  },
  {
   "cell_type": "code",
   "execution_count": 185,
   "id": "ac7d92e5",
   "metadata": {},
   "outputs": [
    {
     "data": {
      "text/plain": [
       "0         Atlanta\n",
       "1         Atlanta\n",
       "2         Atlanta\n",
       "3         Atlanta\n",
       "4         Atlanta\n",
       "          ...    \n",
       "6959    Sunnyvale\n",
       "6960    Sunnyvale\n",
       "6961    Sunnyvale\n",
       "6962    Sunnyvale\n",
       "6963    Sunnyvale\n",
       "Name: city,state, Length: 6964, dtype: object"
      ]
     },
     "execution_count": 185,
     "metadata": {},
     "output_type": "execute_result"
    }
   ],
   "source": [
    "# Finally we want to isolate the city\n",
    "\n",
    "data['city,state'].str[:-4]"
   ]
  },
  {
   "cell_type": "code",
   "execution_count": 186,
   "id": "f2267d19",
   "metadata": {},
   "outputs": [],
   "source": [
    "# we are isolating and storing  it in a new column 'city'\n",
    "\n",
    "data['city']=data['city,state'].str[:-4]"
   ]
  },
  {
   "cell_type": "markdown",
   "id": "041a3b35",
   "metadata": {},
   "source": [
    "#### \"position\" column:\n",
    "\n",
    "Check if \"position\" can be broken down into 4 or 5 popular clusters, i.e: Data Analyst, Data Scientist, Data Engineer..."
   ]
  },
  {
   "cell_type": "code",
   "execution_count": 187,
   "id": "2b62e886",
   "metadata": {},
   "outputs": [
    {
     "data": {
      "text/plain": [
       "array(['Development Director',\n",
       "       'An Ostentatiously-Excitable Principal Research Assistant to Chief Scientist',\n",
       "       'Data Scientist', ..., 'Data Developer / Machine Learning Analyst',\n",
       "       'Intern Scientist', 'Principal Data Scientist, Deep Learning'],\n",
       "      dtype=object)"
      ]
     },
     "execution_count": 187,
     "metadata": {},
     "output_type": "execute_result"
    }
   ],
   "source": [
    "# Now lets start seperating the position according to the position title in seperate columns\n",
    "\n",
    "data['position'].unique()"
   ]
  },
  {
   "cell_type": "code",
   "execution_count": 188,
   "id": "bd7b6a1a",
   "metadata": {},
   "outputs": [],
   "source": [
    "# Trying to count Top 20 most popular words in \"position\" column to help with the clustering\n",
    "\n",
    "#from collections import Counter\n",
    "#Counter(\" \".join(data[\"position\"]).split()).most_common(20)"
   ]
  },
  {
   "cell_type": "code",
   "execution_count": 189,
   "id": "262cc0ee",
   "metadata": {},
   "outputs": [
    {
     "data": {
      "text/plain": [
       "'Data Scientist'"
      ]
     },
     "execution_count": 189,
     "metadata": {},
     "output_type": "execute_result"
    }
   ],
   "source": [
    "# Most popular value in \"position\" column\n",
    "\n",
    "data['position'].value_counts().idxmax()"
   ]
  },
  {
   "cell_type": "code",
   "execution_count": 190,
   "id": "87895019",
   "metadata": {},
   "outputs": [
    {
     "data": {
      "text/plain": [
       "0                     []\n",
       "1                     []\n",
       "2       [Data Scientist]\n",
       "3                     []\n",
       "4                     []\n",
       "              ...       \n",
       "6959                  []\n",
       "6960                  []\n",
       "6961                  []\n",
       "6962                  []\n",
       "6963    [Data Scientist]\n",
       "Name: position, Length: 6964, dtype: object"
      ]
     },
     "execution_count": 190,
     "metadata": {},
     "output_type": "execute_result"
    }
   ],
   "source": [
    "# We find all the rest \n",
    "\n",
    "data['position'].str.findall('data scientist',flags=re.IGNORECASE)"
   ]
  },
  {
   "cell_type": "markdown",
   "id": "99ac6b8c",
   "metadata": {},
   "source": [
    "### Creating new columns for different roles"
   ]
  },
  {
   "cell_type": "code",
   "execution_count": 191,
   "id": "dfc820ba",
   "metadata": {},
   "outputs": [
    {
     "ename": "TypeError",
     "evalue": "unhashable type: 'list'",
     "output_type": "error",
     "traceback": [
      "\u001b[1;31m---------------------------------------------------------------------------\u001b[0m",
      "\u001b[1;31mTypeError\u001b[0m                                 Traceback (most recent call last)",
      "\u001b[1;32mpandas\\_libs\\hashtable_class_helper.pxi\u001b[0m in \u001b[0;36mpandas._libs.hashtable.PyObjectHashTable.map_locations\u001b[1;34m()\u001b[0m\n",
      "\u001b[1;31mTypeError\u001b[0m: unhashable type: 'list'"
     ]
    },
    {
     "name": "stderr",
     "output_type": "stream",
     "text": [
      "Exception ignored in: 'pandas._libs.index.IndexEngine._call_map_locations'\n",
      "Traceback (most recent call last):\n",
      "  File \"pandas\\_libs\\hashtable_class_helper.pxi\", line 4588, in pandas._libs.hashtable.PyObjectHashTable.map_locations\n",
      "TypeError: unhashable type: 'list'\n"
     ]
    },
    {
     "data": {
      "text/plain": [
       "[]                                  5692\n",
       "[Data Scientist]                    1235\n",
       "[DATA SCIENTIST]                      14\n",
       "[Data Scientist, Data Scientist]       8\n",
       "[data scientist]                       2\n",
       "[DATA Scientist]                       1\n",
       "[DATA SCIENTIST, DATA SCIENTIST]       1\n",
       "Name: ds_yes, dtype: int64"
      ]
     },
     "execution_count": 191,
     "metadata": {},
     "output_type": "execute_result"
    }
   ],
   "source": [
    "# We find all the position asked Data Scientists and store it in a seperate column\n",
    "\n",
    "data['ds_yes'] = data['position'].str.findall('data scientist',flags=re.IGNORECASE)\n",
    "data['ds_yes'].value_counts()"
   ]
  },
  {
   "cell_type": "code",
   "execution_count": 192,
   "id": "34b4a4cb",
   "metadata": {},
   "outputs": [
    {
     "ename": "TypeError",
     "evalue": "unhashable type: 'list'",
     "output_type": "error",
     "traceback": [
      "\u001b[1;31m---------------------------------------------------------------------------\u001b[0m",
      "\u001b[1;31mTypeError\u001b[0m                                 Traceback (most recent call last)",
      "\u001b[1;32mpandas\\_libs\\hashtable_class_helper.pxi\u001b[0m in \u001b[0;36mpandas._libs.hashtable.PyObjectHashTable.map_locations\u001b[1;34m()\u001b[0m\n",
      "\u001b[1;31mTypeError\u001b[0m: unhashable type: 'list'"
     ]
    },
    {
     "name": "stderr",
     "output_type": "stream",
     "text": [
      "Exception ignored in: 'pandas._libs.index.IndexEngine._call_map_locations'\n",
      "Traceback (most recent call last):\n",
      "  File \"pandas\\_libs\\hashtable_class_helper.pxi\", line 4588, in pandas._libs.hashtable.PyObjectHashTable.map_locations\n",
      "TypeError: unhashable type: 'list'\n"
     ]
    },
    {
     "data": {
      "text/plain": [
       "[]                              6822\n",
       "[Data Analyst]                   123\n",
       "[DATA ANALYST]                     7\n",
       "[Data Analyst, Data Analyst]       1\n",
       "Name: da_yes, dtype: int64"
      ]
     },
     "execution_count": 192,
     "metadata": {},
     "output_type": "execute_result"
    }
   ],
   "source": [
    "# Data Analysts\n",
    "\n",
    "data['da_yes'] = data['position'].str.findall('data analyst',flags=re.IGNORECASE)\n",
    "data['da_yes'].value_counts()"
   ]
  },
  {
   "cell_type": "code",
   "execution_count": 193,
   "id": "880d45ed",
   "metadata": {},
   "outputs": [
    {
     "ename": "TypeError",
     "evalue": "unhashable type: 'list'",
     "output_type": "error",
     "traceback": [
      "\u001b[1;31m---------------------------------------------------------------------------\u001b[0m",
      "\u001b[1;31mTypeError\u001b[0m                                 Traceback (most recent call last)",
      "\u001b[1;32mpandas\\_libs\\hashtable_class_helper.pxi\u001b[0m in \u001b[0;36mpandas._libs.hashtable.PyObjectHashTable.map_locations\u001b[1;34m()\u001b[0m\n",
      "\u001b[1;31mTypeError\u001b[0m: unhashable type: 'list'"
     ]
    },
    {
     "name": "stderr",
     "output_type": "stream",
     "text": [
      "Exception ignored in: 'pandas._libs.index.IndexEngine._call_map_locations'\n",
      "Traceback (most recent call last):\n",
      "  File \"pandas\\_libs\\hashtable_class_helper.pxi\", line 4588, in pandas._libs.hashtable.PyObjectHashTable.map_locations\n",
      "TypeError: unhashable type: 'list'\n"
     ]
    },
    {
     "data": {
      "text/plain": [
       "[]                                6767\n",
       "[Data Engineer]                    181\n",
       "[DATA ENGINEER]                      4\n",
       "[Data Engineer, Data Engineer]       1\n",
       "Name: de_yes, dtype: int64"
      ]
     },
     "execution_count": 193,
     "metadata": {},
     "output_type": "execute_result"
    }
   ],
   "source": [
    "# Data Engineer\n",
    "\n",
    "data['de_yes'] = data['position'].str.findall('data engineer',flags=re.IGNORECASE)\n",
    "data['de_yes'].value_counts()"
   ]
  },
  {
   "cell_type": "code",
   "execution_count": 194,
   "id": "c4af3152",
   "metadata": {},
   "outputs": [
    {
     "data": {
      "text/html": [
       "<div>\n",
       "<style scoped>\n",
       "    .dataframe tbody tr th:only-of-type {\n",
       "        vertical-align: middle;\n",
       "    }\n",
       "\n",
       "    .dataframe tbody tr th {\n",
       "        vertical-align: top;\n",
       "    }\n",
       "\n",
       "    .dataframe thead th {\n",
       "        text-align: right;\n",
       "    }\n",
       "</style>\n",
       "<table border=\"1\" class=\"dataframe\">\n",
       "  <thead>\n",
       "    <tr style=\"text-align: right;\">\n",
       "      <th></th>\n",
       "      <th>position</th>\n",
       "      <th>company</th>\n",
       "      <th>description</th>\n",
       "      <th>reviews</th>\n",
       "      <th>location</th>\n",
       "      <th>city,state</th>\n",
       "      <th>state</th>\n",
       "      <th>city</th>\n",
       "      <th>ds_yes</th>\n",
       "      <th>da_yes</th>\n",
       "      <th>de_yes</th>\n",
       "    </tr>\n",
       "  </thead>\n",
       "  <tbody>\n",
       "    <tr>\n",
       "      <th>0</th>\n",
       "      <td>Development Director</td>\n",
       "      <td>ALS TDI</td>\n",
       "      <td>Development Director\\nALS Therapy Development ...</td>\n",
       "      <td>NaN</td>\n",
       "      <td>Atlanta, GA 30301</td>\n",
       "      <td>Atlanta, GA</td>\n",
       "      <td>GA</td>\n",
       "      <td>Atlanta</td>\n",
       "      <td>[]</td>\n",
       "      <td>[]</td>\n",
       "      <td>[]</td>\n",
       "    </tr>\n",
       "    <tr>\n",
       "      <th>1</th>\n",
       "      <td>An Ostentatiously-Excitable Principal Research...</td>\n",
       "      <td>The Hexagon Lavish</td>\n",
       "      <td>Job Description\\n\\n\"The road that leads to acc...</td>\n",
       "      <td>NaN</td>\n",
       "      <td>Atlanta, GA</td>\n",
       "      <td>Atlanta, GA</td>\n",
       "      <td>GA</td>\n",
       "      <td>Atlanta</td>\n",
       "      <td>[]</td>\n",
       "      <td>[]</td>\n",
       "      <td>[]</td>\n",
       "    </tr>\n",
       "    <tr>\n",
       "      <th>2</th>\n",
       "      <td>Data Scientist</td>\n",
       "      <td>Xpert Staffing</td>\n",
       "      <td>Growing company located in the Atlanta, GA are...</td>\n",
       "      <td>NaN</td>\n",
       "      <td>Atlanta, GA</td>\n",
       "      <td>Atlanta, GA</td>\n",
       "      <td>GA</td>\n",
       "      <td>Atlanta</td>\n",
       "      <td>[Data Scientist]</td>\n",
       "      <td>[]</td>\n",
       "      <td>[]</td>\n",
       "    </tr>\n",
       "    <tr>\n",
       "      <th>3</th>\n",
       "      <td>Data Analyst</td>\n",
       "      <td>Operation HOPE</td>\n",
       "      <td>DEPARTMENT: Program OperationsPOSITION LOCATIO...</td>\n",
       "      <td>44.0</td>\n",
       "      <td>Atlanta, GA 30303</td>\n",
       "      <td>Atlanta, GA</td>\n",
       "      <td>GA</td>\n",
       "      <td>Atlanta</td>\n",
       "      <td>[]</td>\n",
       "      <td>[Data Analyst]</td>\n",
       "      <td>[]</td>\n",
       "    </tr>\n",
       "    <tr>\n",
       "      <th>4</th>\n",
       "      <td>Assistant Professor -TT - Signal Processing &amp; ...</td>\n",
       "      <td>Emory University</td>\n",
       "      <td>DESCRIPTION\\nThe Emory University Department o...</td>\n",
       "      <td>550.0</td>\n",
       "      <td>Atlanta, GA</td>\n",
       "      <td>Atlanta, GA</td>\n",
       "      <td>GA</td>\n",
       "      <td>Atlanta</td>\n",
       "      <td>[]</td>\n",
       "      <td>[]</td>\n",
       "      <td>[]</td>\n",
       "    </tr>\n",
       "  </tbody>\n",
       "</table>\n",
       "</div>"
      ],
      "text/plain": [
       "                                            position             company  \\\n",
       "0                               Development Director             ALS TDI   \n",
       "1  An Ostentatiously-Excitable Principal Research...  The Hexagon Lavish   \n",
       "2                                     Data Scientist      Xpert Staffing   \n",
       "3                                       Data Analyst      Operation HOPE   \n",
       "4  Assistant Professor -TT - Signal Processing & ...    Emory University   \n",
       "\n",
       "                                         description  reviews  \\\n",
       "0  Development Director\\nALS Therapy Development ...      NaN   \n",
       "1  Job Description\\n\\n\"The road that leads to acc...      NaN   \n",
       "2  Growing company located in the Atlanta, GA are...      NaN   \n",
       "3  DEPARTMENT: Program OperationsPOSITION LOCATIO...     44.0   \n",
       "4  DESCRIPTION\\nThe Emory University Department o...    550.0   \n",
       "\n",
       "             location   city,state state     city            ds_yes  \\\n",
       "0  Atlanta, GA 30301   Atlanta, GA    GA  Atlanta                []   \n",
       "1         Atlanta, GA  Atlanta, GA    GA  Atlanta                []   \n",
       "2         Atlanta, GA  Atlanta, GA    GA  Atlanta  [Data Scientist]   \n",
       "3  Atlanta, GA 30303   Atlanta, GA    GA  Atlanta                []   \n",
       "4         Atlanta, GA  Atlanta, GA    GA  Atlanta                []   \n",
       "\n",
       "           da_yes de_yes  \n",
       "0              []     []  \n",
       "1              []     []  \n",
       "2              []     []  \n",
       "3  [Data Analyst]     []  \n",
       "4              []     []  "
      ]
     },
     "execution_count": 194,
     "metadata": {},
     "output_type": "execute_result"
    }
   ],
   "source": [
    "#We are looking on all the columns which we have created new\n",
    "data.head()"
   ]
  },
  {
   "cell_type": "markdown",
   "id": "00172146",
   "metadata": {},
   "source": [
    "## looking at clustering \"position\" based on level of seniority"
   ]
  },
  {
   "cell_type": "code",
   "execution_count": 195,
   "id": "d2fc1bb6",
   "metadata": {},
   "outputs": [],
   "source": [
    "# position Junior\n",
    "data['position'].str.findall('Junior', flags=re.IGNORECASE)\n",
    "data['junior']=data['position'].str.findall('junior', flags=re.IGNORECASE)"
   ]
  },
  {
   "cell_type": "code",
   "execution_count": 196,
   "id": "9238f0d4",
   "metadata": {},
   "outputs": [
    {
     "ename": "TypeError",
     "evalue": "unhashable type: 'list'",
     "output_type": "error",
     "traceback": [
      "\u001b[1;31m---------------------------------------------------------------------------\u001b[0m",
      "\u001b[1;31mTypeError\u001b[0m                                 Traceback (most recent call last)",
      "\u001b[1;32mpandas\\_libs\\hashtable_class_helper.pxi\u001b[0m in \u001b[0;36mpandas._libs.hashtable.PyObjectHashTable.map_locations\u001b[1;34m()\u001b[0m\n",
      "\u001b[1;31mTypeError\u001b[0m: unhashable type: 'list'"
     ]
    },
    {
     "name": "stderr",
     "output_type": "stream",
     "text": [
      "Exception ignored in: 'pandas._libs.index.IndexEngine._call_map_locations'\n",
      "Traceback (most recent call last):\n",
      "  File \"pandas\\_libs\\hashtable_class_helper.pxi\", line 4588, in pandas._libs.hashtable.PyObjectHashTable.map_locations\n",
      "TypeError: unhashable type: 'list'\n"
     ]
    },
    {
     "data": {
      "text/plain": [
       "[]          6916\n",
       "[Junior]      37\n",
       "Name: junior, dtype: int64"
      ]
     },
     "execution_count": 196,
     "metadata": {},
     "output_type": "execute_result"
    }
   ],
   "source": [
    "data['junior'].value_counts()"
   ]
  },
  {
   "cell_type": "code",
   "execution_count": 197,
   "id": "e11658a5",
   "metadata": {},
   "outputs": [
    {
     "ename": "TypeError",
     "evalue": "unhashable type: 'list'",
     "output_type": "error",
     "traceback": [
      "\u001b[1;31m---------------------------------------------------------------------------\u001b[0m",
      "\u001b[1;31mTypeError\u001b[0m                                 Traceback (most recent call last)",
      "\u001b[1;32mpandas\\_libs\\hashtable_class_helper.pxi\u001b[0m in \u001b[0;36mpandas._libs.hashtable.PyObjectHashTable.map_locations\u001b[1;34m()\u001b[0m\n",
      "\u001b[1;31mTypeError\u001b[0m: unhashable type: 'list'"
     ]
    },
    {
     "name": "stderr",
     "output_type": "stream",
     "text": [
      "Exception ignored in: 'pandas._libs.index.IndexEngine._call_map_locations'\n",
      "Traceback (most recent call last):\n",
      "  File \"pandas\\_libs\\hashtable_class_helper.pxi\", line 4588, in pandas._libs.hashtable.PyObjectHashTable.map_locations\n",
      "TypeError: unhashable type: 'list'\n"
     ]
    },
    {
     "data": {
      "text/plain": [
       "[]                  5897\n",
       "[Senior]            1036\n",
       "[SENIOR]              15\n",
       "[Senior, Senior]       3\n",
       "[senior]               2\n",
       "Name: senior, dtype: int64"
      ]
     },
     "execution_count": 197,
     "metadata": {},
     "output_type": "execute_result"
    }
   ],
   "source": [
    "# Senior\n",
    "data['senior']=data['position'].str.findall('senior', flags=re.IGNORECASE)\n",
    "data['senior'].value_counts()"
   ]
  },
  {
   "cell_type": "code",
   "execution_count": 198,
   "id": "7eaa9623",
   "metadata": {},
   "outputs": [
    {
     "ename": "TypeError",
     "evalue": "unhashable type: 'list'",
     "output_type": "error",
     "traceback": [
      "\u001b[1;31m---------------------------------------------------------------------------\u001b[0m",
      "\u001b[1;31mTypeError\u001b[0m                                 Traceback (most recent call last)",
      "\u001b[1;32mpandas\\_libs\\hashtable_class_helper.pxi\u001b[0m in \u001b[0;36mpandas._libs.hashtable.PyObjectHashTable.map_locations\u001b[1;34m()\u001b[0m\n",
      "\u001b[1;31mTypeError\u001b[0m: unhashable type: 'list'"
     ]
    },
    {
     "name": "stderr",
     "output_type": "stream",
     "text": [
      "Exception ignored in: 'pandas._libs.index.IndexEngine._call_map_locations'\n",
      "Traceback (most recent call last):\n",
      "  File \"pandas\\_libs\\hashtable_class_helper.pxi\", line 4588, in pandas._libs.hashtable.PyObjectHashTable.map_locations\n",
      "TypeError: unhashable type: 'list'\n"
     ]
    },
    {
     "data": {
      "text/plain": [
       "[]           6398\n",
       "[Manager]     543\n",
       "[MANAGER]      12\n",
       "Name: manager, dtype: int64"
      ]
     },
     "execution_count": 198,
     "metadata": {},
     "output_type": "execute_result"
    }
   ],
   "source": [
    "#Manager\n",
    "data['manager']=data['position'].str.findall('manager', flags=re.IGNORECASE)\n",
    "data['manager'].value_counts()"
   ]
  },
  {
   "cell_type": "code",
   "execution_count": 199,
   "id": "a710d5f3",
   "metadata": {},
   "outputs": [
    {
     "ename": "TypeError",
     "evalue": "unhashable type: 'list'",
     "output_type": "error",
     "traceback": [
      "\u001b[1;31m---------------------------------------------------------------------------\u001b[0m",
      "\u001b[1;31mTypeError\u001b[0m                                 Traceback (most recent call last)",
      "\u001b[1;32mpandas\\_libs\\hashtable_class_helper.pxi\u001b[0m in \u001b[0;36mpandas._libs.hashtable.PyObjectHashTable.map_locations\u001b[1;34m()\u001b[0m\n",
      "\u001b[1;31mTypeError\u001b[0m: unhashable type: 'list'"
     ]
    },
    {
     "name": "stderr",
     "output_type": "stream",
     "text": [
      "Exception ignored in: 'pandas._libs.index.IndexEngine._call_map_locations'\n",
      "Traceback (most recent call last):\n",
      "  File \"pandas\\_libs\\hashtable_class_helper.pxi\", line 4588, in pandas._libs.hashtable.PyObjectHashTable.map_locations\n",
      "TypeError: unhashable type: 'list'\n"
     ]
    },
    {
     "data": {
      "text/plain": [
       "[]                      6692\n",
       "[Director]               249\n",
       "[Director, Director]       6\n",
       "[DIRECTOR]                 5\n",
       "[director]                 1\n",
       "Name: director, dtype: int64"
      ]
     },
     "execution_count": 199,
     "metadata": {},
     "output_type": "execute_result"
    }
   ],
   "source": [
    "#Director\n",
    "data['director']=data['position'].str.findall('director', flags=re.IGNORECASE)\n",
    "data['director'].value_counts()"
   ]
  },
  {
   "cell_type": "code",
   "execution_count": 200,
   "id": "5b633caa",
   "metadata": {},
   "outputs": [
    {
     "ename": "TypeError",
     "evalue": "unhashable type: 'list'",
     "output_type": "error",
     "traceback": [
      "\u001b[1;31m---------------------------------------------------------------------------\u001b[0m",
      "\u001b[1;31mTypeError\u001b[0m                                 Traceback (most recent call last)",
      "\u001b[1;32mpandas\\_libs\\hashtable_class_helper.pxi\u001b[0m in \u001b[0;36mpandas._libs.hashtable.PyObjectHashTable.map_locations\u001b[1;34m()\u001b[0m\n",
      "\u001b[1;31mTypeError\u001b[0m: unhashable type: 'list'"
     ]
    },
    {
     "name": "stderr",
     "output_type": "stream",
     "text": [
      "Exception ignored in: 'pandas._libs.index.IndexEngine._call_map_locations'\n",
      "Traceback (most recent call last):\n",
      "  File \"pandas\\_libs\\hashtable_class_helper.pxi\", line 4588, in pandas._libs.hashtable.PyObjectHashTable.map_locations\n",
      "TypeError: unhashable type: 'list'\n"
     ]
    },
    {
     "data": {
      "text/plain": [
       "[]             6947\n",
       "[Professor]       5\n",
       "[PROFESSOR]       1\n",
       "Name: professor, dtype: int64"
      ]
     },
     "execution_count": 200,
     "metadata": {},
     "output_type": "execute_result"
    }
   ],
   "source": [
    "#Professor\n",
    "data['professor']=data['position'].str.findall('professor', flags=re.IGNORECASE)\n",
    "data['professor'].value_counts()"
   ]
  },
  {
   "cell_type": "code",
   "execution_count": 201,
   "id": "3f43b93a",
   "metadata": {},
   "outputs": [
    {
     "ename": "TypeError",
     "evalue": "unhashable type: 'list'",
     "output_type": "error",
     "traceback": [
      "\u001b[1;31m---------------------------------------------------------------------------\u001b[0m",
      "\u001b[1;31mTypeError\u001b[0m                                 Traceback (most recent call last)",
      "\u001b[1;32mpandas\\_libs\\hashtable_class_helper.pxi\u001b[0m in \u001b[0;36mpandas._libs.hashtable.PyObjectHashTable.map_locations\u001b[1;34m()\u001b[0m\n",
      "\u001b[1;31mTypeError\u001b[0m: unhashable type: 'list'"
     ]
    },
    {
     "name": "stderr",
     "output_type": "stream",
     "text": [
      "Exception ignored in: 'pandas._libs.index.IndexEngine._call_map_locations'\n",
      "Traceback (most recent call last):\n",
      "  File \"pandas\\_libs\\hashtable_class_helper.pxi\", line 4588, in pandas._libs.hashtable.PyObjectHashTable.map_locations\n",
      "TypeError: unhashable type: 'list'\n"
     ]
    },
    {
     "data": {
      "text/plain": [
       "[]              6889\n",
       "[Researcher]      60\n",
       "[RESEARCHER]       4\n",
       "Name: researcher, dtype: int64"
      ]
     },
     "execution_count": 201,
     "metadata": {},
     "output_type": "execute_result"
    }
   ],
   "source": [
    "# Researcher\n",
    "data['researcher']=data['position'].str.findall('researcher', flags=re.IGNORECASE)\n",
    "data['researcher'].value_counts()"
   ]
  },
  {
   "cell_type": "code",
   "execution_count": 202,
   "id": "c9c8f208",
   "metadata": {},
   "outputs": [
    {
     "ename": "TypeError",
     "evalue": "unhashable type: 'list'",
     "output_type": "error",
     "traceback": [
      "\u001b[1;31m---------------------------------------------------------------------------\u001b[0m",
      "\u001b[1;31mTypeError\u001b[0m                                 Traceback (most recent call last)",
      "\u001b[1;32mpandas\\_libs\\hashtable_class_helper.pxi\u001b[0m in \u001b[0;36mpandas._libs.hashtable.PyObjectHashTable.map_locations\u001b[1;34m()\u001b[0m\n",
      "\u001b[1;31mTypeError\u001b[0m: unhashable type: 'list'"
     ]
    },
    {
     "name": "stderr",
     "output_type": "stream",
     "text": [
      "Exception ignored in: 'pandas._libs.index.IndexEngine._call_map_locations'\n",
      "Traceback (most recent call last):\n",
      "  File \"pandas\\_libs\\hashtable_class_helper.pxi\", line 4588, in pandas._libs.hashtable.PyObjectHashTable.map_locations\n",
      "TypeError: unhashable type: 'list'\n"
     ]
    },
    {
     "data": {
      "text/plain": [
       "[]        6688\n",
       "[Lead]     260\n",
       "[LEAD]       5\n",
       "Name: lead, dtype: int64"
      ]
     },
     "execution_count": 202,
     "metadata": {},
     "output_type": "execute_result"
    }
   ],
   "source": [
    "# Lead\n",
    "data['lead']=data['position'].str.findall('lead', flags=re.IGNORECASE)\n",
    "data['lead'].value_counts()"
   ]
  },
  {
   "cell_type": "code",
   "execution_count": 203,
   "id": "a5c10b60",
   "metadata": {},
   "outputs": [
    {
     "ename": "TypeError",
     "evalue": "unhashable type: 'list'",
     "output_type": "error",
     "traceback": [
      "\u001b[1;31m---------------------------------------------------------------------------\u001b[0m",
      "\u001b[1;31mTypeError\u001b[0m                                 Traceback (most recent call last)",
      "\u001b[1;32mpandas\\_libs\\hashtable_class_helper.pxi\u001b[0m in \u001b[0;36mpandas._libs.hashtable.PyObjectHashTable.map_locations\u001b[1;34m()\u001b[0m\n",
      "\u001b[1;31mTypeError\u001b[0m: unhashable type: 'list'"
     ]
    },
    {
     "name": "stderr",
     "output_type": "stream",
     "text": [
      "Exception ignored in: 'pandas._libs.index.IndexEngine._call_map_locations'\n",
      "Traceback (most recent call last):\n",
      "  File \"pandas\\_libs\\hashtable_class_helper.pxi\", line 4588, in pandas._libs.hashtable.PyObjectHashTable.map_locations\n",
      "TypeError: unhashable type: 'list'\n"
     ]
    },
    {
     "data": {
      "text/plain": [
       "[]                        6839\n",
       "[Assistant]                 91\n",
       "[ASSISTANT]                 21\n",
       "[assistant]                  1\n",
       "[Assistant, Assistant]       1\n",
       "Name: assistant, dtype: int64"
      ]
     },
     "execution_count": 203,
     "metadata": {},
     "output_type": "execute_result"
    }
   ],
   "source": [
    "#Assistant\n",
    "data['assistant']=data['position'].str.findall('assistant', flags=re.IGNORECASE)\n",
    "data['assistant'].value_counts()"
   ]
  },
  {
   "cell_type": "code",
   "execution_count": 204,
   "id": "12047be5",
   "metadata": {},
   "outputs": [
    {
     "ename": "TypeError",
     "evalue": "unhashable type: 'list'",
     "output_type": "error",
     "traceback": [
      "\u001b[1;31m---------------------------------------------------------------------------\u001b[0m",
      "\u001b[1;31mTypeError\u001b[0m                                 Traceback (most recent call last)",
      "\u001b[1;32mpandas\\_libs\\hashtable_class_helper.pxi\u001b[0m in \u001b[0;36mpandas._libs.hashtable.PyObjectHashTable.map_locations\u001b[1;34m()\u001b[0m\n",
      "\u001b[1;31mTypeError\u001b[0m: unhashable type: 'list'"
     ]
    },
    {
     "name": "stderr",
     "output_type": "stream",
     "text": [
      "Exception ignored in: 'pandas._libs.index.IndexEngine._call_map_locations'\n",
      "Traceback (most recent call last):\n",
      "  File \"pandas\\_libs\\hashtable_class_helper.pxi\", line 4588, in pandas._libs.hashtable.PyObjectHashTable.map_locations\n",
      "TypeError: unhashable type: 'list'\n"
     ]
    },
    {
     "data": {
      "text/plain": [
       "[]                      5599\n",
       "[Engineer]              1301\n",
       "[Engineer, Engineer]      29\n",
       "[ENGINEER]                17\n",
       "[engineer]                 7\n",
       "Name: engineer, dtype: int64"
      ]
     },
     "execution_count": 204,
     "metadata": {},
     "output_type": "execute_result"
    }
   ],
   "source": [
    "#Engineer\n",
    "data['engineer']=data['position'].str.findall('engineer', flags=re.IGNORECASE)\n",
    "data['engineer'].value_counts()"
   ]
  },
  {
   "cell_type": "code",
   "execution_count": 205,
   "id": "ddef9476",
   "metadata": {},
   "outputs": [],
   "source": [
    "#senior\n",
    "data['senior']=data['senior'].apply(str)"
   ]
  },
  {
   "cell_type": "code",
   "execution_count": 206,
   "id": "0257ef66",
   "metadata": {},
   "outputs": [],
   "source": [
    "#manager\n",
    "data['manager']=data['manager'].apply(str)"
   ]
  },
  {
   "cell_type": "code",
   "execution_count": 207,
   "id": "4d573b69",
   "metadata": {},
   "outputs": [],
   "source": [
    "#director\n",
    "data['director']=data['director'].apply(str)"
   ]
  },
  {
   "cell_type": "code",
   "execution_count": 208,
   "id": "f6c1c3ba",
   "metadata": {},
   "outputs": [],
   "source": [
    "#engineer\n",
    "data['engineer']=data['engineer'].apply(str)"
   ]
  },
  {
   "cell_type": "code",
   "execution_count": 209,
   "id": "4d99cd6e",
   "metadata": {},
   "outputs": [],
   "source": [
    "#junior\n",
    "data['junior']=data['junior'].apply(str)"
   ]
  },
  {
   "cell_type": "code",
   "execution_count": 210,
   "id": "daf7cc3a",
   "metadata": {},
   "outputs": [],
   "source": [
    "# We created new column according to the information we have received\n",
    "data['senior_clean']=data['senior'].str.contains('senior') | data['senior'].str.contains('Senior') | data['senior'].str.contains('SENIOR') | data['senior'].str.contains('Senior, Senior')"
   ]
  },
  {
   "cell_type": "code",
   "execution_count": 211,
   "id": "c3f04317",
   "metadata": {},
   "outputs": [],
   "source": [
    "# new_column 'manager_clean'\n",
    "data['manager_clean']=data['manager'].str.contains('Manager') | data['manager'].str.contains('MANAGER')"
   ]
  },
  {
   "cell_type": "code",
   "execution_count": 212,
   "id": "7457cd0a",
   "metadata": {},
   "outputs": [],
   "source": [
    "#new_column 'director_clean'\n",
    "data['director_clean']=data['director'].str.contains('director') | data['director'].str.contains('Director') | data['director'].str.contains('DIRECTOR') | data['director'].str.contains('Director, Director')"
   ]
  },
  {
   "cell_type": "code",
   "execution_count": 213,
   "id": "fddbe3e3",
   "metadata": {},
   "outputs": [
    {
     "data": {
      "text/plain": [
       "False    5627\n",
       "True     1337\n",
       "Name: engineer_clean, dtype: int64"
      ]
     },
     "execution_count": 213,
     "metadata": {},
     "output_type": "execute_result"
    }
   ],
   "source": [
    "#new_column 'engineer_clean'\n",
    "data['engineer_clean']=data['engineer'].str.contains('engineer') | data['engineer'].str.contains('Engineer') | data['director'].str.contains('ENGINEER') | data['director'].str.contains('Engineer, Engineer')\n",
    "data['engineer_clean'].value_counts()"
   ]
  },
  {
   "cell_type": "code",
   "execution_count": 214,
   "id": "1833bf86",
   "metadata": {},
   "outputs": [],
   "source": [
    "data['junior_clean']=data['junior'].str.contains('Junior')"
   ]
  },
  {
   "cell_type": "code",
   "execution_count": 215,
   "id": "9dae2285",
   "metadata": {},
   "outputs": [
    {
     "data": {
      "text/plain": [
       "False    6409\n",
       "True      555\n",
       "Name: manager_clean, dtype: int64"
      ]
     },
     "execution_count": 215,
     "metadata": {},
     "output_type": "execute_result"
    }
   ],
   "source": [
    "data['manager_clean'].value_counts()"
   ]
  },
  {
   "cell_type": "code",
   "execution_count": 216,
   "id": "ea94023a",
   "metadata": {},
   "outputs": [
    {
     "data": {
      "text/plain": [
       "False    6703\n",
       "True      261\n",
       "Name: director_clean, dtype: int64"
      ]
     },
     "execution_count": 216,
     "metadata": {},
     "output_type": "execute_result"
    }
   ],
   "source": [
    "data['director_clean'].value_counts()"
   ]
  },
  {
   "cell_type": "code",
   "execution_count": 217,
   "id": "eb9be888",
   "metadata": {},
   "outputs": [
    {
     "data": {
      "text/plain": [
       "False    6927\n",
       "True       37\n",
       "Name: junior_clean, dtype: int64"
      ]
     },
     "execution_count": 217,
     "metadata": {},
     "output_type": "execute_result"
    }
   ],
   "source": [
    "data['junior_clean'].value_counts()"
   ]
  },
  {
   "cell_type": "code",
   "execution_count": 218,
   "id": "4300502d",
   "metadata": {},
   "outputs": [],
   "source": [
    "# We are trying to check the positions according to seniority\n",
    "seniority=pd.concat([data['senior_clean'], data['manager_clean'], data['director_clean'], data['engineer_clean'], data['junior_clean']],axis=1)"
   ]
  },
  {
   "cell_type": "code",
   "execution_count": 219,
   "id": "c356c05b",
   "metadata": {},
   "outputs": [
    {
     "data": {
      "text/html": [
       "<div>\n",
       "<style scoped>\n",
       "    .dataframe tbody tr th:only-of-type {\n",
       "        vertical-align: middle;\n",
       "    }\n",
       "\n",
       "    .dataframe tbody tr th {\n",
       "        vertical-align: top;\n",
       "    }\n",
       "\n",
       "    .dataframe thead th {\n",
       "        text-align: right;\n",
       "    }\n",
       "</style>\n",
       "<table border=\"1\" class=\"dataframe\">\n",
       "  <thead>\n",
       "    <tr style=\"text-align: right;\">\n",
       "      <th></th>\n",
       "      <th>senior_clean</th>\n",
       "      <th>manager_clean</th>\n",
       "      <th>director_clean</th>\n",
       "      <th>engineer_clean</th>\n",
       "      <th>junior_clean</th>\n",
       "    </tr>\n",
       "  </thead>\n",
       "  <tbody>\n",
       "    <tr>\n",
       "      <th>0</th>\n",
       "      <td>False</td>\n",
       "      <td>False</td>\n",
       "      <td>True</td>\n",
       "      <td>False</td>\n",
       "      <td>False</td>\n",
       "    </tr>\n",
       "    <tr>\n",
       "      <th>1</th>\n",
       "      <td>False</td>\n",
       "      <td>False</td>\n",
       "      <td>False</td>\n",
       "      <td>False</td>\n",
       "      <td>False</td>\n",
       "    </tr>\n",
       "    <tr>\n",
       "      <th>2</th>\n",
       "      <td>False</td>\n",
       "      <td>False</td>\n",
       "      <td>False</td>\n",
       "      <td>False</td>\n",
       "      <td>False</td>\n",
       "    </tr>\n",
       "    <tr>\n",
       "      <th>3</th>\n",
       "      <td>False</td>\n",
       "      <td>False</td>\n",
       "      <td>False</td>\n",
       "      <td>False</td>\n",
       "      <td>False</td>\n",
       "    </tr>\n",
       "    <tr>\n",
       "      <th>4</th>\n",
       "      <td>False</td>\n",
       "      <td>False</td>\n",
       "      <td>False</td>\n",
       "      <td>False</td>\n",
       "      <td>False</td>\n",
       "    </tr>\n",
       "    <tr>\n",
       "      <th>5</th>\n",
       "      <td>False</td>\n",
       "      <td>True</td>\n",
       "      <td>False</td>\n",
       "      <td>True</td>\n",
       "      <td>False</td>\n",
       "    </tr>\n",
       "    <tr>\n",
       "      <th>6</th>\n",
       "      <td>False</td>\n",
       "      <td>False</td>\n",
       "      <td>False</td>\n",
       "      <td>False</td>\n",
       "      <td>False</td>\n",
       "    </tr>\n",
       "    <tr>\n",
       "      <th>7</th>\n",
       "      <td>False</td>\n",
       "      <td>False</td>\n",
       "      <td>False</td>\n",
       "      <td>True</td>\n",
       "      <td>True</td>\n",
       "    </tr>\n",
       "    <tr>\n",
       "      <th>8</th>\n",
       "      <td>False</td>\n",
       "      <td>False</td>\n",
       "      <td>False</td>\n",
       "      <td>False</td>\n",
       "      <td>False</td>\n",
       "    </tr>\n",
       "    <tr>\n",
       "      <th>9</th>\n",
       "      <td>True</td>\n",
       "      <td>False</td>\n",
       "      <td>False</td>\n",
       "      <td>False</td>\n",
       "      <td>False</td>\n",
       "    </tr>\n",
       "  </tbody>\n",
       "</table>\n",
       "</div>"
      ],
      "text/plain": [
       "   senior_clean  manager_clean  director_clean  engineer_clean  junior_clean\n",
       "0         False          False            True           False         False\n",
       "1         False          False           False           False         False\n",
       "2         False          False           False           False         False\n",
       "3         False          False           False           False         False\n",
       "4         False          False           False           False         False\n",
       "5         False           True           False            True         False\n",
       "6         False          False           False           False         False\n",
       "7         False          False           False            True          True\n",
       "8         False          False           False           False         False\n",
       "9          True          False           False           False         False"
      ]
     },
     "execution_count": 219,
     "metadata": {},
     "output_type": "execute_result"
    }
   ],
   "source": [
    "seniority.head(10)"
   ]
  },
  {
   "cell_type": "code",
   "execution_count": 220,
   "id": "af78c846",
   "metadata": {},
   "outputs": [],
   "source": [
    "# Extrected the jobs those requires phd,master, and bachelor\n",
    "data['phd']=data['description'].str.findall('phd', flags=re.IGNORECASE)"
   ]
  },
  {
   "cell_type": "code",
   "execution_count": 221,
   "id": "b501dbb0",
   "metadata": {},
   "outputs": [],
   "source": [
    "data['bachelor']=data['description'].str.findall('bachelor', flags=re.IGNORECASE)"
   ]
  },
  {
   "cell_type": "code",
   "execution_count": 222,
   "id": "6c802d77",
   "metadata": {},
   "outputs": [],
   "source": [
    "data['master']=data['description'].str.findall('master', flags=re.IGNORECASE)"
   ]
  },
  {
   "cell_type": "code",
   "execution_count": 223,
   "id": "457141f6",
   "metadata": {},
   "outputs": [],
   "source": [
    "data['phd']=data['phd'].apply(str)"
   ]
  },
  {
   "cell_type": "code",
   "execution_count": 224,
   "id": "65736e9f",
   "metadata": {},
   "outputs": [],
   "source": [
    "data[\"bachelor\"]=data[\"bachelor\"].apply(str)"
   ]
  },
  {
   "cell_type": "code",
   "execution_count": 225,
   "id": "25fd1726",
   "metadata": {},
   "outputs": [],
   "source": [
    "data[\"master\"]=data[\"master\"].apply(str)"
   ]
  },
  {
   "cell_type": "code",
   "execution_count": 226,
   "id": "efb7f1d7",
   "metadata": {},
   "outputs": [],
   "source": [
    "data['phd_clean']=data['phd'].str.contains('phd') | data['phd'].str.contains('Phd') | data['phd'].str.contains('PhD') | data['phd'].str.contains('PHD')"
   ]
  },
  {
   "cell_type": "code",
   "execution_count": 227,
   "id": "b3d07a6e",
   "metadata": {},
   "outputs": [],
   "source": [
    "data['bachelor_clean']=data['bachelor'].str.contains('bachelor') | data['bachelor'].str.contains('Bachelor') | data['bachelor'].str.contains('BACHELOR')"
   ]
  },
  {
   "cell_type": "code",
   "execution_count": 228,
   "id": "943b96d8",
   "metadata": {},
   "outputs": [],
   "source": [
    "data['master_clean']=data['master'].str.contains('Master') | data['master'].str.contains('master') | data['master'].str.contains('MASTER')"
   ]
  },
  {
   "cell_type": "code",
   "execution_count": 229,
   "id": "111068a7",
   "metadata": {},
   "outputs": [
    {
     "data": {
      "text/plain": [
       "False    5242\n",
       "True     1722\n",
       "Name: phd_clean, dtype: int64"
      ]
     },
     "execution_count": 229,
     "metadata": {},
     "output_type": "execute_result"
    }
   ],
   "source": [
    "data['phd_clean'].value_counts()"
   ]
  },
  {
   "cell_type": "code",
   "execution_count": 230,
   "id": "a64279de",
   "metadata": {},
   "outputs": [
    {
     "data": {
      "text/plain": [
       "False    4844\n",
       "True     2120\n",
       "Name: bachelor_clean, dtype: int64"
      ]
     },
     "execution_count": 230,
     "metadata": {},
     "output_type": "execute_result"
    }
   ],
   "source": [
    "data['bachelor_clean'].value_counts()"
   ]
  },
  {
   "cell_type": "code",
   "execution_count": 231,
   "id": "2485971b",
   "metadata": {},
   "outputs": [
    {
     "data": {
      "text/plain": [
       "False    4915\n",
       "True     2049\n",
       "Name: master_clean, dtype: int64"
      ]
     },
     "execution_count": 231,
     "metadata": {},
     "output_type": "execute_result"
    }
   ],
   "source": [
    "data['master_clean'].value_counts()"
   ]
  },
  {
   "cell_type": "code",
   "execution_count": 232,
   "id": "3fa3831c",
   "metadata": {},
   "outputs": [
    {
     "data": {
      "text/plain": [
       "False    6703\n",
       "True      261\n",
       "Name: director_clean, dtype: int64"
      ]
     },
     "execution_count": 232,
     "metadata": {},
     "output_type": "execute_result"
    }
   ],
   "source": [
    "data['director_clean'].value_counts()"
   ]
  },
  {
   "cell_type": "code",
   "execution_count": 233,
   "id": "25cf8c51",
   "metadata": {},
   "outputs": [
    {
     "data": {
      "text/plain": [
       "False    5242\n",
       "True     1722\n",
       "Name: phd_clean, dtype: int64"
      ]
     },
     "execution_count": 233,
     "metadata": {},
     "output_type": "execute_result"
    }
   ],
   "source": [
    "data['phd_clean'].value_counts()"
   ]
  },
  {
   "cell_type": "code",
   "execution_count": 234,
   "id": "fdd47e98",
   "metadata": {},
   "outputs": [
    {
     "data": {
      "text/html": [
       "<div>\n",
       "<style scoped>\n",
       "    .dataframe tbody tr th:only-of-type {\n",
       "        vertical-align: middle;\n",
       "    }\n",
       "\n",
       "    .dataframe tbody tr th {\n",
       "        vertical-align: top;\n",
       "    }\n",
       "\n",
       "    .dataframe thead th {\n",
       "        text-align: right;\n",
       "    }\n",
       "</style>\n",
       "<table border=\"1\" class=\"dataframe\">\n",
       "  <thead>\n",
       "    <tr style=\"text-align: right;\">\n",
       "      <th></th>\n",
       "      <th>position</th>\n",
       "      <th>company</th>\n",
       "      <th>description</th>\n",
       "      <th>reviews</th>\n",
       "      <th>location</th>\n",
       "      <th>city,state</th>\n",
       "      <th>state</th>\n",
       "      <th>city</th>\n",
       "      <th>ds_yes</th>\n",
       "      <th>da_yes</th>\n",
       "      <th>...</th>\n",
       "      <th>manager_clean</th>\n",
       "      <th>director_clean</th>\n",
       "      <th>engineer_clean</th>\n",
       "      <th>junior_clean</th>\n",
       "      <th>phd</th>\n",
       "      <th>bachelor</th>\n",
       "      <th>master</th>\n",
       "      <th>phd_clean</th>\n",
       "      <th>bachelor_clean</th>\n",
       "      <th>master_clean</th>\n",
       "    </tr>\n",
       "  </thead>\n",
       "  <tbody>\n",
       "    <tr>\n",
       "      <th>4</th>\n",
       "      <td>Assistant Professor -TT - Signal Processing &amp; ...</td>\n",
       "      <td>Emory University</td>\n",
       "      <td>DESCRIPTION\\nThe Emory University Department o...</td>\n",
       "      <td>550.0</td>\n",
       "      <td>Atlanta, GA</td>\n",
       "      <td>Atlanta, GA</td>\n",
       "      <td>GA</td>\n",
       "      <td>Atlanta</td>\n",
       "      <td>[]</td>\n",
       "      <td>[]</td>\n",
       "      <td>...</td>\n",
       "      <td>False</td>\n",
       "      <td>False</td>\n",
       "      <td>False</td>\n",
       "      <td>False</td>\n",
       "      <td>['PhD']</td>\n",
       "      <td>[]</td>\n",
       "      <td>[]</td>\n",
       "      <td>True</td>\n",
       "      <td>False</td>\n",
       "      <td>False</td>\n",
       "    </tr>\n",
       "    <tr>\n",
       "      <th>12</th>\n",
       "      <td>Senior Associate, Data Scientist</td>\n",
       "      <td>KPMG</td>\n",
       "      <td>Innovate. Collaborate. Shine. Lighthouse — KPM...</td>\n",
       "      <td>4494.0</td>\n",
       "      <td>Atlanta, GA 30338</td>\n",
       "      <td>Atlanta, GA</td>\n",
       "      <td>GA</td>\n",
       "      <td>Atlanta</td>\n",
       "      <td>[Data Scientist]</td>\n",
       "      <td>[]</td>\n",
       "      <td>...</td>\n",
       "      <td>False</td>\n",
       "      <td>False</td>\n",
       "      <td>False</td>\n",
       "      <td>False</td>\n",
       "      <td>['PhD']</td>\n",
       "      <td>[]</td>\n",
       "      <td>['Master']</td>\n",
       "      <td>True</td>\n",
       "      <td>False</td>\n",
       "      <td>True</td>\n",
       "    </tr>\n",
       "    <tr>\n",
       "      <th>13</th>\n",
       "      <td>Assistant Scientist (AR) SOM</td>\n",
       "      <td>Emory University</td>\n",
       "      <td>DESCRIPTION\\nUnder minimal supervision, the As...</td>\n",
       "      <td>550.0</td>\n",
       "      <td>Atlanta, GA</td>\n",
       "      <td>Atlanta, GA</td>\n",
       "      <td>GA</td>\n",
       "      <td>Atlanta</td>\n",
       "      <td>[]</td>\n",
       "      <td>[]</td>\n",
       "      <td>...</td>\n",
       "      <td>False</td>\n",
       "      <td>False</td>\n",
       "      <td>False</td>\n",
       "      <td>False</td>\n",
       "      <td>['PhD']</td>\n",
       "      <td>[]</td>\n",
       "      <td>['Master']</td>\n",
       "      <td>True</td>\n",
       "      <td>False</td>\n",
       "      <td>True</td>\n",
       "    </tr>\n",
       "    <tr>\n",
       "      <th>15</th>\n",
       "      <td>Data Scientist</td>\n",
       "      <td>Cotiviti</td>\n",
       "      <td>Cotiviti is looking for an industry leading Da...</td>\n",
       "      <td>104.0</td>\n",
       "      <td>Atlanta, GA</td>\n",
       "      <td>Atlanta, GA</td>\n",
       "      <td>GA</td>\n",
       "      <td>Atlanta</td>\n",
       "      <td>[Data Scientist]</td>\n",
       "      <td>[]</td>\n",
       "      <td>...</td>\n",
       "      <td>False</td>\n",
       "      <td>False</td>\n",
       "      <td>False</td>\n",
       "      <td>False</td>\n",
       "      <td>['PhD']</td>\n",
       "      <td>[]</td>\n",
       "      <td>[]</td>\n",
       "      <td>True</td>\n",
       "      <td>False</td>\n",
       "      <td>False</td>\n",
       "    </tr>\n",
       "    <tr>\n",
       "      <th>19</th>\n",
       "      <td>Data Scientist</td>\n",
       "      <td>Inspire Brands</td>\n",
       "      <td>This position is critical to understanding dri...</td>\n",
       "      <td>NaN</td>\n",
       "      <td>Atlanta, GA</td>\n",
       "      <td>Atlanta, GA</td>\n",
       "      <td>GA</td>\n",
       "      <td>Atlanta</td>\n",
       "      <td>[Data Scientist]</td>\n",
       "      <td>[]</td>\n",
       "      <td>...</td>\n",
       "      <td>False</td>\n",
       "      <td>False</td>\n",
       "      <td>False</td>\n",
       "      <td>False</td>\n",
       "      <td>['PhD']</td>\n",
       "      <td>[]</td>\n",
       "      <td>['Master']</td>\n",
       "      <td>True</td>\n",
       "      <td>False</td>\n",
       "      <td>True</td>\n",
       "    </tr>\n",
       "  </tbody>\n",
       "</table>\n",
       "<p>5 rows × 31 columns</p>\n",
       "</div>"
      ],
      "text/plain": [
       "                                             position           company  \\\n",
       "4   Assistant Professor -TT - Signal Processing & ...  Emory University   \n",
       "12                   Senior Associate, Data Scientist              KPMG   \n",
       "13                       Assistant Scientist (AR) SOM  Emory University   \n",
       "15                                     Data Scientist          Cotiviti   \n",
       "19                                     Data Scientist    Inspire Brands   \n",
       "\n",
       "                                          description  reviews  \\\n",
       "4   DESCRIPTION\\nThe Emory University Department o...    550.0   \n",
       "12  Innovate. Collaborate. Shine. Lighthouse — KPM...   4494.0   \n",
       "13  DESCRIPTION\\nUnder minimal supervision, the As...    550.0   \n",
       "15  Cotiviti is looking for an industry leading Da...    104.0   \n",
       "19  This position is critical to understanding dri...      NaN   \n",
       "\n",
       "             location   city,state state     city            ds_yes da_yes  \\\n",
       "4         Atlanta, GA  Atlanta, GA    GA  Atlanta                []     []   \n",
       "12  Atlanta, GA 30338  Atlanta, GA    GA  Atlanta  [Data Scientist]     []   \n",
       "13        Atlanta, GA  Atlanta, GA    GA  Atlanta                []     []   \n",
       "15        Atlanta, GA  Atlanta, GA    GA  Atlanta  [Data Scientist]     []   \n",
       "19        Atlanta, GA  Atlanta, GA    GA  Atlanta  [Data Scientist]     []   \n",
       "\n",
       "    ... manager_clean director_clean engineer_clean junior_clean      phd  \\\n",
       "4   ...         False          False          False        False  ['PhD']   \n",
       "12  ...         False          False          False        False  ['PhD']   \n",
       "13  ...         False          False          False        False  ['PhD']   \n",
       "15  ...         False          False          False        False  ['PhD']   \n",
       "19  ...         False          False          False        False  ['PhD']   \n",
       "\n",
       "   bachelor      master phd_clean bachelor_clean master_clean  \n",
       "4        []          []      True          False        False  \n",
       "12       []  ['Master']      True          False         True  \n",
       "13       []  ['Master']      True          False         True  \n",
       "15       []          []      True          False        False  \n",
       "19       []  ['Master']      True          False         True  \n",
       "\n",
       "[5 rows x 31 columns]"
      ]
     },
     "execution_count": 234,
     "metadata": {},
     "output_type": "execute_result"
    }
   ],
   "source": [
    "# We creadyed the sub data frame where only phd asked for\n",
    "sub_data = data[data['phd_clean'] == True]\n",
    "sub_data.head()"
   ]
  },
  {
   "cell_type": "code",
   "execution_count": 235,
   "id": "f3e9a949",
   "metadata": {},
   "outputs": [
    {
     "data": {
      "text/plain": [
       "(1722, 31)"
      ]
     },
     "execution_count": 235,
     "metadata": {},
     "output_type": "execute_result"
    }
   ],
   "source": [
    "sub_data.shape"
   ]
  },
  {
   "cell_type": "code",
   "execution_count": 236,
   "id": "b98019f1",
   "metadata": {
    "scrolled": true
   },
   "outputs": [
    {
     "data": {
      "text/html": [
       "<div>\n",
       "<style scoped>\n",
       "    .dataframe tbody tr th:only-of-type {\n",
       "        vertical-align: middle;\n",
       "    }\n",
       "\n",
       "    .dataframe tbody tr th {\n",
       "        vertical-align: top;\n",
       "    }\n",
       "\n",
       "    .dataframe thead th {\n",
       "        text-align: right;\n",
       "    }\n",
       "</style>\n",
       "<table border=\"1\" class=\"dataframe\">\n",
       "  <thead>\n",
       "    <tr style=\"text-align: right;\">\n",
       "      <th></th>\n",
       "      <th>position</th>\n",
       "      <th>company</th>\n",
       "      <th>description</th>\n",
       "      <th>reviews</th>\n",
       "      <th>location</th>\n",
       "      <th>city,state</th>\n",
       "      <th>state</th>\n",
       "      <th>city</th>\n",
       "      <th>ds_yes</th>\n",
       "      <th>da_yes</th>\n",
       "      <th>...</th>\n",
       "      <th>manager_clean</th>\n",
       "      <th>director_clean</th>\n",
       "      <th>engineer_clean</th>\n",
       "      <th>junior_clean</th>\n",
       "      <th>phd</th>\n",
       "      <th>bachelor</th>\n",
       "      <th>master</th>\n",
       "      <th>phd_clean</th>\n",
       "      <th>bachelor_clean</th>\n",
       "      <th>master_clean</th>\n",
       "    </tr>\n",
       "  </thead>\n",
       "  <tbody>\n",
       "    <tr>\n",
       "      <th>0</th>\n",
       "      <td>Development Director</td>\n",
       "      <td>ALS TDI</td>\n",
       "      <td>Development Director\\nALS Therapy Development ...</td>\n",
       "      <td>NaN</td>\n",
       "      <td>Atlanta, GA 30301</td>\n",
       "      <td>Atlanta, GA</td>\n",
       "      <td>GA</td>\n",
       "      <td>Atlanta</td>\n",
       "      <td>[]</td>\n",
       "      <td>[]</td>\n",
       "      <td>...</td>\n",
       "      <td>False</td>\n",
       "      <td>True</td>\n",
       "      <td>False</td>\n",
       "      <td>False</td>\n",
       "      <td>[]</td>\n",
       "      <td>['Bachelor']</td>\n",
       "      <td>[]</td>\n",
       "      <td>False</td>\n",
       "      <td>True</td>\n",
       "      <td>False</td>\n",
       "    </tr>\n",
       "    <tr>\n",
       "      <th>1</th>\n",
       "      <td>An Ostentatiously-Excitable Principal Research...</td>\n",
       "      <td>The Hexagon Lavish</td>\n",
       "      <td>Job Description\\n\\n\"The road that leads to acc...</td>\n",
       "      <td>NaN</td>\n",
       "      <td>Atlanta, GA</td>\n",
       "      <td>Atlanta, GA</td>\n",
       "      <td>GA</td>\n",
       "      <td>Atlanta</td>\n",
       "      <td>[]</td>\n",
       "      <td>[]</td>\n",
       "      <td>...</td>\n",
       "      <td>False</td>\n",
       "      <td>False</td>\n",
       "      <td>False</td>\n",
       "      <td>False</td>\n",
       "      <td>[]</td>\n",
       "      <td>[]</td>\n",
       "      <td>['master']</td>\n",
       "      <td>False</td>\n",
       "      <td>False</td>\n",
       "      <td>True</td>\n",
       "    </tr>\n",
       "    <tr>\n",
       "      <th>2</th>\n",
       "      <td>Data Scientist</td>\n",
       "      <td>Xpert Staffing</td>\n",
       "      <td>Growing company located in the Atlanta, GA are...</td>\n",
       "      <td>NaN</td>\n",
       "      <td>Atlanta, GA</td>\n",
       "      <td>Atlanta, GA</td>\n",
       "      <td>GA</td>\n",
       "      <td>Atlanta</td>\n",
       "      <td>[Data Scientist]</td>\n",
       "      <td>[]</td>\n",
       "      <td>...</td>\n",
       "      <td>False</td>\n",
       "      <td>False</td>\n",
       "      <td>False</td>\n",
       "      <td>False</td>\n",
       "      <td>[]</td>\n",
       "      <td>[]</td>\n",
       "      <td>['Master']</td>\n",
       "      <td>False</td>\n",
       "      <td>False</td>\n",
       "      <td>True</td>\n",
       "    </tr>\n",
       "    <tr>\n",
       "      <th>3</th>\n",
       "      <td>Data Analyst</td>\n",
       "      <td>Operation HOPE</td>\n",
       "      <td>DEPARTMENT: Program OperationsPOSITION LOCATIO...</td>\n",
       "      <td>44.0</td>\n",
       "      <td>Atlanta, GA 30303</td>\n",
       "      <td>Atlanta, GA</td>\n",
       "      <td>GA</td>\n",
       "      <td>Atlanta</td>\n",
       "      <td>[]</td>\n",
       "      <td>[Data Analyst]</td>\n",
       "      <td>...</td>\n",
       "      <td>False</td>\n",
       "      <td>False</td>\n",
       "      <td>False</td>\n",
       "      <td>False</td>\n",
       "      <td>[]</td>\n",
       "      <td>['Bachelor', 'Bachelor']</td>\n",
       "      <td>[]</td>\n",
       "      <td>False</td>\n",
       "      <td>True</td>\n",
       "      <td>False</td>\n",
       "    </tr>\n",
       "    <tr>\n",
       "      <th>4</th>\n",
       "      <td>Assistant Professor -TT - Signal Processing &amp; ...</td>\n",
       "      <td>Emory University</td>\n",
       "      <td>DESCRIPTION\\nThe Emory University Department o...</td>\n",
       "      <td>550.0</td>\n",
       "      <td>Atlanta, GA</td>\n",
       "      <td>Atlanta, GA</td>\n",
       "      <td>GA</td>\n",
       "      <td>Atlanta</td>\n",
       "      <td>[]</td>\n",
       "      <td>[]</td>\n",
       "      <td>...</td>\n",
       "      <td>False</td>\n",
       "      <td>False</td>\n",
       "      <td>False</td>\n",
       "      <td>False</td>\n",
       "      <td>['PhD']</td>\n",
       "      <td>[]</td>\n",
       "      <td>[]</td>\n",
       "      <td>True</td>\n",
       "      <td>False</td>\n",
       "      <td>False</td>\n",
       "    </tr>\n",
       "  </tbody>\n",
       "</table>\n",
       "<p>5 rows × 31 columns</p>\n",
       "</div>"
      ],
      "text/plain": [
       "                                            position             company  \\\n",
       "0                               Development Director             ALS TDI   \n",
       "1  An Ostentatiously-Excitable Principal Research...  The Hexagon Lavish   \n",
       "2                                     Data Scientist      Xpert Staffing   \n",
       "3                                       Data Analyst      Operation HOPE   \n",
       "4  Assistant Professor -TT - Signal Processing & ...    Emory University   \n",
       "\n",
       "                                         description  reviews  \\\n",
       "0  Development Director\\nALS Therapy Development ...      NaN   \n",
       "1  Job Description\\n\\n\"The road that leads to acc...      NaN   \n",
       "2  Growing company located in the Atlanta, GA are...      NaN   \n",
       "3  DEPARTMENT: Program OperationsPOSITION LOCATIO...     44.0   \n",
       "4  DESCRIPTION\\nThe Emory University Department o...    550.0   \n",
       "\n",
       "             location   city,state state     city            ds_yes  \\\n",
       "0  Atlanta, GA 30301   Atlanta, GA    GA  Atlanta                []   \n",
       "1         Atlanta, GA  Atlanta, GA    GA  Atlanta                []   \n",
       "2         Atlanta, GA  Atlanta, GA    GA  Atlanta  [Data Scientist]   \n",
       "3  Atlanta, GA 30303   Atlanta, GA    GA  Atlanta                []   \n",
       "4         Atlanta, GA  Atlanta, GA    GA  Atlanta                []   \n",
       "\n",
       "           da_yes  ... manager_clean director_clean engineer_clean  \\\n",
       "0              []  ...         False           True          False   \n",
       "1              []  ...         False          False          False   \n",
       "2              []  ...         False          False          False   \n",
       "3  [Data Analyst]  ...         False          False          False   \n",
       "4              []  ...         False          False          False   \n",
       "\n",
       "  junior_clean      phd                  bachelor      master phd_clean  \\\n",
       "0        False       []              ['Bachelor']          []     False   \n",
       "1        False       []                        []  ['master']     False   \n",
       "2        False       []                        []  ['Master']     False   \n",
       "3        False       []  ['Bachelor', 'Bachelor']          []     False   \n",
       "4        False  ['PhD']                        []          []      True   \n",
       "\n",
       "  bachelor_clean master_clean  \n",
       "0           True        False  \n",
       "1          False         True  \n",
       "2          False         True  \n",
       "3           True        False  \n",
       "4          False        False  \n",
       "\n",
       "[5 rows x 31 columns]"
      ]
     },
     "execution_count": 236,
     "metadata": {},
     "output_type": "execute_result"
    }
   ],
   "source": [
    "data.head()"
   ]
  },
  {
   "cell_type": "code",
   "execution_count": 237,
   "id": "8a304cda",
   "metadata": {},
   "outputs": [],
   "source": [
    "# Dropping the columns here which doesnt help us for further analysis\n",
    "data = data.drop(['master'],axis = 1)"
   ]
  },
  {
   "cell_type": "code",
   "execution_count": 238,
   "id": "9ccc313b",
   "metadata": {},
   "outputs": [],
   "source": [
    "data = data.drop(['phd','bachelor'],axis = 1)"
   ]
  },
  {
   "cell_type": "code",
   "execution_count": 239,
   "id": "8248c8ea",
   "metadata": {},
   "outputs": [
    {
     "data": {
      "text/html": [
       "<div>\n",
       "<style scoped>\n",
       "    .dataframe tbody tr th:only-of-type {\n",
       "        vertical-align: middle;\n",
       "    }\n",
       "\n",
       "    .dataframe tbody tr th {\n",
       "        vertical-align: top;\n",
       "    }\n",
       "\n",
       "    .dataframe thead th {\n",
       "        text-align: right;\n",
       "    }\n",
       "</style>\n",
       "<table border=\"1\" class=\"dataframe\">\n",
       "  <thead>\n",
       "    <tr style=\"text-align: right;\">\n",
       "      <th></th>\n",
       "      <th>position</th>\n",
       "      <th>company</th>\n",
       "      <th>description</th>\n",
       "      <th>reviews</th>\n",
       "      <th>location</th>\n",
       "      <th>city,state</th>\n",
       "      <th>state</th>\n",
       "      <th>city</th>\n",
       "      <th>ds_yes</th>\n",
       "      <th>da_yes</th>\n",
       "      <th>...</th>\n",
       "      <th>assistant</th>\n",
       "      <th>engineer</th>\n",
       "      <th>senior_clean</th>\n",
       "      <th>manager_clean</th>\n",
       "      <th>director_clean</th>\n",
       "      <th>engineer_clean</th>\n",
       "      <th>junior_clean</th>\n",
       "      <th>phd_clean</th>\n",
       "      <th>bachelor_clean</th>\n",
       "      <th>master_clean</th>\n",
       "    </tr>\n",
       "  </thead>\n",
       "  <tbody>\n",
       "    <tr>\n",
       "      <th>0</th>\n",
       "      <td>Development Director</td>\n",
       "      <td>ALS TDI</td>\n",
       "      <td>Development Director\\nALS Therapy Development ...</td>\n",
       "      <td>NaN</td>\n",
       "      <td>Atlanta, GA 30301</td>\n",
       "      <td>Atlanta, GA</td>\n",
       "      <td>GA</td>\n",
       "      <td>Atlanta</td>\n",
       "      <td>[]</td>\n",
       "      <td>[]</td>\n",
       "      <td>...</td>\n",
       "      <td>[]</td>\n",
       "      <td>[]</td>\n",
       "      <td>False</td>\n",
       "      <td>False</td>\n",
       "      <td>True</td>\n",
       "      <td>False</td>\n",
       "      <td>False</td>\n",
       "      <td>False</td>\n",
       "      <td>True</td>\n",
       "      <td>False</td>\n",
       "    </tr>\n",
       "    <tr>\n",
       "      <th>1</th>\n",
       "      <td>An Ostentatiously-Excitable Principal Research...</td>\n",
       "      <td>The Hexagon Lavish</td>\n",
       "      <td>Job Description\\n\\n\"The road that leads to acc...</td>\n",
       "      <td>NaN</td>\n",
       "      <td>Atlanta, GA</td>\n",
       "      <td>Atlanta, GA</td>\n",
       "      <td>GA</td>\n",
       "      <td>Atlanta</td>\n",
       "      <td>[]</td>\n",
       "      <td>[]</td>\n",
       "      <td>...</td>\n",
       "      <td>[Assistant]</td>\n",
       "      <td>[]</td>\n",
       "      <td>False</td>\n",
       "      <td>False</td>\n",
       "      <td>False</td>\n",
       "      <td>False</td>\n",
       "      <td>False</td>\n",
       "      <td>False</td>\n",
       "      <td>False</td>\n",
       "      <td>True</td>\n",
       "    </tr>\n",
       "  </tbody>\n",
       "</table>\n",
       "<p>2 rows × 28 columns</p>\n",
       "</div>"
      ],
      "text/plain": [
       "                                            position             company  \\\n",
       "0                               Development Director             ALS TDI   \n",
       "1  An Ostentatiously-Excitable Principal Research...  The Hexagon Lavish   \n",
       "\n",
       "                                         description  reviews  \\\n",
       "0  Development Director\\nALS Therapy Development ...      NaN   \n",
       "1  Job Description\\n\\n\"The road that leads to acc...      NaN   \n",
       "\n",
       "             location   city,state state     city ds_yes da_yes  ...  \\\n",
       "0  Atlanta, GA 30301   Atlanta, GA    GA  Atlanta     []     []  ...   \n",
       "1         Atlanta, GA  Atlanta, GA    GA  Atlanta     []     []  ...   \n",
       "\n",
       "     assistant engineer senior_clean manager_clean director_clean  \\\n",
       "0           []       []        False         False           True   \n",
       "1  [Assistant]       []        False         False          False   \n",
       "\n",
       "  engineer_clean junior_clean phd_clean bachelor_clean master_clean  \n",
       "0          False        False     False           True        False  \n",
       "1          False        False     False          False         True  \n",
       "\n",
       "[2 rows x 28 columns]"
      ]
     },
     "execution_count": 239,
     "metadata": {},
     "output_type": "execute_result"
    }
   ],
   "source": [
    "data.head(2)"
   ]
  },
  {
   "cell_type": "markdown",
   "id": "4746aaeb",
   "metadata": {},
   "source": [
    " ### 'description' column"
   ]
  },
  {
   "cell_type": "code",
   "execution_count": 240,
   "id": "bd9bb5c6",
   "metadata": {},
   "outputs": [
    {
     "data": {
      "text/plain": [
       "0                                               [8 years]\n",
       "1                                                      []\n",
       "2                                                      []\n",
       "3       [25 years, 00 to, 2 yearsbasic, 2 yearsProgram...\n",
       "4                                                 [10 of]\n",
       "                              ...                        \n",
       "6959                   [5 years, 5 to, 7 years, 40 hours]\n",
       "6960    [200 clinical, 20 different, 200 Pharmacyclics...\n",
       "6961                                                   []\n",
       "6962                                                   []\n",
       "6963    [1 platform, 5 years, 3 years, 2 years, 5 people]\n",
       "Name: description, Length: 6964, dtype: object"
      ]
     },
     "execution_count": 240,
     "metadata": {},
     "output_type": "execute_result"
    }
   ],
   "source": [
    "# doesnt seems good\n",
    "data['description'].str.findall(r'\\d+\\s\\w+')"
   ]
  },
  {
   "cell_type": "code",
   "execution_count": 241,
   "id": "3525728b",
   "metadata": {},
   "outputs": [
    {
     "data": {
      "text/plain": [
       "0                                             [6-8 years]\n",
       "1                                                      []\n",
       "2                                                      []\n",
       "3       [25 years, 000.00 to, 2 yearsbasic, 2 yearsPro...\n",
       "4                                                 [10 of]\n",
       "                              ...                        \n",
       "6959                   [5 years, 5 to, 7 years, 40 hours]\n",
       "6960    [200 clinical, 20 different, 1,200 Pharmacycli...\n",
       "6961                                                   []\n",
       "6962                                                   []\n",
       "6963    [1 platform, 5 years, 3 years, 2 years, 2-5 pe...\n",
       "Name: description, Length: 6964, dtype: object"
      ]
     },
     "execution_count": 241,
     "metadata": {},
     "output_type": "execute_result"
    }
   ],
   "source": [
    "# gives all the numbers in the description\n",
    "# doesnt seems good, it works similar to the above code\n",
    "data['description'].str.findall(r'\\d+\\s\\w+|[\\d]+\\S?[\\d]+\\s\\w+')"
   ]
  },
  {
   "cell_type": "code",
   "execution_count": 242,
   "id": "6831183a",
   "metadata": {},
   "outputs": [
    {
     "data": {
      "text/html": [
       "<div>\n",
       "<style scoped>\n",
       "    .dataframe tbody tr th:only-of-type {\n",
       "        vertical-align: middle;\n",
       "    }\n",
       "\n",
       "    .dataframe tbody tr th {\n",
       "        vertical-align: top;\n",
       "    }\n",
       "\n",
       "    .dataframe thead th {\n",
       "        text-align: right;\n",
       "    }\n",
       "</style>\n",
       "<table border=\"1\" class=\"dataframe\">\n",
       "  <thead>\n",
       "    <tr style=\"text-align: right;\">\n",
       "      <th></th>\n",
       "      <th>position</th>\n",
       "      <th>company</th>\n",
       "      <th>description</th>\n",
       "      <th>reviews</th>\n",
       "      <th>location</th>\n",
       "      <th>city,state</th>\n",
       "      <th>state</th>\n",
       "      <th>city</th>\n",
       "      <th>ds_yes</th>\n",
       "      <th>da_yes</th>\n",
       "      <th>...</th>\n",
       "      <th>engineer</th>\n",
       "      <th>senior_clean</th>\n",
       "      <th>manager_clean</th>\n",
       "      <th>director_clean</th>\n",
       "      <th>engineer_clean</th>\n",
       "      <th>junior_clean</th>\n",
       "      <th>phd_clean</th>\n",
       "      <th>bachelor_clean</th>\n",
       "      <th>master_clean</th>\n",
       "      <th>ex_years</th>\n",
       "    </tr>\n",
       "  </thead>\n",
       "  <tbody>\n",
       "    <tr>\n",
       "      <th>0</th>\n",
       "      <td>Development Director</td>\n",
       "      <td>ALS TDI</td>\n",
       "      <td>Development Director\\nALS Therapy Development ...</td>\n",
       "      <td>NaN</td>\n",
       "      <td>Atlanta, GA 30301</td>\n",
       "      <td>Atlanta, GA</td>\n",
       "      <td>GA</td>\n",
       "      <td>Atlanta</td>\n",
       "      <td>[]</td>\n",
       "      <td>[]</td>\n",
       "      <td>...</td>\n",
       "      <td>[]</td>\n",
       "      <td>False</td>\n",
       "      <td>False</td>\n",
       "      <td>True</td>\n",
       "      <td>False</td>\n",
       "      <td>False</td>\n",
       "      <td>False</td>\n",
       "      <td>True</td>\n",
       "      <td>False</td>\n",
       "      <td>[6-8 years]</td>\n",
       "    </tr>\n",
       "    <tr>\n",
       "      <th>1</th>\n",
       "      <td>An Ostentatiously-Excitable Principal Research...</td>\n",
       "      <td>The Hexagon Lavish</td>\n",
       "      <td>Job Description\\n\\n\"The road that leads to acc...</td>\n",
       "      <td>NaN</td>\n",
       "      <td>Atlanta, GA</td>\n",
       "      <td>Atlanta, GA</td>\n",
       "      <td>GA</td>\n",
       "      <td>Atlanta</td>\n",
       "      <td>[]</td>\n",
       "      <td>[]</td>\n",
       "      <td>...</td>\n",
       "      <td>[]</td>\n",
       "      <td>False</td>\n",
       "      <td>False</td>\n",
       "      <td>False</td>\n",
       "      <td>False</td>\n",
       "      <td>False</td>\n",
       "      <td>False</td>\n",
       "      <td>False</td>\n",
       "      <td>True</td>\n",
       "      <td>[]</td>\n",
       "    </tr>\n",
       "    <tr>\n",
       "      <th>2</th>\n",
       "      <td>Data Scientist</td>\n",
       "      <td>Xpert Staffing</td>\n",
       "      <td>Growing company located in the Atlanta, GA are...</td>\n",
       "      <td>NaN</td>\n",
       "      <td>Atlanta, GA</td>\n",
       "      <td>Atlanta, GA</td>\n",
       "      <td>GA</td>\n",
       "      <td>Atlanta</td>\n",
       "      <td>[Data Scientist]</td>\n",
       "      <td>[]</td>\n",
       "      <td>...</td>\n",
       "      <td>[]</td>\n",
       "      <td>False</td>\n",
       "      <td>False</td>\n",
       "      <td>False</td>\n",
       "      <td>False</td>\n",
       "      <td>False</td>\n",
       "      <td>False</td>\n",
       "      <td>False</td>\n",
       "      <td>True</td>\n",
       "      <td>[]</td>\n",
       "    </tr>\n",
       "    <tr>\n",
       "      <th>3</th>\n",
       "      <td>Data Analyst</td>\n",
       "      <td>Operation HOPE</td>\n",
       "      <td>DEPARTMENT: Program OperationsPOSITION LOCATIO...</td>\n",
       "      <td>44.0</td>\n",
       "      <td>Atlanta, GA 30303</td>\n",
       "      <td>Atlanta, GA</td>\n",
       "      <td>GA</td>\n",
       "      <td>Atlanta</td>\n",
       "      <td>[]</td>\n",
       "      <td>[Data Analyst]</td>\n",
       "      <td>...</td>\n",
       "      <td>[]</td>\n",
       "      <td>False</td>\n",
       "      <td>False</td>\n",
       "      <td>False</td>\n",
       "      <td>False</td>\n",
       "      <td>False</td>\n",
       "      <td>False</td>\n",
       "      <td>True</td>\n",
       "      <td>False</td>\n",
       "      <td>[25 years]</td>\n",
       "    </tr>\n",
       "    <tr>\n",
       "      <th>4</th>\n",
       "      <td>Assistant Professor -TT - Signal Processing &amp; ...</td>\n",
       "      <td>Emory University</td>\n",
       "      <td>DESCRIPTION\\nThe Emory University Department o...</td>\n",
       "      <td>550.0</td>\n",
       "      <td>Atlanta, GA</td>\n",
       "      <td>Atlanta, GA</td>\n",
       "      <td>GA</td>\n",
       "      <td>Atlanta</td>\n",
       "      <td>[]</td>\n",
       "      <td>[]</td>\n",
       "      <td>...</td>\n",
       "      <td>[]</td>\n",
       "      <td>False</td>\n",
       "      <td>False</td>\n",
       "      <td>False</td>\n",
       "      <td>False</td>\n",
       "      <td>False</td>\n",
       "      <td>True</td>\n",
       "      <td>False</td>\n",
       "      <td>False</td>\n",
       "      <td>[]</td>\n",
       "    </tr>\n",
       "  </tbody>\n",
       "</table>\n",
       "<p>5 rows × 29 columns</p>\n",
       "</div>"
      ],
      "text/plain": [
       "                                            position             company  \\\n",
       "0                               Development Director             ALS TDI   \n",
       "1  An Ostentatiously-Excitable Principal Research...  The Hexagon Lavish   \n",
       "2                                     Data Scientist      Xpert Staffing   \n",
       "3                                       Data Analyst      Operation HOPE   \n",
       "4  Assistant Professor -TT - Signal Processing & ...    Emory University   \n",
       "\n",
       "                                         description  reviews  \\\n",
       "0  Development Director\\nALS Therapy Development ...      NaN   \n",
       "1  Job Description\\n\\n\"The road that leads to acc...      NaN   \n",
       "2  Growing company located in the Atlanta, GA are...      NaN   \n",
       "3  DEPARTMENT: Program OperationsPOSITION LOCATIO...     44.0   \n",
       "4  DESCRIPTION\\nThe Emory University Department o...    550.0   \n",
       "\n",
       "             location   city,state state     city            ds_yes  \\\n",
       "0  Atlanta, GA 30301   Atlanta, GA    GA  Atlanta                []   \n",
       "1         Atlanta, GA  Atlanta, GA    GA  Atlanta                []   \n",
       "2         Atlanta, GA  Atlanta, GA    GA  Atlanta  [Data Scientist]   \n",
       "3  Atlanta, GA 30303   Atlanta, GA    GA  Atlanta                []   \n",
       "4         Atlanta, GA  Atlanta, GA    GA  Atlanta                []   \n",
       "\n",
       "           da_yes  ... engineer senior_clean manager_clean director_clean  \\\n",
       "0              []  ...       []        False         False           True   \n",
       "1              []  ...       []        False         False          False   \n",
       "2              []  ...       []        False         False          False   \n",
       "3  [Data Analyst]  ...       []        False         False          False   \n",
       "4              []  ...       []        False         False          False   \n",
       "\n",
       "  engineer_clean junior_clean phd_clean bachelor_clean master_clean  \\\n",
       "0          False        False     False           True        False   \n",
       "1          False        False     False          False         True   \n",
       "2          False        False     False          False         True   \n",
       "3          False        False     False           True        False   \n",
       "4          False        False      True          False        False   \n",
       "\n",
       "      ex_years  \n",
       "0  [6-8 years]  \n",
       "1           []  \n",
       "2           []  \n",
       "3   [25 years]  \n",
       "4           []  \n",
       "\n",
       "[5 rows x 29 columns]"
      ]
     },
     "execution_count": 242,
     "metadata": {},
     "output_type": "execute_result"
    }
   ],
   "source": [
    "# GOOD ONE!\n",
    "# But it still reads whatever numbers comes along with the text\n",
    "data['ex_years'] = data['description'].str.findall(r'\\d+\\s\\byears\\b|[\\d]+\\S?[\\d]+\\s\\byears\\b')\n",
    "data.head()"
   ]
  },
  {
   "cell_type": "code",
   "execution_count": 243,
   "id": "8ec2fb2c",
   "metadata": {},
   "outputs": [],
   "source": [
    "# this shows how often experience is required\n",
    "data['how_often_exp_req'] = data['description'].str.contains(r'\\d+\\s\\byears\\b')"
   ]
  },
  {
   "cell_type": "code",
   "execution_count": 244,
   "id": "ac933b11",
   "metadata": {},
   "outputs": [
    {
     "data": {
      "text/html": [
       "<div>\n",
       "<style scoped>\n",
       "    .dataframe tbody tr th:only-of-type {\n",
       "        vertical-align: middle;\n",
       "    }\n",
       "\n",
       "    .dataframe tbody tr th {\n",
       "        vertical-align: top;\n",
       "    }\n",
       "\n",
       "    .dataframe thead th {\n",
       "        text-align: right;\n",
       "    }\n",
       "</style>\n",
       "<table border=\"1\" class=\"dataframe\">\n",
       "  <thead>\n",
       "    <tr style=\"text-align: right;\">\n",
       "      <th></th>\n",
       "      <th>position</th>\n",
       "      <th>company</th>\n",
       "      <th>description</th>\n",
       "      <th>reviews</th>\n",
       "      <th>location</th>\n",
       "      <th>city,state</th>\n",
       "      <th>state</th>\n",
       "      <th>city</th>\n",
       "      <th>ds_yes</th>\n",
       "      <th>da_yes</th>\n",
       "      <th>...</th>\n",
       "      <th>senior_clean</th>\n",
       "      <th>manager_clean</th>\n",
       "      <th>director_clean</th>\n",
       "      <th>engineer_clean</th>\n",
       "      <th>junior_clean</th>\n",
       "      <th>phd_clean</th>\n",
       "      <th>bachelor_clean</th>\n",
       "      <th>master_clean</th>\n",
       "      <th>ex_years</th>\n",
       "      <th>how_often_exp_req</th>\n",
       "    </tr>\n",
       "  </thead>\n",
       "  <tbody>\n",
       "    <tr>\n",
       "      <th>0</th>\n",
       "      <td>Development Director</td>\n",
       "      <td>ALS TDI</td>\n",
       "      <td>Development Director\\nALS Therapy Development ...</td>\n",
       "      <td>NaN</td>\n",
       "      <td>Atlanta, GA 30301</td>\n",
       "      <td>Atlanta, GA</td>\n",
       "      <td>GA</td>\n",
       "      <td>Atlanta</td>\n",
       "      <td>[]</td>\n",
       "      <td>[]</td>\n",
       "      <td>...</td>\n",
       "      <td>False</td>\n",
       "      <td>False</td>\n",
       "      <td>True</td>\n",
       "      <td>False</td>\n",
       "      <td>False</td>\n",
       "      <td>False</td>\n",
       "      <td>True</td>\n",
       "      <td>False</td>\n",
       "      <td>[6-8 years]</td>\n",
       "      <td>True</td>\n",
       "    </tr>\n",
       "    <tr>\n",
       "      <th>1</th>\n",
       "      <td>An Ostentatiously-Excitable Principal Research...</td>\n",
       "      <td>The Hexagon Lavish</td>\n",
       "      <td>Job Description\\n\\n\"The road that leads to acc...</td>\n",
       "      <td>NaN</td>\n",
       "      <td>Atlanta, GA</td>\n",
       "      <td>Atlanta, GA</td>\n",
       "      <td>GA</td>\n",
       "      <td>Atlanta</td>\n",
       "      <td>[]</td>\n",
       "      <td>[]</td>\n",
       "      <td>...</td>\n",
       "      <td>False</td>\n",
       "      <td>False</td>\n",
       "      <td>False</td>\n",
       "      <td>False</td>\n",
       "      <td>False</td>\n",
       "      <td>False</td>\n",
       "      <td>False</td>\n",
       "      <td>True</td>\n",
       "      <td>[]</td>\n",
       "      <td>False</td>\n",
       "    </tr>\n",
       "    <tr>\n",
       "      <th>2</th>\n",
       "      <td>Data Scientist</td>\n",
       "      <td>Xpert Staffing</td>\n",
       "      <td>Growing company located in the Atlanta, GA are...</td>\n",
       "      <td>NaN</td>\n",
       "      <td>Atlanta, GA</td>\n",
       "      <td>Atlanta, GA</td>\n",
       "      <td>GA</td>\n",
       "      <td>Atlanta</td>\n",
       "      <td>[Data Scientist]</td>\n",
       "      <td>[]</td>\n",
       "      <td>...</td>\n",
       "      <td>False</td>\n",
       "      <td>False</td>\n",
       "      <td>False</td>\n",
       "      <td>False</td>\n",
       "      <td>False</td>\n",
       "      <td>False</td>\n",
       "      <td>False</td>\n",
       "      <td>True</td>\n",
       "      <td>[]</td>\n",
       "      <td>False</td>\n",
       "    </tr>\n",
       "    <tr>\n",
       "      <th>3</th>\n",
       "      <td>Data Analyst</td>\n",
       "      <td>Operation HOPE</td>\n",
       "      <td>DEPARTMENT: Program OperationsPOSITION LOCATIO...</td>\n",
       "      <td>44.0</td>\n",
       "      <td>Atlanta, GA 30303</td>\n",
       "      <td>Atlanta, GA</td>\n",
       "      <td>GA</td>\n",
       "      <td>Atlanta</td>\n",
       "      <td>[]</td>\n",
       "      <td>[Data Analyst]</td>\n",
       "      <td>...</td>\n",
       "      <td>False</td>\n",
       "      <td>False</td>\n",
       "      <td>False</td>\n",
       "      <td>False</td>\n",
       "      <td>False</td>\n",
       "      <td>False</td>\n",
       "      <td>True</td>\n",
       "      <td>False</td>\n",
       "      <td>[25 years]</td>\n",
       "      <td>True</td>\n",
       "    </tr>\n",
       "    <tr>\n",
       "      <th>4</th>\n",
       "      <td>Assistant Professor -TT - Signal Processing &amp; ...</td>\n",
       "      <td>Emory University</td>\n",
       "      <td>DESCRIPTION\\nThe Emory University Department o...</td>\n",
       "      <td>550.0</td>\n",
       "      <td>Atlanta, GA</td>\n",
       "      <td>Atlanta, GA</td>\n",
       "      <td>GA</td>\n",
       "      <td>Atlanta</td>\n",
       "      <td>[]</td>\n",
       "      <td>[]</td>\n",
       "      <td>...</td>\n",
       "      <td>False</td>\n",
       "      <td>False</td>\n",
       "      <td>False</td>\n",
       "      <td>False</td>\n",
       "      <td>False</td>\n",
       "      <td>True</td>\n",
       "      <td>False</td>\n",
       "      <td>False</td>\n",
       "      <td>[]</td>\n",
       "      <td>False</td>\n",
       "    </tr>\n",
       "  </tbody>\n",
       "</table>\n",
       "<p>5 rows × 30 columns</p>\n",
       "</div>"
      ],
      "text/plain": [
       "                                            position             company  \\\n",
       "0                               Development Director             ALS TDI   \n",
       "1  An Ostentatiously-Excitable Principal Research...  The Hexagon Lavish   \n",
       "2                                     Data Scientist      Xpert Staffing   \n",
       "3                                       Data Analyst      Operation HOPE   \n",
       "4  Assistant Professor -TT - Signal Processing & ...    Emory University   \n",
       "\n",
       "                                         description  reviews  \\\n",
       "0  Development Director\\nALS Therapy Development ...      NaN   \n",
       "1  Job Description\\n\\n\"The road that leads to acc...      NaN   \n",
       "2  Growing company located in the Atlanta, GA are...      NaN   \n",
       "3  DEPARTMENT: Program OperationsPOSITION LOCATIO...     44.0   \n",
       "4  DESCRIPTION\\nThe Emory University Department o...    550.0   \n",
       "\n",
       "             location   city,state state     city            ds_yes  \\\n",
       "0  Atlanta, GA 30301   Atlanta, GA    GA  Atlanta                []   \n",
       "1         Atlanta, GA  Atlanta, GA    GA  Atlanta                []   \n",
       "2         Atlanta, GA  Atlanta, GA    GA  Atlanta  [Data Scientist]   \n",
       "3  Atlanta, GA 30303   Atlanta, GA    GA  Atlanta                []   \n",
       "4         Atlanta, GA  Atlanta, GA    GA  Atlanta                []   \n",
       "\n",
       "           da_yes  ... senior_clean manager_clean director_clean  \\\n",
       "0              []  ...        False         False           True   \n",
       "1              []  ...        False         False          False   \n",
       "2              []  ...        False         False          False   \n",
       "3  [Data Analyst]  ...        False         False          False   \n",
       "4              []  ...        False         False          False   \n",
       "\n",
       "  engineer_clean junior_clean phd_clean bachelor_clean master_clean  \\\n",
       "0          False        False     False           True        False   \n",
       "1          False        False     False          False         True   \n",
       "2          False        False     False          False         True   \n",
       "3          False        False     False           True        False   \n",
       "4          False        False      True          False        False   \n",
       "\n",
       "      ex_years how_often_exp_req  \n",
       "0  [6-8 years]              True  \n",
       "1           []             False  \n",
       "2           []             False  \n",
       "3   [25 years]              True  \n",
       "4           []             False  \n",
       "\n",
       "[5 rows x 30 columns]"
      ]
     },
     "execution_count": 244,
     "metadata": {},
     "output_type": "execute_result"
    }
   ],
   "source": [
    "data.head()"
   ]
  },
  {
   "cell_type": "code",
   "execution_count": 245,
   "id": "c5b5ebcc",
   "metadata": {},
   "outputs": [],
   "source": [
    "# Boolean to Float conversion to check if it makes sense for the analysis\n",
    "data.how_often_exp_req = data.how_often_exp_req.replace({True: 1, False: 0})"
   ]
  },
  {
   "cell_type": "markdown",
   "id": "beb59da7",
   "metadata": {},
   "source": [
    " ## Working with numerical data"
   ]
  },
  {
   "cell_type": "markdown",
   "id": "19dcf66b",
   "metadata": {},
   "source": [
    " ### 'reviews' column"
   ]
  },
  {
   "cell_type": "code",
   "execution_count": 251,
   "id": "276047e9",
   "metadata": {},
   "outputs": [
    {
     "data": {
      "text/html": [
       "<div>\n",
       "<style scoped>\n",
       "    .dataframe tbody tr th:only-of-type {\n",
       "        vertical-align: middle;\n",
       "    }\n",
       "\n",
       "    .dataframe tbody tr th {\n",
       "        vertical-align: top;\n",
       "    }\n",
       "\n",
       "    .dataframe thead th {\n",
       "        text-align: right;\n",
       "    }\n",
       "</style>\n",
       "<table border=\"1\" class=\"dataframe\">\n",
       "  <thead>\n",
       "    <tr style=\"text-align: right;\">\n",
       "      <th></th>\n",
       "      <th>reviews</th>\n",
       "      <th>how_often_exp_req</th>\n",
       "    </tr>\n",
       "  </thead>\n",
       "  <tbody>\n",
       "    <tr>\n",
       "      <th>0</th>\n",
       "      <td>230.0</td>\n",
       "      <td>1.0</td>\n",
       "    </tr>\n",
       "    <tr>\n",
       "      <th>1</th>\n",
       "      <td>230.0</td>\n",
       "      <td>0.0</td>\n",
       "    </tr>\n",
       "  </tbody>\n",
       "</table>\n",
       "</div>"
      ],
      "text/plain": [
       "   reviews  how_often_exp_req\n",
       "0    230.0                1.0\n",
       "1    230.0                0.0"
      ]
     },
     "execution_count": 251,
     "metadata": {},
     "output_type": "execute_result"
    }
   ],
   "source": [
    "# discussion was to remove the NaN values from the reviews column and replacing it with the mode value. But it was just a discussion\n",
    "#NaN should be replaced with either the mode 230 or 0 or ignore\n",
    "numerical = data.select_dtypes(include=np.number)\n",
    "numerical.head(2)"
   ]
  },
  {
   "cell_type": "code",
   "execution_count": 249,
   "id": "1520ec65",
   "metadata": {},
   "outputs": [],
   "source": [
    "\n",
    "data['reviews'] = data['reviews'].fillna(0)\n",
    "#data['reviews'] = data['reviews'].fillna(230)"
   ]
  },
  {
   "cell_type": "code",
   "execution_count": 250,
   "id": "25188594",
   "metadata": {},
   "outputs": [
    {
     "data": {
      "text/html": [
       "<div>\n",
       "<style scoped>\n",
       "    .dataframe tbody tr th:only-of-type {\n",
       "        vertical-align: middle;\n",
       "    }\n",
       "\n",
       "    .dataframe tbody tr th {\n",
       "        vertical-align: top;\n",
       "    }\n",
       "\n",
       "    .dataframe thead th {\n",
       "        text-align: right;\n",
       "    }\n",
       "</style>\n",
       "<table border=\"1\" class=\"dataframe\">\n",
       "  <thead>\n",
       "    <tr style=\"text-align: right;\">\n",
       "      <th></th>\n",
       "      <th>position</th>\n",
       "      <th>company</th>\n",
       "      <th>description</th>\n",
       "      <th>reviews</th>\n",
       "      <th>location</th>\n",
       "      <th>city,state</th>\n",
       "      <th>state</th>\n",
       "      <th>city</th>\n",
       "      <th>ds_yes</th>\n",
       "      <th>da_yes</th>\n",
       "      <th>...</th>\n",
       "      <th>senior_clean</th>\n",
       "      <th>manager_clean</th>\n",
       "      <th>director_clean</th>\n",
       "      <th>engineer_clean</th>\n",
       "      <th>junior_clean</th>\n",
       "      <th>phd_clean</th>\n",
       "      <th>bachelor_clean</th>\n",
       "      <th>master_clean</th>\n",
       "      <th>ex_years</th>\n",
       "      <th>how_often_exp_req</th>\n",
       "    </tr>\n",
       "  </thead>\n",
       "  <tbody>\n",
       "    <tr>\n",
       "      <th>0</th>\n",
       "      <td>Development Director</td>\n",
       "      <td>ALS TDI</td>\n",
       "      <td>Development Director\\nALS Therapy Development ...</td>\n",
       "      <td>230.0</td>\n",
       "      <td>Atlanta, GA 30301</td>\n",
       "      <td>Atlanta, GA</td>\n",
       "      <td>GA</td>\n",
       "      <td>Atlanta</td>\n",
       "      <td>[]</td>\n",
       "      <td>[]</td>\n",
       "      <td>...</td>\n",
       "      <td>False</td>\n",
       "      <td>False</td>\n",
       "      <td>True</td>\n",
       "      <td>False</td>\n",
       "      <td>False</td>\n",
       "      <td>False</td>\n",
       "      <td>True</td>\n",
       "      <td>False</td>\n",
       "      <td>[6-8 years]</td>\n",
       "      <td>1.0</td>\n",
       "    </tr>\n",
       "    <tr>\n",
       "      <th>1</th>\n",
       "      <td>An Ostentatiously-Excitable Principal Research...</td>\n",
       "      <td>The Hexagon Lavish</td>\n",
       "      <td>Job Description\\n\\n\"The road that leads to acc...</td>\n",
       "      <td>230.0</td>\n",
       "      <td>Atlanta, GA</td>\n",
       "      <td>Atlanta, GA</td>\n",
       "      <td>GA</td>\n",
       "      <td>Atlanta</td>\n",
       "      <td>[]</td>\n",
       "      <td>[]</td>\n",
       "      <td>...</td>\n",
       "      <td>False</td>\n",
       "      <td>False</td>\n",
       "      <td>False</td>\n",
       "      <td>False</td>\n",
       "      <td>False</td>\n",
       "      <td>False</td>\n",
       "      <td>False</td>\n",
       "      <td>True</td>\n",
       "      <td>[]</td>\n",
       "      <td>0.0</td>\n",
       "    </tr>\n",
       "    <tr>\n",
       "      <th>2</th>\n",
       "      <td>Data Scientist</td>\n",
       "      <td>Xpert Staffing</td>\n",
       "      <td>Growing company located in the Atlanta, GA are...</td>\n",
       "      <td>230.0</td>\n",
       "      <td>Atlanta, GA</td>\n",
       "      <td>Atlanta, GA</td>\n",
       "      <td>GA</td>\n",
       "      <td>Atlanta</td>\n",
       "      <td>[Data Scientist]</td>\n",
       "      <td>[]</td>\n",
       "      <td>...</td>\n",
       "      <td>False</td>\n",
       "      <td>False</td>\n",
       "      <td>False</td>\n",
       "      <td>False</td>\n",
       "      <td>False</td>\n",
       "      <td>False</td>\n",
       "      <td>False</td>\n",
       "      <td>True</td>\n",
       "      <td>[]</td>\n",
       "      <td>0.0</td>\n",
       "    </tr>\n",
       "    <tr>\n",
       "      <th>3</th>\n",
       "      <td>Data Analyst</td>\n",
       "      <td>Operation HOPE</td>\n",
       "      <td>DEPARTMENT: Program OperationsPOSITION LOCATIO...</td>\n",
       "      <td>44.0</td>\n",
       "      <td>Atlanta, GA 30303</td>\n",
       "      <td>Atlanta, GA</td>\n",
       "      <td>GA</td>\n",
       "      <td>Atlanta</td>\n",
       "      <td>[]</td>\n",
       "      <td>[Data Analyst]</td>\n",
       "      <td>...</td>\n",
       "      <td>False</td>\n",
       "      <td>False</td>\n",
       "      <td>False</td>\n",
       "      <td>False</td>\n",
       "      <td>False</td>\n",
       "      <td>False</td>\n",
       "      <td>True</td>\n",
       "      <td>False</td>\n",
       "      <td>[25 years]</td>\n",
       "      <td>1.0</td>\n",
       "    </tr>\n",
       "    <tr>\n",
       "      <th>4</th>\n",
       "      <td>Assistant Professor -TT - Signal Processing &amp; ...</td>\n",
       "      <td>Emory University</td>\n",
       "      <td>DESCRIPTION\\nThe Emory University Department o...</td>\n",
       "      <td>550.0</td>\n",
       "      <td>Atlanta, GA</td>\n",
       "      <td>Atlanta, GA</td>\n",
       "      <td>GA</td>\n",
       "      <td>Atlanta</td>\n",
       "      <td>[]</td>\n",
       "      <td>[]</td>\n",
       "      <td>...</td>\n",
       "      <td>False</td>\n",
       "      <td>False</td>\n",
       "      <td>False</td>\n",
       "      <td>False</td>\n",
       "      <td>False</td>\n",
       "      <td>True</td>\n",
       "      <td>False</td>\n",
       "      <td>False</td>\n",
       "      <td>[]</td>\n",
       "      <td>0.0</td>\n",
       "    </tr>\n",
       "  </tbody>\n",
       "</table>\n",
       "<p>5 rows × 30 columns</p>\n",
       "</div>"
      ],
      "text/plain": [
       "                                            position             company  \\\n",
       "0                               Development Director             ALS TDI   \n",
       "1  An Ostentatiously-Excitable Principal Research...  The Hexagon Lavish   \n",
       "2                                     Data Scientist      Xpert Staffing   \n",
       "3                                       Data Analyst      Operation HOPE   \n",
       "4  Assistant Professor -TT - Signal Processing & ...    Emory University   \n",
       "\n",
       "                                         description  reviews  \\\n",
       "0  Development Director\\nALS Therapy Development ...    230.0   \n",
       "1  Job Description\\n\\n\"The road that leads to acc...    230.0   \n",
       "2  Growing company located in the Atlanta, GA are...    230.0   \n",
       "3  DEPARTMENT: Program OperationsPOSITION LOCATIO...     44.0   \n",
       "4  DESCRIPTION\\nThe Emory University Department o...    550.0   \n",
       "\n",
       "             location   city,state state     city            ds_yes  \\\n",
       "0  Atlanta, GA 30301   Atlanta, GA    GA  Atlanta                []   \n",
       "1         Atlanta, GA  Atlanta, GA    GA  Atlanta                []   \n",
       "2         Atlanta, GA  Atlanta, GA    GA  Atlanta  [Data Scientist]   \n",
       "3  Atlanta, GA 30303   Atlanta, GA    GA  Atlanta                []   \n",
       "4         Atlanta, GA  Atlanta, GA    GA  Atlanta                []   \n",
       "\n",
       "           da_yes  ... senior_clean manager_clean director_clean  \\\n",
       "0              []  ...        False         False           True   \n",
       "1              []  ...        False         False          False   \n",
       "2              []  ...        False         False          False   \n",
       "3  [Data Analyst]  ...        False         False          False   \n",
       "4              []  ...        False         False          False   \n",
       "\n",
       "  engineer_clean junior_clean phd_clean bachelor_clean master_clean  \\\n",
       "0          False        False     False           True        False   \n",
       "1          False        False     False          False         True   \n",
       "2          False        False     False          False         True   \n",
       "3          False        False     False           True        False   \n",
       "4          False        False      True          False        False   \n",
       "\n",
       "      ex_years how_often_exp_req  \n",
       "0  [6-8 years]               1.0  \n",
       "1           []               0.0  \n",
       "2           []               0.0  \n",
       "3   [25 years]               1.0  \n",
       "4           []               0.0  \n",
       "\n",
       "[5 rows x 30 columns]"
      ]
     },
     "execution_count": 250,
     "metadata": {},
     "output_type": "execute_result"
    }
   ],
   "source": [
    "data.head()"
   ]
  },
  {
   "cell_type": "markdown",
   "id": "c9a0a58a",
   "metadata": {},
   "source": [
    " ## 'company' column"
   ]
  },
  {
   "cell_type": "code",
   "execution_count": null,
   "id": "43662cfd",
   "metadata": {},
   "outputs": [],
   "source": [
    "#  after discussion we are removing the column which doesnt make much sense for this analysis\n",
    "data = data.drop(['company'], axis = 1)"
   ]
  },
  {
   "cell_type": "markdown",
   "id": "5f4e4be0",
   "metadata": {},
   "source": [
    "## Final Dataframes"
   ]
  },
  {
   "cell_type": "code",
   "execution_count": null,
   "id": "ed82137d",
   "metadata": {},
   "outputs": [],
   "source": [
    "# assign this to a varibale:\n",
    "state = data.groupby(['state']).mean()\n",
    "\n",
    "# extract .csv file and feed into tableau"
   ]
  },
  {
   "cell_type": "code",
   "execution_count": null,
   "id": "458fcad3",
   "metadata": {},
   "outputs": [],
   "source": [
    "# Export DataFrame into .csv file\n",
    "state.to_csv('project_1_state.csv')"
   ]
  },
  {
   "cell_type": "code",
   "execution_count": null,
   "id": "48e7f651",
   "metadata": {},
   "outputs": [],
   "source": [
    "# assign this to a varibale:\n",
    "city = data.groupby(['city']).mean()"
   ]
  },
  {
   "cell_type": "code",
   "execution_count": null,
   "id": "6947bfaa",
   "metadata": {},
   "outputs": [],
   "source": [
    "# extract .csv file and feed into tableau\n",
    "city.to_csv('project_1_city.csv')"
   ]
  },
  {
   "cell_type": "code",
   "execution_count": null,
   "id": "278a9994",
   "metadata": {},
   "outputs": [],
   "source": [
    "# Export DataFrame into .csv file\n",
    "\n",
    "data.to_csv('project_1_clean.csv')"
   ]
  }
 ],
 "metadata": {
  "kernelspec": {
   "display_name": "Python 3",
   "language": "python",
   "name": "python3"
  },
  "language_info": {
   "codemirror_mode": {
    "name": "ipython",
    "version": 3
   },
   "file_extension": ".py",
   "mimetype": "text/x-python",
   "name": "python",
   "nbconvert_exporter": "python",
   "pygments_lexer": "ipython3",
   "version": "3.8.10"
  },
  "toc": {
   "base_numbering": 1,
   "nav_menu": {},
   "number_sections": false,
   "sideBar": true,
   "skip_h1_title": false,
   "title_cell": "Table of Contents",
   "title_sidebar": "Contents",
   "toc_cell": false,
   "toc_position": {},
   "toc_section_display": true,
   "toc_window_display": true
  }
 },
 "nbformat": 4,
 "nbformat_minor": 5
}
