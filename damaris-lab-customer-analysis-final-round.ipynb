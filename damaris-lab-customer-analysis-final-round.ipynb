{
 "cells": [
  {
   "cell_type": "markdown",
   "id": "cbb878a5",
   "metadata": {},
   "source": [
    "# Lab Customer Analysis (predicting claim amount) (final round)"
   ]
  },
  {
   "cell_type": "markdown",
   "id": "1d9fb0fc",
   "metadata": {},
   "source": [
    "**importing packages**"
   ]
  },
  {
   "cell_type": "code",
   "execution_count": 77,
   "id": "ca6b9e95",
   "metadata": {},
   "outputs": [],
   "source": [
    "# pandas, numpy, matplotlib, %matplotlib inline, seaborn \n",
    "\n",
    "import pandas as pd \n",
    "import numpy as np \n",
    "import matplotlib.pyplot as plt\n",
    "import seaborn as sns \n",
    "%matplotlib inline "
   ]
  },
  {
   "cell_type": "code",
   "execution_count": 78,
   "id": "5d6ab7ba",
   "metadata": {},
   "outputs": [],
   "source": [
    "#import the model\n",
    "\n",
    "from sklearn import linear_model\n",
    "\n",
    "#import evaluation metrics\n",
    "from sklearn.metrics import mean_squared_error, r2_score "
   ]
  },
  {
   "cell_type": "markdown",
   "id": "88ea9c18",
   "metadata": {},
   "source": [
    "**Reading the data, review the shape** "
   ]
  },
  {
   "cell_type": "code",
   "execution_count": 79,
   "id": "e5267e40",
   "metadata": {},
   "outputs": [],
   "source": [
    "data=pd.read_csv('./clean_marketing.csv')"
   ]
  },
  {
   "cell_type": "code",
   "execution_count": 80,
   "id": "27717ddb",
   "metadata": {},
   "outputs": [
    {
     "data": {
      "text/html": [
       "<div>\n",
       "<style scoped>\n",
       "    .dataframe tbody tr th:only-of-type {\n",
       "        vertical-align: middle;\n",
       "    }\n",
       "\n",
       "    .dataframe tbody tr th {\n",
       "        vertical-align: top;\n",
       "    }\n",
       "\n",
       "    .dataframe thead th {\n",
       "        text-align: right;\n",
       "    }\n",
       "</style>\n",
       "<table border=\"1\" class=\"dataframe\">\n",
       "  <thead>\n",
       "    <tr style=\"text-align: right;\">\n",
       "      <th></th>\n",
       "      <th>Unnamed: 0</th>\n",
       "      <th>customer</th>\n",
       "      <th>state</th>\n",
       "      <th>customer_lifetime_value</th>\n",
       "      <th>response</th>\n",
       "      <th>coverage</th>\n",
       "      <th>education</th>\n",
       "      <th>effective_to_date</th>\n",
       "      <th>employmentstatus</th>\n",
       "      <th>gender</th>\n",
       "      <th>...</th>\n",
       "      <th>number_of_open_complaints</th>\n",
       "      <th>number_of_policies</th>\n",
       "      <th>policy_type</th>\n",
       "      <th>policy</th>\n",
       "      <th>renew_offer_type</th>\n",
       "      <th>sales_channel</th>\n",
       "      <th>total_claim_amount</th>\n",
       "      <th>vehicle_class</th>\n",
       "      <th>vehicle_size</th>\n",
       "      <th>effective_to_date_month</th>\n",
       "    </tr>\n",
       "  </thead>\n",
       "  <tbody>\n",
       "    <tr>\n",
       "      <th>0</th>\n",
       "      <td>0</td>\n",
       "      <td>BU79786</td>\n",
       "      <td>Washington</td>\n",
       "      <td>2763.519279</td>\n",
       "      <td>No</td>\n",
       "      <td>Basic</td>\n",
       "      <td>Bachelor</td>\n",
       "      <td>2011-02-24</td>\n",
       "      <td>Employed</td>\n",
       "      <td>F</td>\n",
       "      <td>...</td>\n",
       "      <td>0</td>\n",
       "      <td>1</td>\n",
       "      <td>Corporate Auto</td>\n",
       "      <td>Corporate L3</td>\n",
       "      <td>Offer1</td>\n",
       "      <td>Agent</td>\n",
       "      <td>384.811147</td>\n",
       "      <td>Two-Door Car</td>\n",
       "      <td>Medsize</td>\n",
       "      <td>2</td>\n",
       "    </tr>\n",
       "    <tr>\n",
       "      <th>1</th>\n",
       "      <td>1</td>\n",
       "      <td>QZ44356</td>\n",
       "      <td>Arizona</td>\n",
       "      <td>6979.535903</td>\n",
       "      <td>No</td>\n",
       "      <td>Extended</td>\n",
       "      <td>Bachelor</td>\n",
       "      <td>2011-01-31</td>\n",
       "      <td>Unemployed</td>\n",
       "      <td>F</td>\n",
       "      <td>...</td>\n",
       "      <td>0</td>\n",
       "      <td>8</td>\n",
       "      <td>Personal Auto</td>\n",
       "      <td>Personal L3</td>\n",
       "      <td>Offer3</td>\n",
       "      <td>Agent</td>\n",
       "      <td>1131.464935</td>\n",
       "      <td>Four-Door Car</td>\n",
       "      <td>Medsize</td>\n",
       "      <td>1</td>\n",
       "    </tr>\n",
       "    <tr>\n",
       "      <th>2</th>\n",
       "      <td>2</td>\n",
       "      <td>AI49188</td>\n",
       "      <td>Nevada</td>\n",
       "      <td>12887.431650</td>\n",
       "      <td>No</td>\n",
       "      <td>Premium</td>\n",
       "      <td>Bachelor</td>\n",
       "      <td>2011-02-19</td>\n",
       "      <td>Employed</td>\n",
       "      <td>F</td>\n",
       "      <td>...</td>\n",
       "      <td>0</td>\n",
       "      <td>2</td>\n",
       "      <td>Personal Auto</td>\n",
       "      <td>Personal L3</td>\n",
       "      <td>Offer1</td>\n",
       "      <td>Agent</td>\n",
       "      <td>566.472247</td>\n",
       "      <td>Two-Door Car</td>\n",
       "      <td>Medsize</td>\n",
       "      <td>2</td>\n",
       "    </tr>\n",
       "    <tr>\n",
       "      <th>3</th>\n",
       "      <td>3</td>\n",
       "      <td>WW63253</td>\n",
       "      <td>California</td>\n",
       "      <td>7645.861827</td>\n",
       "      <td>No</td>\n",
       "      <td>Basic</td>\n",
       "      <td>Bachelor</td>\n",
       "      <td>2011-01-20</td>\n",
       "      <td>Unemployed</td>\n",
       "      <td>M</td>\n",
       "      <td>...</td>\n",
       "      <td>0</td>\n",
       "      <td>7</td>\n",
       "      <td>Corporate Auto</td>\n",
       "      <td>Corporate L2</td>\n",
       "      <td>Offer1</td>\n",
       "      <td>Call Center</td>\n",
       "      <td>529.881344</td>\n",
       "      <td>SUV</td>\n",
       "      <td>Medsize</td>\n",
       "      <td>1</td>\n",
       "    </tr>\n",
       "    <tr>\n",
       "      <th>4</th>\n",
       "      <td>4</td>\n",
       "      <td>HB64268</td>\n",
       "      <td>Washington</td>\n",
       "      <td>2813.692575</td>\n",
       "      <td>No</td>\n",
       "      <td>Basic</td>\n",
       "      <td>Bachelor</td>\n",
       "      <td>2011-02-03</td>\n",
       "      <td>Employed</td>\n",
       "      <td>M</td>\n",
       "      <td>...</td>\n",
       "      <td>0</td>\n",
       "      <td>1</td>\n",
       "      <td>Personal Auto</td>\n",
       "      <td>Personal L1</td>\n",
       "      <td>Offer1</td>\n",
       "      <td>Agent</td>\n",
       "      <td>138.130879</td>\n",
       "      <td>Four-Door Car</td>\n",
       "      <td>Medsize</td>\n",
       "      <td>2</td>\n",
       "    </tr>\n",
       "    <tr>\n",
       "      <th>5</th>\n",
       "      <td>5</td>\n",
       "      <td>OC83172</td>\n",
       "      <td>Oregon</td>\n",
       "      <td>8256.297800</td>\n",
       "      <td>Yes</td>\n",
       "      <td>Basic</td>\n",
       "      <td>Bachelor</td>\n",
       "      <td>2011-01-25</td>\n",
       "      <td>Employed</td>\n",
       "      <td>F</td>\n",
       "      <td>...</td>\n",
       "      <td>0</td>\n",
       "      <td>2</td>\n",
       "      <td>Personal Auto</td>\n",
       "      <td>Personal L3</td>\n",
       "      <td>Offer2</td>\n",
       "      <td>Web</td>\n",
       "      <td>159.383042</td>\n",
       "      <td>Two-Door Car</td>\n",
       "      <td>Medsize</td>\n",
       "      <td>1</td>\n",
       "    </tr>\n",
       "    <tr>\n",
       "      <th>6</th>\n",
       "      <td>6</td>\n",
       "      <td>XZ87318</td>\n",
       "      <td>Oregon</td>\n",
       "      <td>5380.898636</td>\n",
       "      <td>Yes</td>\n",
       "      <td>Basic</td>\n",
       "      <td>College</td>\n",
       "      <td>2011-02-24</td>\n",
       "      <td>Employed</td>\n",
       "      <td>F</td>\n",
       "      <td>...</td>\n",
       "      <td>0</td>\n",
       "      <td>9</td>\n",
       "      <td>Corporate Auto</td>\n",
       "      <td>Corporate L3</td>\n",
       "      <td>Offer1</td>\n",
       "      <td>Agent</td>\n",
       "      <td>321.600000</td>\n",
       "      <td>Four-Door Car</td>\n",
       "      <td>Medsize</td>\n",
       "      <td>2</td>\n",
       "    </tr>\n",
       "    <tr>\n",
       "      <th>7</th>\n",
       "      <td>7</td>\n",
       "      <td>CF85061</td>\n",
       "      <td>Arizona</td>\n",
       "      <td>7216.100311</td>\n",
       "      <td>No</td>\n",
       "      <td>Premium</td>\n",
       "      <td>Master</td>\n",
       "      <td>2011-01-18</td>\n",
       "      <td>Unemployed</td>\n",
       "      <td>M</td>\n",
       "      <td>...</td>\n",
       "      <td>0</td>\n",
       "      <td>4</td>\n",
       "      <td>Corporate Auto</td>\n",
       "      <td>Corporate L3</td>\n",
       "      <td>Offer1</td>\n",
       "      <td>Agent</td>\n",
       "      <td>363.029680</td>\n",
       "      <td>Four-Door Car</td>\n",
       "      <td>Medsize</td>\n",
       "      <td>1</td>\n",
       "    </tr>\n",
       "    <tr>\n",
       "      <th>8</th>\n",
       "      <td>8</td>\n",
       "      <td>DY87989</td>\n",
       "      <td>Oregon</td>\n",
       "      <td>24127.504020</td>\n",
       "      <td>Yes</td>\n",
       "      <td>Basic</td>\n",
       "      <td>Bachelor</td>\n",
       "      <td>2011-01-26</td>\n",
       "      <td>Medical Leave</td>\n",
       "      <td>M</td>\n",
       "      <td>...</td>\n",
       "      <td>0</td>\n",
       "      <td>2</td>\n",
       "      <td>Corporate Auto</td>\n",
       "      <td>Corporate L3</td>\n",
       "      <td>Offer1</td>\n",
       "      <td>Agent</td>\n",
       "      <td>511.200000</td>\n",
       "      <td>Four-Door Car</td>\n",
       "      <td>Medsize</td>\n",
       "      <td>1</td>\n",
       "    </tr>\n",
       "    <tr>\n",
       "      <th>9</th>\n",
       "      <td>9</td>\n",
       "      <td>BQ94931</td>\n",
       "      <td>Oregon</td>\n",
       "      <td>7388.178085</td>\n",
       "      <td>No</td>\n",
       "      <td>Extended</td>\n",
       "      <td>College</td>\n",
       "      <td>2011-02-17</td>\n",
       "      <td>Employed</td>\n",
       "      <td>F</td>\n",
       "      <td>...</td>\n",
       "      <td>0</td>\n",
       "      <td>8</td>\n",
       "      <td>Special Auto</td>\n",
       "      <td>Special L2</td>\n",
       "      <td>Offer2</td>\n",
       "      <td>Branch</td>\n",
       "      <td>425.527834</td>\n",
       "      <td>Four-Door Car</td>\n",
       "      <td>Medsize</td>\n",
       "      <td>2</td>\n",
       "    </tr>\n",
       "    <tr>\n",
       "      <th>10</th>\n",
       "      <td>10</td>\n",
       "      <td>SX51350</td>\n",
       "      <td>California</td>\n",
       "      <td>4738.992022</td>\n",
       "      <td>No</td>\n",
       "      <td>Basic</td>\n",
       "      <td>College</td>\n",
       "      <td>2011-02-21</td>\n",
       "      <td>Unemployed</td>\n",
       "      <td>M</td>\n",
       "      <td>...</td>\n",
       "      <td>0</td>\n",
       "      <td>3</td>\n",
       "      <td>Personal Auto</td>\n",
       "      <td>Personal L3</td>\n",
       "      <td>Offer1</td>\n",
       "      <td>Agent</td>\n",
       "      <td>482.400000</td>\n",
       "      <td>Four-Door Car</td>\n",
       "      <td>Small</td>\n",
       "      <td>2</td>\n",
       "    </tr>\n",
       "    <tr>\n",
       "      <th>11</th>\n",
       "      <td>11</td>\n",
       "      <td>VQ65197</td>\n",
       "      <td>California</td>\n",
       "      <td>8197.197078</td>\n",
       "      <td>No</td>\n",
       "      <td>Basic</td>\n",
       "      <td>College</td>\n",
       "      <td>2011-01-06</td>\n",
       "      <td>Unemployed</td>\n",
       "      <td>F</td>\n",
       "      <td>...</td>\n",
       "      <td>0</td>\n",
       "      <td>3</td>\n",
       "      <td>Personal Auto</td>\n",
       "      <td>Personal L3</td>\n",
       "      <td>Offer2</td>\n",
       "      <td>Agent</td>\n",
       "      <td>528.000000</td>\n",
       "      <td>SUV</td>\n",
       "      <td>Medsize</td>\n",
       "      <td>1</td>\n",
       "    </tr>\n",
       "    <tr>\n",
       "      <th>12</th>\n",
       "      <td>12</td>\n",
       "      <td>DP39365</td>\n",
       "      <td>California</td>\n",
       "      <td>8798.797003</td>\n",
       "      <td>No</td>\n",
       "      <td>Premium</td>\n",
       "      <td>Master</td>\n",
       "      <td>2011-02-06</td>\n",
       "      <td>Employed</td>\n",
       "      <td>M</td>\n",
       "      <td>...</td>\n",
       "      <td>2</td>\n",
       "      <td>3</td>\n",
       "      <td>Corporate Auto</td>\n",
       "      <td>Corporate L1</td>\n",
       "      <td>Offer2</td>\n",
       "      <td>Agent</td>\n",
       "      <td>472.029737</td>\n",
       "      <td>Four-Door Car</td>\n",
       "      <td>Medsize</td>\n",
       "      <td>2</td>\n",
       "    </tr>\n",
       "    <tr>\n",
       "      <th>13</th>\n",
       "      <td>13</td>\n",
       "      <td>SJ95423</td>\n",
       "      <td>Arizona</td>\n",
       "      <td>8819.018934</td>\n",
       "      <td>Yes</td>\n",
       "      <td>Basic</td>\n",
       "      <td>High School or Below</td>\n",
       "      <td>2011-01-10</td>\n",
       "      <td>Employed</td>\n",
       "      <td>M</td>\n",
       "      <td>...</td>\n",
       "      <td>1</td>\n",
       "      <td>8</td>\n",
       "      <td>Corporate Auto</td>\n",
       "      <td>Corporate L3</td>\n",
       "      <td>Offer2</td>\n",
       "      <td>Branch</td>\n",
       "      <td>528.000000</td>\n",
       "      <td>SUV</td>\n",
       "      <td>Medsize</td>\n",
       "      <td>1</td>\n",
       "    </tr>\n",
       "    <tr>\n",
       "      <th>14</th>\n",
       "      <td>14</td>\n",
       "      <td>IL66569</td>\n",
       "      <td>California</td>\n",
       "      <td>5384.431665</td>\n",
       "      <td>No</td>\n",
       "      <td>Basic</td>\n",
       "      <td>College</td>\n",
       "      <td>2011-01-18</td>\n",
       "      <td>Employed</td>\n",
       "      <td>M</td>\n",
       "      <td>...</td>\n",
       "      <td>2</td>\n",
       "      <td>8</td>\n",
       "      <td>Corporate Auto</td>\n",
       "      <td>Corporate L3</td>\n",
       "      <td>Offer4</td>\n",
       "      <td>Call Center</td>\n",
       "      <td>307.139132</td>\n",
       "      <td>Four-Door Car</td>\n",
       "      <td>Medsize</td>\n",
       "      <td>1</td>\n",
       "    </tr>\n",
       "    <tr>\n",
       "      <th>15</th>\n",
       "      <td>15</td>\n",
       "      <td>BW63560</td>\n",
       "      <td>Oregon</td>\n",
       "      <td>7463.139377</td>\n",
       "      <td>No</td>\n",
       "      <td>Basic</td>\n",
       "      <td>Bachelor</td>\n",
       "      <td>2011-01-17</td>\n",
       "      <td>Employed</td>\n",
       "      <td>F</td>\n",
       "      <td>...</td>\n",
       "      <td>1</td>\n",
       "      <td>2</td>\n",
       "      <td>Corporate Auto</td>\n",
       "      <td>Corporate L2</td>\n",
       "      <td>Offer2</td>\n",
       "      <td>Branch</td>\n",
       "      <td>42.920271</td>\n",
       "      <td>Four-Door Car</td>\n",
       "      <td>Medsize</td>\n",
       "      <td>1</td>\n",
       "    </tr>\n",
       "    <tr>\n",
       "      <th>16</th>\n",
       "      <td>16</td>\n",
       "      <td>FV94802</td>\n",
       "      <td>Nevada</td>\n",
       "      <td>2566.867823</td>\n",
       "      <td>No</td>\n",
       "      <td>Basic</td>\n",
       "      <td>High School or Below</td>\n",
       "      <td>2011-02-06</td>\n",
       "      <td>Medical Leave</td>\n",
       "      <td>M</td>\n",
       "      <td>...</td>\n",
       "      <td>0</td>\n",
       "      <td>1</td>\n",
       "      <td>Personal Auto</td>\n",
       "      <td>Personal L3</td>\n",
       "      <td>Offer2</td>\n",
       "      <td>Call Center</td>\n",
       "      <td>454.245098</td>\n",
       "      <td>Two-Door Car</td>\n",
       "      <td>Medsize</td>\n",
       "      <td>2</td>\n",
       "    </tr>\n",
       "    <tr>\n",
       "      <th>17</th>\n",
       "      <td>17</td>\n",
       "      <td>OE15005</td>\n",
       "      <td>California</td>\n",
       "      <td>3945.241604</td>\n",
       "      <td>No</td>\n",
       "      <td>Basic</td>\n",
       "      <td>College</td>\n",
       "      <td>2011-01-05</td>\n",
       "      <td>Medical Leave</td>\n",
       "      <td>M</td>\n",
       "      <td>...</td>\n",
       "      <td>0</td>\n",
       "      <td>1</td>\n",
       "      <td>Personal Auto</td>\n",
       "      <td>Personal L2</td>\n",
       "      <td>Offer3</td>\n",
       "      <td>Call Center</td>\n",
       "      <td>647.442031</td>\n",
       "      <td>SUV</td>\n",
       "      <td>Medsize</td>\n",
       "      <td>1</td>\n",
       "    </tr>\n",
       "    <tr>\n",
       "      <th>18</th>\n",
       "      <td>18</td>\n",
       "      <td>WC83389</td>\n",
       "      <td>Oregon</td>\n",
       "      <td>5710.333115</td>\n",
       "      <td>No</td>\n",
       "      <td>Basic</td>\n",
       "      <td>College</td>\n",
       "      <td>2011-02-27</td>\n",
       "      <td>Employed</td>\n",
       "      <td>M</td>\n",
       "      <td>...</td>\n",
       "      <td>0</td>\n",
       "      <td>7</td>\n",
       "      <td>Personal Auto</td>\n",
       "      <td>Personal L2</td>\n",
       "      <td>Offer2</td>\n",
       "      <td>Branch</td>\n",
       "      <td>308.981664</td>\n",
       "      <td>Four-Door Car</td>\n",
       "      <td>Medsize</td>\n",
       "      <td>2</td>\n",
       "    </tr>\n",
       "    <tr>\n",
       "      <th>19</th>\n",
       "      <td>19</td>\n",
       "      <td>FL50705</td>\n",
       "      <td>California</td>\n",
       "      <td>8162.617053</td>\n",
       "      <td>No</td>\n",
       "      <td>Premium</td>\n",
       "      <td>High School or Below</td>\n",
       "      <td>2011-01-14</td>\n",
       "      <td>Employed</td>\n",
       "      <td>F</td>\n",
       "      <td>...</td>\n",
       "      <td>0</td>\n",
       "      <td>3</td>\n",
       "      <td>Corporate Auto</td>\n",
       "      <td>Corporate L2</td>\n",
       "      <td>Offer1</td>\n",
       "      <td>Call Center</td>\n",
       "      <td>484.800000</td>\n",
       "      <td>Four-Door Car</td>\n",
       "      <td>Small</td>\n",
       "      <td>1</td>\n",
       "    </tr>\n",
       "  </tbody>\n",
       "</table>\n",
       "<p>20 rows × 26 columns</p>\n",
       "</div>"
      ],
      "text/plain": [
       "    Unnamed: 0 customer       state  customer_lifetime_value response  \\\n",
       "0            0  BU79786  Washington              2763.519279       No   \n",
       "1            1  QZ44356     Arizona              6979.535903       No   \n",
       "2            2  AI49188      Nevada             12887.431650       No   \n",
       "3            3  WW63253  California              7645.861827       No   \n",
       "4            4  HB64268  Washington              2813.692575       No   \n",
       "5            5  OC83172      Oregon              8256.297800      Yes   \n",
       "6            6  XZ87318      Oregon              5380.898636      Yes   \n",
       "7            7  CF85061     Arizona              7216.100311       No   \n",
       "8            8  DY87989      Oregon             24127.504020      Yes   \n",
       "9            9  BQ94931      Oregon              7388.178085       No   \n",
       "10          10  SX51350  California              4738.992022       No   \n",
       "11          11  VQ65197  California              8197.197078       No   \n",
       "12          12  DP39365  California              8798.797003       No   \n",
       "13          13  SJ95423     Arizona              8819.018934      Yes   \n",
       "14          14  IL66569  California              5384.431665       No   \n",
       "15          15  BW63560      Oregon              7463.139377       No   \n",
       "16          16  FV94802      Nevada              2566.867823       No   \n",
       "17          17  OE15005  California              3945.241604       No   \n",
       "18          18  WC83389      Oregon              5710.333115       No   \n",
       "19          19  FL50705  California              8162.617053       No   \n",
       "\n",
       "    coverage             education effective_to_date employmentstatus gender  \\\n",
       "0      Basic              Bachelor        2011-02-24         Employed      F   \n",
       "1   Extended              Bachelor        2011-01-31       Unemployed      F   \n",
       "2    Premium              Bachelor        2011-02-19         Employed      F   \n",
       "3      Basic              Bachelor        2011-01-20       Unemployed      M   \n",
       "4      Basic              Bachelor        2011-02-03         Employed      M   \n",
       "5      Basic              Bachelor        2011-01-25         Employed      F   \n",
       "6      Basic               College        2011-02-24         Employed      F   \n",
       "7    Premium                Master        2011-01-18       Unemployed      M   \n",
       "8      Basic              Bachelor        2011-01-26    Medical Leave      M   \n",
       "9   Extended               College        2011-02-17         Employed      F   \n",
       "10     Basic               College        2011-02-21       Unemployed      M   \n",
       "11     Basic               College        2011-01-06       Unemployed      F   \n",
       "12   Premium                Master        2011-02-06         Employed      M   \n",
       "13     Basic  High School or Below        2011-01-10         Employed      M   \n",
       "14     Basic               College        2011-01-18         Employed      M   \n",
       "15     Basic              Bachelor        2011-01-17         Employed      F   \n",
       "16     Basic  High School or Below        2011-02-06    Medical Leave      M   \n",
       "17     Basic               College        2011-01-05    Medical Leave      M   \n",
       "18     Basic               College        2011-02-27         Employed      M   \n",
       "19   Premium  High School or Below        2011-01-14         Employed      F   \n",
       "\n",
       "    ...  number_of_open_complaints number_of_policies     policy_type  \\\n",
       "0   ...                          0                  1  Corporate Auto   \n",
       "1   ...                          0                  8   Personal Auto   \n",
       "2   ...                          0                  2   Personal Auto   \n",
       "3   ...                          0                  7  Corporate Auto   \n",
       "4   ...                          0                  1   Personal Auto   \n",
       "5   ...                          0                  2   Personal Auto   \n",
       "6   ...                          0                  9  Corporate Auto   \n",
       "7   ...                          0                  4  Corporate Auto   \n",
       "8   ...                          0                  2  Corporate Auto   \n",
       "9   ...                          0                  8    Special Auto   \n",
       "10  ...                          0                  3   Personal Auto   \n",
       "11  ...                          0                  3   Personal Auto   \n",
       "12  ...                          2                  3  Corporate Auto   \n",
       "13  ...                          1                  8  Corporate Auto   \n",
       "14  ...                          2                  8  Corporate Auto   \n",
       "15  ...                          1                  2  Corporate Auto   \n",
       "16  ...                          0                  1   Personal Auto   \n",
       "17  ...                          0                  1   Personal Auto   \n",
       "18  ...                          0                  7   Personal Auto   \n",
       "19  ...                          0                  3  Corporate Auto   \n",
       "\n",
       "          policy  renew_offer_type  sales_channel  total_claim_amount  \\\n",
       "0   Corporate L3            Offer1          Agent          384.811147   \n",
       "1    Personal L3            Offer3          Agent         1131.464935   \n",
       "2    Personal L3            Offer1          Agent          566.472247   \n",
       "3   Corporate L2            Offer1    Call Center          529.881344   \n",
       "4    Personal L1            Offer1          Agent          138.130879   \n",
       "5    Personal L3            Offer2            Web          159.383042   \n",
       "6   Corporate L3            Offer1          Agent          321.600000   \n",
       "7   Corporate L3            Offer1          Agent          363.029680   \n",
       "8   Corporate L3            Offer1          Agent          511.200000   \n",
       "9     Special L2            Offer2         Branch          425.527834   \n",
       "10   Personal L3            Offer1          Agent          482.400000   \n",
       "11   Personal L3            Offer2          Agent          528.000000   \n",
       "12  Corporate L1            Offer2          Agent          472.029737   \n",
       "13  Corporate L3            Offer2         Branch          528.000000   \n",
       "14  Corporate L3            Offer4    Call Center          307.139132   \n",
       "15  Corporate L2            Offer2         Branch           42.920271   \n",
       "16   Personal L3            Offer2    Call Center          454.245098   \n",
       "17   Personal L2            Offer3    Call Center          647.442031   \n",
       "18   Personal L2            Offer2         Branch          308.981664   \n",
       "19  Corporate L2            Offer1    Call Center          484.800000   \n",
       "\n",
       "    vehicle_class vehicle_size effective_to_date_month  \n",
       "0    Two-Door Car      Medsize                       2  \n",
       "1   Four-Door Car      Medsize                       1  \n",
       "2    Two-Door Car      Medsize                       2  \n",
       "3             SUV      Medsize                       1  \n",
       "4   Four-Door Car      Medsize                       2  \n",
       "5    Two-Door Car      Medsize                       1  \n",
       "6   Four-Door Car      Medsize                       2  \n",
       "7   Four-Door Car      Medsize                       1  \n",
       "8   Four-Door Car      Medsize                       1  \n",
       "9   Four-Door Car      Medsize                       2  \n",
       "10  Four-Door Car        Small                       2  \n",
       "11            SUV      Medsize                       1  \n",
       "12  Four-Door Car      Medsize                       2  \n",
       "13            SUV      Medsize                       1  \n",
       "14  Four-Door Car      Medsize                       1  \n",
       "15  Four-Door Car      Medsize                       1  \n",
       "16   Two-Door Car      Medsize                       2  \n",
       "17            SUV      Medsize                       1  \n",
       "18  Four-Door Car      Medsize                       2  \n",
       "19  Four-Door Car        Small                       1  \n",
       "\n",
       "[20 rows x 26 columns]"
      ]
     },
     "execution_count": 80,
     "metadata": {},
     "output_type": "execute_result"
    }
   ],
   "source": [
    "data.head(20)"
   ]
  },
  {
   "cell_type": "code",
   "execution_count": 81,
   "id": "dc14cdd0",
   "metadata": {},
   "outputs": [
    {
     "name": "stdout",
     "output_type": "stream",
     "text": [
      "<class 'pandas.core.frame.DataFrame'>\n",
      "RangeIndex: 9134 entries, 0 to 9133\n",
      "Data columns (total 26 columns):\n",
      " #   Column                         Non-Null Count  Dtype  \n",
      "---  ------                         --------------  -----  \n",
      " 0   Unnamed: 0                     9134 non-null   int64  \n",
      " 1   customer                       9134 non-null   object \n",
      " 2   state                          9134 non-null   object \n",
      " 3   customer_lifetime_value        9134 non-null   float64\n",
      " 4   response                       9134 non-null   object \n",
      " 5   coverage                       9134 non-null   object \n",
      " 6   education                      9134 non-null   object \n",
      " 7   effective_to_date              9134 non-null   object \n",
      " 8   employmentstatus               9134 non-null   object \n",
      " 9   gender                         9134 non-null   object \n",
      " 10  income                         9134 non-null   int64  \n",
      " 11  location_code                  9134 non-null   object \n",
      " 12  marital_status                 9134 non-null   object \n",
      " 13  monthly_premium_auto           9134 non-null   int64  \n",
      " 14  months_since_last_claim        9134 non-null   int64  \n",
      " 15  months_since_policy_inception  9134 non-null   int64  \n",
      " 16  number_of_open_complaints      9134 non-null   int64  \n",
      " 17  number_of_policies             9134 non-null   int64  \n",
      " 18  policy_type                    9134 non-null   object \n",
      " 19  policy                         9134 non-null   object \n",
      " 20  renew_offer_type               9134 non-null   object \n",
      " 21  sales_channel                  9134 non-null   object \n",
      " 22  total_claim_amount             9134 non-null   float64\n",
      " 23  vehicle_class                  9134 non-null   object \n",
      " 24  vehicle_size                   9134 non-null   object \n",
      " 25  effective_to_date_month        9134 non-null   int64  \n",
      "dtypes: float64(2), int64(8), object(16)\n",
      "memory usage: 1.8+ MB\n"
     ]
    }
   ],
   "source": [
    "data.info()"
   ]
  },
  {
   "cell_type": "code",
   "execution_count": 82,
   "id": "5190b8c4",
   "metadata": {},
   "outputs": [
    {
     "data": {
      "text/plain": [
       "(9134, 26)"
      ]
     },
     "execution_count": 82,
     "metadata": {},
     "output_type": "execute_result"
    }
   ],
   "source": [
    "data.shape"
   ]
  },
  {
   "cell_type": "code",
   "execution_count": 83,
   "id": "31358791",
   "metadata": {},
   "outputs": [],
   "source": [
    "# Isolating numerical data\n",
    "data_num=data.select_dtypes(include=np.number)"
   ]
  },
  {
   "cell_type": "code",
   "execution_count": 84,
   "id": "c7e785c0",
   "metadata": {},
   "outputs": [
    {
     "data": {
      "text/html": [
       "<div>\n",
       "<style scoped>\n",
       "    .dataframe tbody tr th:only-of-type {\n",
       "        vertical-align: middle;\n",
       "    }\n",
       "\n",
       "    .dataframe tbody tr th {\n",
       "        vertical-align: top;\n",
       "    }\n",
       "\n",
       "    .dataframe thead th {\n",
       "        text-align: right;\n",
       "    }\n",
       "</style>\n",
       "<table border=\"1\" class=\"dataframe\">\n",
       "  <thead>\n",
       "    <tr style=\"text-align: right;\">\n",
       "      <th></th>\n",
       "      <th>Unnamed: 0</th>\n",
       "      <th>customer_lifetime_value</th>\n",
       "      <th>income</th>\n",
       "      <th>monthly_premium_auto</th>\n",
       "      <th>months_since_last_claim</th>\n",
       "      <th>months_since_policy_inception</th>\n",
       "      <th>number_of_open_complaints</th>\n",
       "      <th>number_of_policies</th>\n",
       "      <th>total_claim_amount</th>\n",
       "      <th>effective_to_date_month</th>\n",
       "    </tr>\n",
       "  </thead>\n",
       "  <tbody>\n",
       "    <tr>\n",
       "      <th>0</th>\n",
       "      <td>0</td>\n",
       "      <td>2763.519279</td>\n",
       "      <td>56274</td>\n",
       "      <td>69</td>\n",
       "      <td>32</td>\n",
       "      <td>5</td>\n",
       "      <td>0</td>\n",
       "      <td>1</td>\n",
       "      <td>384.811147</td>\n",
       "      <td>2</td>\n",
       "    </tr>\n",
       "    <tr>\n",
       "      <th>1</th>\n",
       "      <td>1</td>\n",
       "      <td>6979.535903</td>\n",
       "      <td>0</td>\n",
       "      <td>94</td>\n",
       "      <td>13</td>\n",
       "      <td>42</td>\n",
       "      <td>0</td>\n",
       "      <td>8</td>\n",
       "      <td>1131.464935</td>\n",
       "      <td>1</td>\n",
       "    </tr>\n",
       "    <tr>\n",
       "      <th>2</th>\n",
       "      <td>2</td>\n",
       "      <td>12887.431650</td>\n",
       "      <td>48767</td>\n",
       "      <td>108</td>\n",
       "      <td>18</td>\n",
       "      <td>38</td>\n",
       "      <td>0</td>\n",
       "      <td>2</td>\n",
       "      <td>566.472247</td>\n",
       "      <td>2</td>\n",
       "    </tr>\n",
       "    <tr>\n",
       "      <th>3</th>\n",
       "      <td>3</td>\n",
       "      <td>7645.861827</td>\n",
       "      <td>0</td>\n",
       "      <td>106</td>\n",
       "      <td>18</td>\n",
       "      <td>65</td>\n",
       "      <td>0</td>\n",
       "      <td>7</td>\n",
       "      <td>529.881344</td>\n",
       "      <td>1</td>\n",
       "    </tr>\n",
       "    <tr>\n",
       "      <th>4</th>\n",
       "      <td>4</td>\n",
       "      <td>2813.692575</td>\n",
       "      <td>43836</td>\n",
       "      <td>73</td>\n",
       "      <td>12</td>\n",
       "      <td>44</td>\n",
       "      <td>0</td>\n",
       "      <td>1</td>\n",
       "      <td>138.130879</td>\n",
       "      <td>2</td>\n",
       "    </tr>\n",
       "    <tr>\n",
       "      <th>5</th>\n",
       "      <td>5</td>\n",
       "      <td>8256.297800</td>\n",
       "      <td>62902</td>\n",
       "      <td>69</td>\n",
       "      <td>14</td>\n",
       "      <td>94</td>\n",
       "      <td>0</td>\n",
       "      <td>2</td>\n",
       "      <td>159.383042</td>\n",
       "      <td>1</td>\n",
       "    </tr>\n",
       "    <tr>\n",
       "      <th>6</th>\n",
       "      <td>6</td>\n",
       "      <td>5380.898636</td>\n",
       "      <td>55350</td>\n",
       "      <td>67</td>\n",
       "      <td>0</td>\n",
       "      <td>13</td>\n",
       "      <td>0</td>\n",
       "      <td>9</td>\n",
       "      <td>321.600000</td>\n",
       "      <td>2</td>\n",
       "    </tr>\n",
       "    <tr>\n",
       "      <th>7</th>\n",
       "      <td>7</td>\n",
       "      <td>7216.100311</td>\n",
       "      <td>0</td>\n",
       "      <td>101</td>\n",
       "      <td>0</td>\n",
       "      <td>68</td>\n",
       "      <td>0</td>\n",
       "      <td>4</td>\n",
       "      <td>363.029680</td>\n",
       "      <td>1</td>\n",
       "    </tr>\n",
       "    <tr>\n",
       "      <th>8</th>\n",
       "      <td>8</td>\n",
       "      <td>24127.504020</td>\n",
       "      <td>14072</td>\n",
       "      <td>71</td>\n",
       "      <td>13</td>\n",
       "      <td>3</td>\n",
       "      <td>0</td>\n",
       "      <td>2</td>\n",
       "      <td>511.200000</td>\n",
       "      <td>1</td>\n",
       "    </tr>\n",
       "    <tr>\n",
       "      <th>9</th>\n",
       "      <td>9</td>\n",
       "      <td>7388.178085</td>\n",
       "      <td>28812</td>\n",
       "      <td>93</td>\n",
       "      <td>17</td>\n",
       "      <td>7</td>\n",
       "      <td>0</td>\n",
       "      <td>8</td>\n",
       "      <td>425.527834</td>\n",
       "      <td>2</td>\n",
       "    </tr>\n",
       "    <tr>\n",
       "      <th>10</th>\n",
       "      <td>10</td>\n",
       "      <td>4738.992022</td>\n",
       "      <td>0</td>\n",
       "      <td>67</td>\n",
       "      <td>23</td>\n",
       "      <td>5</td>\n",
       "      <td>0</td>\n",
       "      <td>3</td>\n",
       "      <td>482.400000</td>\n",
       "      <td>2</td>\n",
       "    </tr>\n",
       "    <tr>\n",
       "      <th>11</th>\n",
       "      <td>11</td>\n",
       "      <td>8197.197078</td>\n",
       "      <td>0</td>\n",
       "      <td>110</td>\n",
       "      <td>27</td>\n",
       "      <td>87</td>\n",
       "      <td>0</td>\n",
       "      <td>3</td>\n",
       "      <td>528.000000</td>\n",
       "      <td>1</td>\n",
       "    </tr>\n",
       "    <tr>\n",
       "      <th>12</th>\n",
       "      <td>12</td>\n",
       "      <td>8798.797003</td>\n",
       "      <td>77026</td>\n",
       "      <td>110</td>\n",
       "      <td>9</td>\n",
       "      <td>82</td>\n",
       "      <td>2</td>\n",
       "      <td>3</td>\n",
       "      <td>472.029737</td>\n",
       "      <td>2</td>\n",
       "    </tr>\n",
       "    <tr>\n",
       "      <th>13</th>\n",
       "      <td>13</td>\n",
       "      <td>8819.018934</td>\n",
       "      <td>99845</td>\n",
       "      <td>110</td>\n",
       "      <td>23</td>\n",
       "      <td>25</td>\n",
       "      <td>1</td>\n",
       "      <td>8</td>\n",
       "      <td>528.000000</td>\n",
       "      <td>1</td>\n",
       "    </tr>\n",
       "    <tr>\n",
       "      <th>14</th>\n",
       "      <td>14</td>\n",
       "      <td>5384.431665</td>\n",
       "      <td>83689</td>\n",
       "      <td>70</td>\n",
       "      <td>21</td>\n",
       "      <td>10</td>\n",
       "      <td>2</td>\n",
       "      <td>8</td>\n",
       "      <td>307.139132</td>\n",
       "      <td>1</td>\n",
       "    </tr>\n",
       "    <tr>\n",
       "      <th>15</th>\n",
       "      <td>15</td>\n",
       "      <td>7463.139377</td>\n",
       "      <td>24599</td>\n",
       "      <td>64</td>\n",
       "      <td>12</td>\n",
       "      <td>50</td>\n",
       "      <td>1</td>\n",
       "      <td>2</td>\n",
       "      <td>42.920271</td>\n",
       "      <td>1</td>\n",
       "    </tr>\n",
       "    <tr>\n",
       "      <th>16</th>\n",
       "      <td>16</td>\n",
       "      <td>2566.867823</td>\n",
       "      <td>25049</td>\n",
       "      <td>67</td>\n",
       "      <td>14</td>\n",
       "      <td>7</td>\n",
       "      <td>0</td>\n",
       "      <td>1</td>\n",
       "      <td>454.245098</td>\n",
       "      <td>2</td>\n",
       "    </tr>\n",
       "    <tr>\n",
       "      <th>17</th>\n",
       "      <td>17</td>\n",
       "      <td>3945.241604</td>\n",
       "      <td>28855</td>\n",
       "      <td>101</td>\n",
       "      <td>12</td>\n",
       "      <td>59</td>\n",
       "      <td>0</td>\n",
       "      <td>1</td>\n",
       "      <td>647.442031</td>\n",
       "      <td>1</td>\n",
       "    </tr>\n",
       "    <tr>\n",
       "      <th>18</th>\n",
       "      <td>18</td>\n",
       "      <td>5710.333115</td>\n",
       "      <td>51148</td>\n",
       "      <td>72</td>\n",
       "      <td>9</td>\n",
       "      <td>1</td>\n",
       "      <td>0</td>\n",
       "      <td>7</td>\n",
       "      <td>308.981664</td>\n",
       "      <td>2</td>\n",
       "    </tr>\n",
       "    <tr>\n",
       "      <th>19</th>\n",
       "      <td>19</td>\n",
       "      <td>8162.617053</td>\n",
       "      <td>66140</td>\n",
       "      <td>101</td>\n",
       "      <td>11</td>\n",
       "      <td>21</td>\n",
       "      <td>0</td>\n",
       "      <td>3</td>\n",
       "      <td>484.800000</td>\n",
       "      <td>1</td>\n",
       "    </tr>\n",
       "  </tbody>\n",
       "</table>\n",
       "</div>"
      ],
      "text/plain": [
       "    Unnamed: 0  customer_lifetime_value  income  monthly_premium_auto  \\\n",
       "0            0              2763.519279   56274                    69   \n",
       "1            1              6979.535903       0                    94   \n",
       "2            2             12887.431650   48767                   108   \n",
       "3            3              7645.861827       0                   106   \n",
       "4            4              2813.692575   43836                    73   \n",
       "5            5              8256.297800   62902                    69   \n",
       "6            6              5380.898636   55350                    67   \n",
       "7            7              7216.100311       0                   101   \n",
       "8            8             24127.504020   14072                    71   \n",
       "9            9              7388.178085   28812                    93   \n",
       "10          10              4738.992022       0                    67   \n",
       "11          11              8197.197078       0                   110   \n",
       "12          12              8798.797003   77026                   110   \n",
       "13          13              8819.018934   99845                   110   \n",
       "14          14              5384.431665   83689                    70   \n",
       "15          15              7463.139377   24599                    64   \n",
       "16          16              2566.867823   25049                    67   \n",
       "17          17              3945.241604   28855                   101   \n",
       "18          18              5710.333115   51148                    72   \n",
       "19          19              8162.617053   66140                   101   \n",
       "\n",
       "    months_since_last_claim  months_since_policy_inception  \\\n",
       "0                        32                              5   \n",
       "1                        13                             42   \n",
       "2                        18                             38   \n",
       "3                        18                             65   \n",
       "4                        12                             44   \n",
       "5                        14                             94   \n",
       "6                         0                             13   \n",
       "7                         0                             68   \n",
       "8                        13                              3   \n",
       "9                        17                              7   \n",
       "10                       23                              5   \n",
       "11                       27                             87   \n",
       "12                        9                             82   \n",
       "13                       23                             25   \n",
       "14                       21                             10   \n",
       "15                       12                             50   \n",
       "16                       14                              7   \n",
       "17                       12                             59   \n",
       "18                        9                              1   \n",
       "19                       11                             21   \n",
       "\n",
       "    number_of_open_complaints  number_of_policies  total_claim_amount  \\\n",
       "0                           0                   1          384.811147   \n",
       "1                           0                   8         1131.464935   \n",
       "2                           0                   2          566.472247   \n",
       "3                           0                   7          529.881344   \n",
       "4                           0                   1          138.130879   \n",
       "5                           0                   2          159.383042   \n",
       "6                           0                   9          321.600000   \n",
       "7                           0                   4          363.029680   \n",
       "8                           0                   2          511.200000   \n",
       "9                           0                   8          425.527834   \n",
       "10                          0                   3          482.400000   \n",
       "11                          0                   3          528.000000   \n",
       "12                          2                   3          472.029737   \n",
       "13                          1                   8          528.000000   \n",
       "14                          2                   8          307.139132   \n",
       "15                          1                   2           42.920271   \n",
       "16                          0                   1          454.245098   \n",
       "17                          0                   1          647.442031   \n",
       "18                          0                   7          308.981664   \n",
       "19                          0                   3          484.800000   \n",
       "\n",
       "    effective_to_date_month  \n",
       "0                         2  \n",
       "1                         1  \n",
       "2                         2  \n",
       "3                         1  \n",
       "4                         2  \n",
       "5                         1  \n",
       "6                         2  \n",
       "7                         1  \n",
       "8                         1  \n",
       "9                         2  \n",
       "10                        2  \n",
       "11                        1  \n",
       "12                        2  \n",
       "13                        1  \n",
       "14                        1  \n",
       "15                        1  \n",
       "16                        2  \n",
       "17                        1  \n",
       "18                        2  \n",
       "19                        1  "
      ]
     },
     "execution_count": 84,
     "metadata": {},
     "output_type": "execute_result"
    }
   ],
   "source": [
    "data_num.head(20)"
   ]
  },
  {
   "cell_type": "code",
   "execution_count": 85,
   "id": "d9536ee1",
   "metadata": {},
   "outputs": [
    {
     "data": {
      "text/plain": [
       "(9134, 10)"
      ]
     },
     "execution_count": 85,
     "metadata": {},
     "output_type": "execute_result"
    }
   ],
   "source": [
    "data_num.shape"
   ]
  },
  {
   "cell_type": "markdown",
   "id": "f5052bc8",
   "metadata": {},
   "source": [
    "**(applying the model before pre-processing)**"
   ]
  },
  {
   "cell_type": "code",
   "execution_count": 86,
   "id": "7d60b08e",
   "metadata": {},
   "outputs": [],
   "source": [
    "y=data_num['total_claim_amount']"
   ]
  },
  {
   "cell_type": "code",
   "execution_count": 87,
   "id": "5aaadd87",
   "metadata": {},
   "outputs": [],
   "source": [
    "X=data_num.drop(['total_claim_amount'],axis=1)"
   ]
  },
  {
   "cell_type": "code",
   "execution_count": 88,
   "id": "d3e4c1c9",
   "metadata": {},
   "outputs": [],
   "source": [
    "lm=linear_model.LinearRegression()"
   ]
  },
  {
   "cell_type": "code",
   "execution_count": 89,
   "id": "f6a8407d",
   "metadata": {},
   "outputs": [
    {
     "data": {
      "text/plain": [
       "0.5188232701358604"
      ]
     },
     "execution_count": 89,
     "metadata": {},
     "output_type": "execute_result"
    }
   ],
   "source": [
    "# fit the model to our data (only numerical data)\n",
    "line=lm.fit(x,y)\n",
    "\n",
    "# calculate a score - R2 score \n",
    "lm.score(x,y)"
   ]
  },
  {
   "cell_type": "code",
   "execution_count": 90,
   "id": "108ecf9d",
   "metadata": {},
   "outputs": [
    {
     "data": {
      "text/plain": [
       "array([242.3846191 , 559.48034308, 467.50841438, ..., 518.42714229,\n",
       "       509.60521733, 478.77124695])"
      ]
     },
     "execution_count": 90,
     "metadata": {},
     "output_type": "execute_result"
    }
   ],
   "source": [
    "predictions  = lm.predict(x)\n",
    "predictions"
   ]
  },
  {
   "cell_type": "code",
   "execution_count": 91,
   "id": "be878e0a",
   "metadata": {},
   "outputs": [
    {
     "data": {
      "text/plain": [
       "0.5188232701358604"
      ]
     },
     "execution_count": 91,
     "metadata": {},
     "output_type": "execute_result"
    }
   ],
   "source": [
    "r2_score(y, predictions)"
   ]
  },
  {
   "cell_type": "code",
   "execution_count": 92,
   "id": "153954f3",
   "metadata": {},
   "outputs": [
    {
     "data": {
      "text/plain": [
       "40602.204533140466"
      ]
     },
     "execution_count": 92,
     "metadata": {},
     "output_type": "execute_result"
    }
   ],
   "source": [
    "mean_squared_error(y, predictions)"
   ]
  },
  {
   "cell_type": "code",
   "execution_count": 93,
   "id": "d300b133",
   "metadata": {},
   "outputs": [
    {
     "data": {
      "text/plain": [
       "66.24243562706215"
      ]
     },
     "execution_count": 93,
     "metadata": {},
     "output_type": "execute_result"
    }
   ],
   "source": [
    "lm.intercept_"
   ]
  },
  {
   "cell_type": "code",
   "execution_count": 94,
   "id": "f57df55d",
   "metadata": {},
   "outputs": [
    {
     "data": {
      "text/plain": [
       "array([ 1.39475926e-03, -6.85010581e-04, -3.29171571e-03,  5.34366918e+00,\n",
       "       -1.45140438e-01, -1.01788808e-01, -1.36015566e+00,  2.69049676e-01,\n",
       "       -2.77775665e-01])"
      ]
     },
     "execution_count": 94,
     "metadata": {},
     "output_type": "execute_result"
    }
   ],
   "source": [
    "lm.coef_"
   ]
  },
  {
   "cell_type": "markdown",
   "id": "3acb7d52",
   "metadata": {},
   "source": [
    "**03.Splitting the data into numeric and categorical features**"
   ]
  },
  {
   "cell_type": "code",
   "execution_count": 95,
   "id": "1edb6d11",
   "metadata": {},
   "outputs": [],
   "source": [
    "y=data['total_claim_amount'] # defining the y predictor variable"
   ]
  },
  {
   "cell_type": "code",
   "execution_count": 96,
   "id": "5bfa1065",
   "metadata": {},
   "outputs": [],
   "source": [
    "data=data.drop(['total_claim_amount'],axis=1) # dropping y from x"
   ]
  },
  {
   "cell_type": "code",
   "execution_count": 97,
   "id": "54531657",
   "metadata": {},
   "outputs": [],
   "source": [
    "x_num=data.select_dtypes(include = np.number)"
   ]
  },
  {
   "cell_type": "code",
   "execution_count": 98,
   "id": "efd1f9b8",
   "metadata": {},
   "outputs": [],
   "source": [
    "x_cat=data.select_dtypes(include = object)"
   ]
  },
  {
   "cell_type": "markdown",
   "id": "e5ca88b7",
   "metadata": {},
   "source": [
    "**04.Pre-processing data**"
   ]
  },
  {
   "cell_type": "markdown",
   "id": "01a026fb",
   "metadata": {},
   "source": [
    "**Outliers. Normalization. (in numeric data)**"
   ]
  },
  {
   "cell_type": "code",
   "execution_count": 99,
   "id": "9d1627ec",
   "metadata": {},
   "outputs": [
    {
     "data": {
      "image/png": "[encoded data removed]",
      "text/plain": [
       "<Figure size 1080x1440 with 9 Axes>"
      ]
     },
     "metadata": {
      "needs_background": "light"
     },
     "output_type": "display_data"
    }
   ],
   "source": [
    "x_num.hist(figsize = (15,20));"
   ]
  },
  {
   "cell_type": "code",
   "execution_count": 100,
   "id": "3edcad95",
   "metadata": {},
   "outputs": [
    {
     "data": {
      "text/plain": [
       "<AxesSubplot:xlabel='customer_lifetime_value'>"
      ]
     },
     "execution_count": 100,
     "metadata": {},
     "output_type": "execute_result"
    },
    {
     "data": {
      "image/png": "[encoded data removed]",
      "text/plain": [
       "<Figure size 432x288 with 1 Axes>"
      ]
     },
     "metadata": {
      "needs_background": "light"
     },
     "output_type": "display_data"
    }
   ],
   "source": [
    "sns.boxplot(x=x_num['customer_lifetime_value'])"
   ]
  },
  {
   "cell_type": "code",
   "execution_count": 101,
   "id": "0959c9fd",
   "metadata": {},
   "outputs": [],
   "source": [
    "x_num=x_num.drop(['Unnamed: 0'],axis=1) #dropping Unnamed: 0 column because it doesn't add value"
   ]
  },
  {
   "cell_type": "code",
   "execution_count": 102,
   "id": "b1c1633f",
   "metadata": {},
   "outputs": [],
   "source": [
    "# removing outliers\n",
    "iqr=np.percentile(x_num['customer_lifetime_value'],75)-np.percentile(x_num['customer_lifetime_value'],25)\n",
    "upper_limit=np.percentile(x_num['customer_lifetime_value'],75)+(1.5*iqr)\n",
    "lower_limit=np.percentile(x_num['customer_lifetime_value'],25)-(1.5*iqr)\n",
    "excl_outliers=x_num[(x_num['customer_lifetime_value']>lower_limit)&(x_num['customer_lifetime_value']<upper_limit)]"
   ]
  },
  {
   "cell_type": "code",
   "execution_count": 103,
   "id": "406dd770",
   "metadata": {},
   "outputs": [
    {
     "data": {
      "text/plain": [
       "<AxesSubplot:xlabel='customer_lifetime_value'>"
      ]
     },
     "execution_count": 103,
     "metadata": {},
     "output_type": "execute_result"
    },
    {
     "data": {
      "image/png": "[encoded data removed]",
      "text/plain": [
       "<Figure size 432x288 with 1 Axes>"
      ]
     },
     "metadata": {
      "needs_background": "light"
     },
     "output_type": "display_data"
    }
   ],
   "source": [
    "sns.boxplot(x=excl_outliers['customer_lifetime_value'])"
   ]
  },
  {
   "cell_type": "code",
   "execution_count": 104,
   "id": "317f9d6e",
   "metadata": {},
   "outputs": [
    {
     "data": {
      "text/plain": [
       "<AxesSubplot:>"
      ]
     },
     "execution_count": 104,
     "metadata": {},
     "output_type": "execute_result"
    },
    {
     "data": {
      "image/png": "[encoded data removed]",
      "text/plain": [
       "<Figure size 432x288 with 1 Axes>"
      ]
     },
     "metadata": {
      "needs_background": "light"
     },
     "output_type": "display_data"
    }
   ],
   "source": [
    "excl_outliers['customer_lifetime_value'].hist()"
   ]
  },
  {
   "cell_type": "code",
   "execution_count": 105,
   "id": "6626ce40",
   "metadata": {},
   "outputs": [
    {
     "data": {
      "text/plain": [
       "(8317, 8)"
      ]
     },
     "execution_count": 105,
     "metadata": {},
     "output_type": "execute_result"
    }
   ],
   "source": [
    "excl_outliers.shape"
   ]
  },
  {
   "cell_type": "code",
   "execution_count": 106,
   "id": "c902b297",
   "metadata": {},
   "outputs": [
    {
     "name": "stdout",
     "output_type": "stream",
     "text": [
      "<class 'pandas.core.frame.DataFrame'>\n",
      "Int64Index: 8317 entries, 0 to 9133\n",
      "Data columns (total 8 columns):\n",
      " #   Column                         Non-Null Count  Dtype  \n",
      "---  ------                         --------------  -----  \n",
      " 0   customer_lifetime_value        8317 non-null   float64\n",
      " 1   income                         8317 non-null   int64  \n",
      " 2   monthly_premium_auto           8317 non-null   int64  \n",
      " 3   months_since_last_claim        8317 non-null   int64  \n",
      " 4   months_since_policy_inception  8317 non-null   int64  \n",
      " 5   number_of_open_complaints      8317 non-null   int64  \n",
      " 6   number_of_policies             8317 non-null   int64  \n",
      " 7   effective_to_date_month        8317 non-null   int64  \n",
      "dtypes: float64(1), int64(7)\n",
      "memory usage: 584.8 KB\n"
     ]
    }
   ],
   "source": [
    "excl_outliers.info()"
   ]
  },
  {
   "cell_type": "code",
   "execution_count": 107,
   "id": "5333ea88",
   "metadata": {},
   "outputs": [
    {
     "data": {
      "text/html": [
       "<div>\n",
       "<style scoped>\n",
       "    .dataframe tbody tr th:only-of-type {\n",
       "        vertical-align: middle;\n",
       "    }\n",
       "\n",
       "    .dataframe tbody tr th {\n",
       "        vertical-align: top;\n",
       "    }\n",
       "\n",
       "    .dataframe thead th {\n",
       "        text-align: right;\n",
       "    }\n",
       "</style>\n",
       "<table border=\"1\" class=\"dataframe\">\n",
       "  <thead>\n",
       "    <tr style=\"text-align: right;\">\n",
       "      <th></th>\n",
       "      <th>customer_lifetime_value</th>\n",
       "      <th>income</th>\n",
       "      <th>monthly_premium_auto</th>\n",
       "      <th>months_since_last_claim</th>\n",
       "      <th>months_since_policy_inception</th>\n",
       "      <th>number_of_open_complaints</th>\n",
       "      <th>number_of_policies</th>\n",
       "      <th>effective_to_date_month</th>\n",
       "    </tr>\n",
       "  </thead>\n",
       "  <tbody>\n",
       "    <tr>\n",
       "      <th>count</th>\n",
       "      <td>8317.000000</td>\n",
       "      <td>8317.000000</td>\n",
       "      <td>8317.000000</td>\n",
       "      <td>8317.000000</td>\n",
       "      <td>8317.000000</td>\n",
       "      <td>8317.000000</td>\n",
       "      <td>8317.000000</td>\n",
       "      <td>8317.000000</td>\n",
       "    </tr>\n",
       "    <tr>\n",
       "      <th>mean</th>\n",
       "      <td>6279.177892</td>\n",
       "      <td>37638.476855</td>\n",
       "      <td>90.949621</td>\n",
       "      <td>15.034387</td>\n",
       "      <td>48.063124</td>\n",
       "      <td>0.393171</td>\n",
       "      <td>3.037994</td>\n",
       "      <td>1.464350</td>\n",
       "    </tr>\n",
       "    <tr>\n",
       "      <th>std</th>\n",
       "      <td>3240.426385</td>\n",
       "      <td>30415.335684</td>\n",
       "      <td>31.047412</td>\n",
       "      <td>10.038850</td>\n",
       "      <td>27.920250</td>\n",
       "      <td>0.927140</td>\n",
       "      <td>2.470996</td>\n",
       "      <td>0.498757</td>\n",
       "    </tr>\n",
       "    <tr>\n",
       "      <th>min</th>\n",
       "      <td>1898.007675</td>\n",
       "      <td>0.000000</td>\n",
       "      <td>61.000000</td>\n",
       "      <td>0.000000</td>\n",
       "      <td>0.000000</td>\n",
       "      <td>0.000000</td>\n",
       "      <td>1.000000</td>\n",
       "      <td>1.000000</td>\n",
       "    </tr>\n",
       "    <tr>\n",
       "      <th>25%</th>\n",
       "      <td>3746.751625</td>\n",
       "      <td>0.000000</td>\n",
       "      <td>68.000000</td>\n",
       "      <td>6.000000</td>\n",
       "      <td>24.000000</td>\n",
       "      <td>0.000000</td>\n",
       "      <td>1.000000</td>\n",
       "      <td>1.000000</td>\n",
       "    </tr>\n",
       "    <tr>\n",
       "      <th>50%</th>\n",
       "      <td>5470.060561</td>\n",
       "      <td>33837.000000</td>\n",
       "      <td>81.000000</td>\n",
       "      <td>14.000000</td>\n",
       "      <td>48.000000</td>\n",
       "      <td>0.000000</td>\n",
       "      <td>2.000000</td>\n",
       "      <td>1.000000</td>\n",
       "    </tr>\n",
       "    <tr>\n",
       "      <th>75%</th>\n",
       "      <td>8162.617053</td>\n",
       "      <td>62229.000000</td>\n",
       "      <td>107.000000</td>\n",
       "      <td>23.000000</td>\n",
       "      <td>71.000000</td>\n",
       "      <td>0.000000</td>\n",
       "      <td>4.000000</td>\n",
       "      <td>2.000000</td>\n",
       "    </tr>\n",
       "    <tr>\n",
       "      <th>max</th>\n",
       "      <td>16407.664610</td>\n",
       "      <td>99981.000000</td>\n",
       "      <td>298.000000</td>\n",
       "      <td>35.000000</td>\n",
       "      <td>99.000000</td>\n",
       "      <td>5.000000</td>\n",
       "      <td>9.000000</td>\n",
       "      <td>2.000000</td>\n",
       "    </tr>\n",
       "  </tbody>\n",
       "</table>\n",
       "</div>"
      ],
      "text/plain": [
       "       customer_lifetime_value        income  monthly_premium_auto  \\\n",
       "count              8317.000000   8317.000000           8317.000000   \n",
       "mean               6279.177892  37638.476855             90.949621   \n",
       "std                3240.426385  30415.335684             31.047412   \n",
       "min                1898.007675      0.000000             61.000000   \n",
       "25%                3746.751625      0.000000             68.000000   \n",
       "50%                5470.060561  33837.000000             81.000000   \n",
       "75%                8162.617053  62229.000000            107.000000   \n",
       "max               16407.664610  99981.000000            298.000000   \n",
       "\n",
       "       months_since_last_claim  months_since_policy_inception  \\\n",
       "count              8317.000000                    8317.000000   \n",
       "mean                 15.034387                      48.063124   \n",
       "std                  10.038850                      27.920250   \n",
       "min                   0.000000                       0.000000   \n",
       "25%                   6.000000                      24.000000   \n",
       "50%                  14.000000                      48.000000   \n",
       "75%                  23.000000                      71.000000   \n",
       "max                  35.000000                      99.000000   \n",
       "\n",
       "       number_of_open_complaints  number_of_policies  effective_to_date_month  \n",
       "count                8317.000000         8317.000000              8317.000000  \n",
       "mean                    0.393171            3.037994                 1.464350  \n",
       "std                     0.927140            2.470996                 0.498757  \n",
       "min                     0.000000            1.000000                 1.000000  \n",
       "25%                     0.000000            1.000000                 1.000000  \n",
       "50%                     0.000000            2.000000                 1.000000  \n",
       "75%                     0.000000            4.000000                 2.000000  \n",
       "max                     5.000000            9.000000                 2.000000  "
      ]
     },
     "execution_count": 107,
     "metadata": {},
     "output_type": "execute_result"
    }
   ],
   "source": [
    "excl_outliers.describe()"
   ]
  },
  {
   "cell_type": "markdown",
   "id": "3567199d",
   "metadata": {},
   "source": [
    "**Re-scaling**"
   ]
  },
  {
   "cell_type": "code",
   "execution_count": 108,
   "id": "a9bc01c2",
   "metadata": {},
   "outputs": [],
   "source": [
    "def log_transform_clean(x):\n",
    "    x=np.log(x)\n",
    "    if np.isfinite(x):\n",
    "        return x\n",
    "    else:\n",
    "        return np.NAN\n",
    "\n",
    "x_num['customer_lifetime_value_log']=list(map(log_transform_clean,x_num['customer_lifetime_value']))"
   ]
  },
  {
   "cell_type": "code",
   "execution_count": 109,
   "id": "5d13d55f",
   "metadata": {},
   "outputs": [
    {
     "data": {
      "text/plain": [
       "<AxesSubplot:>"
      ]
     },
     "execution_count": 109,
     "metadata": {},
     "output_type": "execute_result"
    },
    {
     "data": {
      "image/png": "[encoded data removed]",
      "text/plain": [
       "<Figure size 432x288 with 1 Axes>"
      ]
     },
     "metadata": {
      "needs_background": "light"
     },
     "output_type": "display_data"
    }
   ],
   "source": [
    "x_num['customer_lifetime_value_log'].hist()"
   ]
  },
  {
   "cell_type": "code",
   "execution_count": 110,
   "id": "42869cc8",
   "metadata": {},
   "outputs": [],
   "source": [
    "x_num['customer_lifetime_value_log']=x_num['customer_lifetime_value_log'].fillna(np.mean(x_num['customer_lifetime_value_log']))"
   ]
  },
  {
   "cell_type": "code",
   "execution_count": 111,
   "id": "b3208eac",
   "metadata": {},
   "outputs": [
    {
     "name": "stdout",
     "output_type": "stream",
     "text": [
      "<class 'pandas.core.frame.DataFrame'>\n",
      "RangeIndex: 9134 entries, 0 to 9133\n",
      "Data columns (total 9 columns):\n",
      " #   Column                         Non-Null Count  Dtype  \n",
      "---  ------                         --------------  -----  \n",
      " 0   customer_lifetime_value        9134 non-null   float64\n",
      " 1   income                         9134 non-null   int64  \n",
      " 2   monthly_premium_auto           9134 non-null   int64  \n",
      " 3   months_since_last_claim        9134 non-null   int64  \n",
      " 4   months_since_policy_inception  9134 non-null   int64  \n",
      " 5   number_of_open_complaints      9134 non-null   int64  \n",
      " 6   number_of_policies             9134 non-null   int64  \n",
      " 7   effective_to_date_month        9134 non-null   int64  \n",
      " 8   customer_lifetime_value_log    9134 non-null   float64\n",
      "dtypes: float64(2), int64(7)\n",
      "memory usage: 642.4 KB\n"
     ]
    }
   ],
   "source": [
    "x_num.info()"
   ]
  },
  {
   "cell_type": "code",
   "execution_count": 112,
   "id": "b82d17b3",
   "metadata": {},
   "outputs": [],
   "source": [
    "x_num=x_num.drop(['customer_lifetime_value'], axis=1) # replacing the column"
   ]
  },
  {
   "cell_type": "code",
   "execution_count": 113,
   "id": "c936d2b5",
   "metadata": {},
   "outputs": [],
   "source": [
    "from sklearn.preprocessing import MinMaxScaler \n",
    "\n",
    "transform=MinMaxScaler().fit(x_num)\n",
    "x_mmscaled=transform.transform(x_num)"
   ]
  },
  {
   "cell_type": "code",
   "execution_count": 114,
   "id": "f398812d",
   "metadata": {},
   "outputs": [
    {
     "data": {
      "text/plain": [
       "(9134, 8)"
      ]
     },
     "execution_count": 114,
     "metadata": {},
     "output_type": "execute_result"
    }
   ],
   "source": [
    "x_mmscaled.shape"
   ]
  },
  {
   "cell_type": "code",
   "execution_count": 115,
   "id": "e847c4ae",
   "metadata": {},
   "outputs": [],
   "source": [
    "scaled=pd.DataFrame(x_mmscaled)"
   ]
  },
  {
   "cell_type": "code",
   "execution_count": 116,
   "id": "9271e922",
   "metadata": {},
   "outputs": [
    {
     "data": {
      "text/plain": [
       "(9134, 8)"
      ]
     },
     "execution_count": 116,
     "metadata": {},
     "output_type": "execute_result"
    }
   ],
   "source": [
    "x_num.shape"
   ]
  },
  {
   "cell_type": "markdown",
   "id": "646e8237",
   "metadata": {},
   "source": [
    "**Pre-processing categorical data**"
   ]
  },
  {
   "cell_type": "code",
   "execution_count": 117,
   "id": "ed2e5f3f",
   "metadata": {},
   "outputs": [
    {
     "data": {
      "text/html": [
       "<div>\n",
       "<style scoped>\n",
       "    .dataframe tbody tr th:only-of-type {\n",
       "        vertical-align: middle;\n",
       "    }\n",
       "\n",
       "    .dataframe tbody tr th {\n",
       "        vertical-align: top;\n",
       "    }\n",
       "\n",
       "    .dataframe thead th {\n",
       "        text-align: right;\n",
       "    }\n",
       "</style>\n",
       "<table border=\"1\" class=\"dataframe\">\n",
       "  <thead>\n",
       "    <tr style=\"text-align: right;\">\n",
       "      <th></th>\n",
       "      <th>customer</th>\n",
       "      <th>state</th>\n",
       "      <th>response</th>\n",
       "      <th>coverage</th>\n",
       "      <th>education</th>\n",
       "      <th>effective_to_date</th>\n",
       "      <th>employmentstatus</th>\n",
       "      <th>gender</th>\n",
       "      <th>location_code</th>\n",
       "      <th>marital_status</th>\n",
       "      <th>policy_type</th>\n",
       "      <th>policy</th>\n",
       "      <th>renew_offer_type</th>\n",
       "      <th>sales_channel</th>\n",
       "      <th>vehicle_class</th>\n",
       "      <th>vehicle_size</th>\n",
       "    </tr>\n",
       "  </thead>\n",
       "  <tbody>\n",
       "    <tr>\n",
       "      <th>0</th>\n",
       "      <td>BU79786</td>\n",
       "      <td>Washington</td>\n",
       "      <td>No</td>\n",
       "      <td>Basic</td>\n",
       "      <td>Bachelor</td>\n",
       "      <td>2011-02-24</td>\n",
       "      <td>Employed</td>\n",
       "      <td>F</td>\n",
       "      <td>Suburban</td>\n",
       "      <td>Married</td>\n",
       "      <td>Corporate Auto</td>\n",
       "      <td>Corporate L3</td>\n",
       "      <td>Offer1</td>\n",
       "      <td>Agent</td>\n",
       "      <td>Two-Door Car</td>\n",
       "      <td>Medsize</td>\n",
       "    </tr>\n",
       "    <tr>\n",
       "      <th>1</th>\n",
       "      <td>QZ44356</td>\n",
       "      <td>Arizona</td>\n",
       "      <td>No</td>\n",
       "      <td>Extended</td>\n",
       "      <td>Bachelor</td>\n",
       "      <td>2011-01-31</td>\n",
       "      <td>Unemployed</td>\n",
       "      <td>F</td>\n",
       "      <td>Suburban</td>\n",
       "      <td>Single</td>\n",
       "      <td>Personal Auto</td>\n",
       "      <td>Personal L3</td>\n",
       "      <td>Offer3</td>\n",
       "      <td>Agent</td>\n",
       "      <td>Four-Door Car</td>\n",
       "      <td>Medsize</td>\n",
       "    </tr>\n",
       "    <tr>\n",
       "      <th>2</th>\n",
       "      <td>AI49188</td>\n",
       "      <td>Nevada</td>\n",
       "      <td>No</td>\n",
       "      <td>Premium</td>\n",
       "      <td>Bachelor</td>\n",
       "      <td>2011-02-19</td>\n",
       "      <td>Employed</td>\n",
       "      <td>F</td>\n",
       "      <td>Suburban</td>\n",
       "      <td>Married</td>\n",
       "      <td>Personal Auto</td>\n",
       "      <td>Personal L3</td>\n",
       "      <td>Offer1</td>\n",
       "      <td>Agent</td>\n",
       "      <td>Two-Door Car</td>\n",
       "      <td>Medsize</td>\n",
       "    </tr>\n",
       "    <tr>\n",
       "      <th>3</th>\n",
       "      <td>WW63253</td>\n",
       "      <td>California</td>\n",
       "      <td>No</td>\n",
       "      <td>Basic</td>\n",
       "      <td>Bachelor</td>\n",
       "      <td>2011-01-20</td>\n",
       "      <td>Unemployed</td>\n",
       "      <td>M</td>\n",
       "      <td>Suburban</td>\n",
       "      <td>Married</td>\n",
       "      <td>Corporate Auto</td>\n",
       "      <td>Corporate L2</td>\n",
       "      <td>Offer1</td>\n",
       "      <td>Call Center</td>\n",
       "      <td>SUV</td>\n",
       "      <td>Medsize</td>\n",
       "    </tr>\n",
       "    <tr>\n",
       "      <th>4</th>\n",
       "      <td>HB64268</td>\n",
       "      <td>Washington</td>\n",
       "      <td>No</td>\n",
       "      <td>Basic</td>\n",
       "      <td>Bachelor</td>\n",
       "      <td>2011-02-03</td>\n",
       "      <td>Employed</td>\n",
       "      <td>M</td>\n",
       "      <td>Rural</td>\n",
       "      <td>Single</td>\n",
       "      <td>Personal Auto</td>\n",
       "      <td>Personal L1</td>\n",
       "      <td>Offer1</td>\n",
       "      <td>Agent</td>\n",
       "      <td>Four-Door Car</td>\n",
       "      <td>Medsize</td>\n",
       "    </tr>\n",
       "    <tr>\n",
       "      <th>...</th>\n",
       "      <td>...</td>\n",
       "      <td>...</td>\n",
       "      <td>...</td>\n",
       "      <td>...</td>\n",
       "      <td>...</td>\n",
       "      <td>...</td>\n",
       "      <td>...</td>\n",
       "      <td>...</td>\n",
       "      <td>...</td>\n",
       "      <td>...</td>\n",
       "      <td>...</td>\n",
       "      <td>...</td>\n",
       "      <td>...</td>\n",
       "      <td>...</td>\n",
       "      <td>...</td>\n",
       "      <td>...</td>\n",
       "    </tr>\n",
       "    <tr>\n",
       "      <th>9129</th>\n",
       "      <td>LA72316</td>\n",
       "      <td>California</td>\n",
       "      <td>No</td>\n",
       "      <td>Basic</td>\n",
       "      <td>Bachelor</td>\n",
       "      <td>2011-02-10</td>\n",
       "      <td>Employed</td>\n",
       "      <td>M</td>\n",
       "      <td>Urban</td>\n",
       "      <td>Married</td>\n",
       "      <td>Personal Auto</td>\n",
       "      <td>Personal L1</td>\n",
       "      <td>Offer2</td>\n",
       "      <td>Web</td>\n",
       "      <td>Four-Door Car</td>\n",
       "      <td>Medsize</td>\n",
       "    </tr>\n",
       "    <tr>\n",
       "      <th>9130</th>\n",
       "      <td>PK87824</td>\n",
       "      <td>California</td>\n",
       "      <td>Yes</td>\n",
       "      <td>Extended</td>\n",
       "      <td>College</td>\n",
       "      <td>2011-02-12</td>\n",
       "      <td>Employed</td>\n",
       "      <td>F</td>\n",
       "      <td>Suburban</td>\n",
       "      <td>Divorced</td>\n",
       "      <td>Corporate Auto</td>\n",
       "      <td>Corporate L3</td>\n",
       "      <td>Offer1</td>\n",
       "      <td>Branch</td>\n",
       "      <td>Four-Door Car</td>\n",
       "      <td>Medsize</td>\n",
       "    </tr>\n",
       "    <tr>\n",
       "      <th>9131</th>\n",
       "      <td>TD14365</td>\n",
       "      <td>California</td>\n",
       "      <td>No</td>\n",
       "      <td>Extended</td>\n",
       "      <td>Bachelor</td>\n",
       "      <td>2011-02-06</td>\n",
       "      <td>Unemployed</td>\n",
       "      <td>M</td>\n",
       "      <td>Suburban</td>\n",
       "      <td>Single</td>\n",
       "      <td>Corporate Auto</td>\n",
       "      <td>Corporate L2</td>\n",
       "      <td>Offer1</td>\n",
       "      <td>Branch</td>\n",
       "      <td>Four-Door Car</td>\n",
       "      <td>Medsize</td>\n",
       "    </tr>\n",
       "    <tr>\n",
       "      <th>9132</th>\n",
       "      <td>UP19263</td>\n",
       "      <td>California</td>\n",
       "      <td>No</td>\n",
       "      <td>Extended</td>\n",
       "      <td>College</td>\n",
       "      <td>2011-02-03</td>\n",
       "      <td>Employed</td>\n",
       "      <td>M</td>\n",
       "      <td>Suburban</td>\n",
       "      <td>Married</td>\n",
       "      <td>Personal Auto</td>\n",
       "      <td>Personal L2</td>\n",
       "      <td>Offer3</td>\n",
       "      <td>Branch</td>\n",
       "      <td>Four-Door Car</td>\n",
       "      <td>Large</td>\n",
       "    </tr>\n",
       "    <tr>\n",
       "      <th>9133</th>\n",
       "      <td>Y167826</td>\n",
       "      <td>California</td>\n",
       "      <td>No</td>\n",
       "      <td>Extended</td>\n",
       "      <td>College</td>\n",
       "      <td>2011-02-14</td>\n",
       "      <td>Unemployed</td>\n",
       "      <td>M</td>\n",
       "      <td>Suburban</td>\n",
       "      <td>Single</td>\n",
       "      <td>Corporate Auto</td>\n",
       "      <td>Corporate L3</td>\n",
       "      <td>Offer4</td>\n",
       "      <td>Call Center</td>\n",
       "      <td>Two-Door Car</td>\n",
       "      <td>Medsize</td>\n",
       "    </tr>\n",
       "  </tbody>\n",
       "</table>\n",
       "<p>9134 rows × 16 columns</p>\n",
       "</div>"
      ],
      "text/plain": [
       "     customer       state response  coverage education effective_to_date  \\\n",
       "0     BU79786  Washington       No     Basic  Bachelor        2011-02-24   \n",
       "1     QZ44356     Arizona       No  Extended  Bachelor        2011-01-31   \n",
       "2     AI49188      Nevada       No   Premium  Bachelor        2011-02-19   \n",
       "3     WW63253  California       No     Basic  Bachelor        2011-01-20   \n",
       "4     HB64268  Washington       No     Basic  Bachelor        2011-02-03   \n",
       "...       ...         ...      ...       ...       ...               ...   \n",
       "9129  LA72316  California       No     Basic  Bachelor        2011-02-10   \n",
       "9130  PK87824  California      Yes  Extended   College        2011-02-12   \n",
       "9131  TD14365  California       No  Extended  Bachelor        2011-02-06   \n",
       "9132  UP19263  California       No  Extended   College        2011-02-03   \n",
       "9133  Y167826  California       No  Extended   College        2011-02-14   \n",
       "\n",
       "     employmentstatus gender location_code marital_status     policy_type  \\\n",
       "0            Employed      F      Suburban        Married  Corporate Auto   \n",
       "1          Unemployed      F      Suburban         Single   Personal Auto   \n",
       "2            Employed      F      Suburban        Married   Personal Auto   \n",
       "3          Unemployed      M      Suburban        Married  Corporate Auto   \n",
       "4            Employed      M         Rural         Single   Personal Auto   \n",
       "...               ...    ...           ...            ...             ...   \n",
       "9129         Employed      M         Urban        Married   Personal Auto   \n",
       "9130         Employed      F      Suburban       Divorced  Corporate Auto   \n",
       "9131       Unemployed      M      Suburban         Single  Corporate Auto   \n",
       "9132         Employed      M      Suburban        Married   Personal Auto   \n",
       "9133       Unemployed      M      Suburban         Single  Corporate Auto   \n",
       "\n",
       "            policy renew_offer_type sales_channel  vehicle_class vehicle_size  \n",
       "0     Corporate L3           Offer1         Agent   Two-Door Car      Medsize  \n",
       "1      Personal L3           Offer3         Agent  Four-Door Car      Medsize  \n",
       "2      Personal L3           Offer1         Agent   Two-Door Car      Medsize  \n",
       "3     Corporate L2           Offer1   Call Center            SUV      Medsize  \n",
       "4      Personal L1           Offer1         Agent  Four-Door Car      Medsize  \n",
       "...            ...              ...           ...            ...          ...  \n",
       "9129   Personal L1           Offer2           Web  Four-Door Car      Medsize  \n",
       "9130  Corporate L3           Offer1        Branch  Four-Door Car      Medsize  \n",
       "9131  Corporate L2           Offer1        Branch  Four-Door Car      Medsize  \n",
       "9132   Personal L2           Offer3        Branch  Four-Door Car        Large  \n",
       "9133  Corporate L3           Offer4   Call Center   Two-Door Car      Medsize  \n",
       "\n",
       "[9134 rows x 16 columns]"
      ]
     },
     "execution_count": 117,
     "metadata": {},
     "output_type": "execute_result"
    }
   ],
   "source": [
    "x_cat"
   ]
  },
  {
   "cell_type": "code",
   "execution_count": 118,
   "id": "aab935e6",
   "metadata": {},
   "outputs": [
    {
     "name": "stdout",
     "output_type": "stream",
     "text": [
      "<class 'pandas.core.frame.DataFrame'>\n",
      "RangeIndex: 9134 entries, 0 to 9133\n",
      "Data columns (total 16 columns):\n",
      " #   Column             Non-Null Count  Dtype \n",
      "---  ------             --------------  ----- \n",
      " 0   customer           9134 non-null   object\n",
      " 1   state              9134 non-null   object\n",
      " 2   response           9134 non-null   object\n",
      " 3   coverage           9134 non-null   object\n",
      " 4   education          9134 non-null   object\n",
      " 5   effective_to_date  9134 non-null   object\n",
      " 6   employmentstatus   9134 non-null   object\n",
      " 7   gender             9134 non-null   object\n",
      " 8   location_code      9134 non-null   object\n",
      " 9   marital_status     9134 non-null   object\n",
      " 10  policy_type        9134 non-null   object\n",
      " 11  policy             9134 non-null   object\n",
      " 12  renew_offer_type   9134 non-null   object\n",
      " 13  sales_channel      9134 non-null   object\n",
      " 14  vehicle_class      9134 non-null   object\n",
      " 15  vehicle_size       9134 non-null   object\n",
      "dtypes: object(16)\n",
      "memory usage: 1.1+ MB\n"
     ]
    }
   ],
   "source": [
    "x_cat.info()"
   ]
  },
  {
   "cell_type": "markdown",
   "id": "91cb50e0",
   "metadata": {},
   "source": [
    "**Encoding categorical data fields using OHE**"
   ]
  },
  {
   "cell_type": "code",
   "execution_count": 119,
   "id": "40a03819",
   "metadata": {},
   "outputs": [
    {
     "data": {
      "text/plain": [
       "array([[0., 0., 0., ..., 1., 1., 0.],\n",
       "       [0., 0., 0., ..., 0., 1., 0.],\n",
       "       [0., 0., 0., ..., 1., 1., 0.],\n",
       "       ...,\n",
       "       [0., 0., 0., ..., 0., 1., 0.],\n",
       "       [0., 0., 0., ..., 0., 0., 0.],\n",
       "       [0., 0., 0., ..., 1., 1., 0.]])"
      ]
     },
     "execution_count": 119,
     "metadata": {},
     "output_type": "execute_result"
    }
   ],
   "source": [
    "from sklearn.preprocessing import OneHotEncoder\n",
    "encoder = OneHotEncoder(handle_unknown='error', drop='first').fit(x_cat)\n",
    "encoded = encoder.transform(x_cat).toarray()\n",
    "encoded"
   ]
  },
  {
   "cell_type": "code",
   "execution_count": 120,
   "id": "04f6d2b9",
   "metadata": {},
   "outputs": [],
   "source": [
    "x_cat=encoded"
   ]
  },
  {
   "cell_type": "code",
   "execution_count": 121,
   "id": "8c644fbf",
   "metadata": {},
   "outputs": [
    {
     "data": {
      "text/plain": [
       "(9134,)"
      ]
     },
     "execution_count": 121,
     "metadata": {},
     "output_type": "execute_result"
    }
   ],
   "source": [
    "y.shape"
   ]
  },
  {
   "cell_type": "code",
   "execution_count": 122,
   "id": "8e9c628e",
   "metadata": {},
   "outputs": [
    {
     "data": {
      "text/plain": [
       "(9134, 9234)"
      ]
     },
     "execution_count": 122,
     "metadata": {},
     "output_type": "execute_result"
    }
   ],
   "source": [
    "x_cat.shape"
   ]
  },
  {
   "cell_type": "code",
   "execution_count": 123,
   "id": "34c57ea9",
   "metadata": {},
   "outputs": [
    {
     "data": {
      "text/plain": [
       "(9134, 8)"
      ]
     },
     "execution_count": 123,
     "metadata": {},
     "output_type": "execute_result"
    }
   ],
   "source": [
    "x_num.shape"
   ]
  },
  {
   "cell_type": "markdown",
   "id": "0816c78b",
   "metadata": {},
   "source": [
    "**Concatenating**"
   ]
  },
  {
   "cell_type": "code",
   "execution_count": 124,
   "id": "c0b78033",
   "metadata": {},
   "outputs": [],
   "source": [
    "x=np.concatenate((x_num,x_cat),axis=1)"
   ]
  },
  {
   "cell_type": "code",
   "execution_count": 125,
   "id": "3355a60a",
   "metadata": {},
   "outputs": [
    {
     "data": {
      "text/plain": [
       "(9134, 9242)"
      ]
     },
     "execution_count": 125,
     "metadata": {},
     "output_type": "execute_result"
    }
   ],
   "source": [
    "x.shape"
   ]
  },
  {
   "cell_type": "code",
   "execution_count": 126,
   "id": "53765841",
   "metadata": {},
   "outputs": [
    {
     "data": {
      "text/plain": [
       "(9134,)"
      ]
     },
     "execution_count": 126,
     "metadata": {},
     "output_type": "execute_result"
    }
   ],
   "source": [
    "y.shape"
   ]
  },
  {
   "cell_type": "markdown",
   "id": "9d6f4a20",
   "metadata": {},
   "source": [
    "**Clarifying the variables for the objective**"
   ]
  },
  {
   "cell_type": "code",
   "execution_count": 127,
   "id": "c24b85dd",
   "metadata": {},
   "outputs": [],
   "source": [
    "y=data_num['total_claim_amount']"
   ]
  },
  {
   "cell_type": "code",
   "execution_count": 128,
   "id": "98a3f176",
   "metadata": {},
   "outputs": [],
   "source": [
    "x=data_num.drop(['total_claim_amount'],axis=1)"
   ]
  },
  {
   "cell_type": "markdown",
   "id": "c0d26cf2",
   "metadata": {},
   "source": [
    "**Splitting into train set and test dataset**"
   ]
  },
  {
   "cell_type": "code",
   "execution_count": 129,
   "id": "cceca796",
   "metadata": {},
   "outputs": [],
   "source": [
    "from sklearn.model_selection import train_test_split"
   ]
  },
  {
   "cell_type": "code",
   "execution_count": 130,
   "id": "fd19daaf",
   "metadata": {},
   "outputs": [],
   "source": [
    "x_train, x_test, y_train, y_test = train_test_split(x,y, test_size=0.2, random_state=10)"
   ]
  },
  {
   "cell_type": "markdown",
   "id": "13d1378a",
   "metadata": {},
   "source": [
    "**05.Modeling**"
   ]
  },
  {
   "cell_type": "markdown",
   "id": "08123881",
   "metadata": {},
   "source": [
    "**Applying the model**"
   ]
  },
  {
   "cell_type": "code",
   "execution_count": 131,
   "id": "9a60db28",
   "metadata": {},
   "outputs": [
    {
     "data": {
      "text/plain": [
       "0.5209470514210601"
      ]
     },
     "execution_count": 131,
     "metadata": {},
     "output_type": "execute_result"
    }
   ],
   "source": [
    "lm=linear_model.LinearRegression()\n",
    "model=lm.fit(x_train,y_train)  \n",
    "predictions=lm.predict(x_test) \n",
    "r2_score(y_test, predictions)"
   ]
  },
  {
   "cell_type": "code",
   "execution_count": 132,
   "id": "58e89e5c",
   "metadata": {},
   "outputs": [
    {
     "data": {
      "text/plain": [
       "array([186.62972924, 462.50958194, 699.71205046, ..., 127.47719849,\n",
       "       469.98815588, 253.10704513])"
      ]
     },
     "execution_count": 132,
     "metadata": {},
     "output_type": "execute_result"
    }
   ],
   "source": [
    "predictions"
   ]
  },
  {
   "cell_type": "code",
   "execution_count": 133,
   "id": "b53ca79a",
   "metadata": {},
   "outputs": [
    {
     "data": {
      "text/plain": [
       "(1827, 9)"
      ]
     },
     "execution_count": 133,
     "metadata": {},
     "output_type": "execute_result"
    }
   ],
   "source": [
    "x_test.shape"
   ]
  },
  {
   "cell_type": "code",
   "execution_count": 134,
   "id": "f55f8464",
   "metadata": {},
   "outputs": [
    {
     "data": {
      "text/plain": [
       "(1827,)"
      ]
     },
     "execution_count": 134,
     "metadata": {},
     "output_type": "execute_result"
    }
   ],
   "source": [
    "y_test.shape"
   ]
  },
  {
   "cell_type": "markdown",
   "id": "706cbdf6",
   "metadata": {},
   "source": [
    "**06.Model Validation**"
   ]
  },
  {
   "cell_type": "code",
   "execution_count": 135,
   "id": "a616ed38",
   "metadata": {},
   "outputs": [
    {
     "data": {
      "text/plain": [
       "0.5209470514210601"
      ]
     },
     "execution_count": 135,
     "metadata": {},
     "output_type": "execute_result"
    }
   ],
   "source": [
    "r2_score(y_test, predictions)"
   ]
  },
  {
   "cell_type": "code",
   "execution_count": 137,
   "id": "56681edc",
   "metadata": {},
   "outputs": [
    {
     "data": {
      "text/plain": [
       "39829.61273193308"
      ]
     },
     "execution_count": 137,
     "metadata": {},
     "output_type": "execute_result"
    }
   ],
   "source": [
    "mse=mean_squared_error(y_test, predictions)\n",
    "mse"
   ]
  },
  {
   "cell_type": "code",
   "execution_count": 138,
   "id": "6618fed2",
   "metadata": {},
   "outputs": [
    {
     "data": {
      "text/plain": [
       "199.57357723890473"
      ]
     },
     "execution_count": 138,
     "metadata": {},
     "output_type": "execute_result"
    }
   ],
   "source": [
    "rmse=np.sqrt(mse)\n",
    "rmse"
   ]
  },
  {
   "cell_type": "markdown",
   "id": "5611fa43",
   "metadata": {},
   "source": [
    "_(I don't know which validation is better for this case study. Looking at the output for r2_score, it seems like there is not a high accuracy)_"
   ]
  }
 ],
 "metadata": {
  "kernelspec": {
   "display_name": "Python 3",
   "language": "python",
   "name": "python3"
  },
  "language_info": {
   "codemirror_mode": {
    "name": "ipython",
    "version": 3
   },
   "file_extension": ".py",
   "mimetype": "text/x-python",
   "name": "python",
   "nbconvert_exporter": "python",
   "pygments_lexer": "ipython3",
   "version": "3.8.8"
  }
 },
 "nbformat": 4,
 "nbformat_minor": 5
}
